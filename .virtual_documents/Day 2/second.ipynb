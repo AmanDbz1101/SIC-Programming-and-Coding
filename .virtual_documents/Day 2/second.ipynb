print(1, 2, 3, sep="\n")


print(1, end=" ")
print(2, end=" ")
print(3, end=" ")


greet = "Welcome to 305"


dir(greet)


#Logical value
True ^ True #XOR operation


#Truthly value
a= 0
b = 1
a^b



