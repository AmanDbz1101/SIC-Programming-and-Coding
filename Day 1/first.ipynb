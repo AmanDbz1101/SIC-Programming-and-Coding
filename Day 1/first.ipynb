{
 "cells": [
  {
   "cell_type": "markdown",
   "metadata": {},
   "source": [
    "<h2>Introduction to Programming<h2>"
   ]
  },
  {
   "cell_type": "markdown",
   "metadata": {},
   "source": [
    "<h3>Programming Paradigms</h3>\n",
    "<h4>Imperative Programming</h4>\n",
    "It emphasizes changes in state and detailed steps to perform tasks"
   ]
  },
  {
   "cell_type": "markdown",
   "metadata": {},
   "source": [
    "<h4>Functional Programming</h4>\n"
   ]
  },
  {
   "cell_type": "code",
   "execution_count": 9,
   "metadata": {},
   "outputs": [
    {
     "name": "stdout",
     "output_type": "stream",
     "text": [
      "not prime\n"
     ]
    }
   ],
   "source": [
    "n = 9\n",
    "count=0\n",
    "for i in range (n):\n",
    "    if (i!=0):\n",
    "        if (n % i == 0):\n",
    "            count +=1\n",
    "        \n",
    "if count==1:\n",
    "    print(\" prime\")\n",
    "else:\n",
    "    print(\"not prime\")\n",
    "    "
   ]
  }
 ],
 "metadata": {
  "kernelspec": {
   "display_name": "base",
   "language": "python",
   "name": "python3"
  },
  "language_info": {
   "codemirror_mode": {
    "name": "ipython",
    "version": 3
   },
   "file_extension": ".py",
   "mimetype": "text/x-python",
   "name": "python",
   "nbconvert_exporter": "python",
   "pygments_lexer": "ipython3",
   "version": "3.11.7"
  }
 },
 "nbformat": 4,
 "nbformat_minor": 2
}
