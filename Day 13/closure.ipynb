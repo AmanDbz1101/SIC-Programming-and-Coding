{
 "cells": [
  {
   "cell_type": "code",
   "execution_count": 18,
   "metadata": {},
   "outputs": [
    {
     "name": "stdout",
     "output_type": "stream",
     "text": [
      "1\n",
      "2\n",
      "1\n"
     ]
    }
   ],
   "source": [
    "\n",
    "def counter():\n",
    "    n=1\n",
    "    def count():\n",
    "        nonlocal n\n",
    "        print(n)\n",
    "        n+=1\n",
    "    return count\n",
    "\n",
    "c1 = counter()\n",
    "c2 = counter()\n",
    "\n",
    "c1()\n",
    "c1()\n",
    "c2()\n"
   ]
  }
 ],
 "metadata": {
  "kernelspec": {
   "display_name": "base",
   "language": "python",
   "name": "python3"
  },
  "language_info": {
   "codemirror_mode": {
    "name": "ipython",
    "version": 3
   },
   "file_extension": ".py",
   "mimetype": "text/x-python",
   "name": "python",
   "nbconvert_exporter": "python",
   "pygments_lexer": "ipython3",
   "version": "3.11.7"
  }
 },
 "nbformat": 4,
 "nbformat_minor": 2
}
