{
 "cells": [
  {
   "cell_type": "code",
   "execution_count": 5,
   "metadata": {},
   "outputs": [
    {
     "name": "stdout",
     "output_type": "stream",
     "text": [
      "division by zero\n"
     ]
    }
   ],
   "source": [
    "try:\n",
    "    a = int(input(\"Enter a number\"))\n",
    "    b= 10/a\n",
    "except Exception as e:\n",
    "    print(e)"
   ]
  },
  {
   "cell_type": "code",
   "execution_count": 10,
   "metadata": {},
   "outputs": [
    {
     "name": "stdout",
     "output_type": "stream",
     "text": [
      "something went wrong\n"
     ]
    }
   ],
   "source": [
    "try:\n",
    "    a = int(input(\"Enter a number\"))\n",
    "    a = 1/a\n",
    "    b= b*c\n",
    "except ValueError:\n",
    "    print(\"it needs to be a number\")\n",
    "except ZeroDivisionError:\n",
    "    print(\"number cannot be zero\")\n",
    "except:\n",
    "    print(\"something went wrong\")"
   ]
  },
  {
   "cell_type": "markdown",
   "metadata": {},
   "source": [
    "finally will always run without any relation with existence of exceptions (It can be used when doing file handling to close the file at end. It is most likely used in with open('one.txt', 'w') as f:)"
   ]
  },
  {
   "cell_type": "code",
   "execution_count": 12,
   "metadata": {},
   "outputs": [
    {
     "name": "stdout",
     "output_type": "stream",
     "text": [
      "it needs to be a non zero number\n",
      "Completed\n"
     ]
    }
   ],
   "source": [
    "# two at once\n",
    "try:\n",
    "    a = int(input(\"Enter a number\"))\n",
    "    a = 1/a\n",
    "except( ValueError, ZeroDivisionError) :\n",
    "    print(\"it needs to be a non zero number\")\n",
    "finally:\n",
    "    print(\"Completed\")"
   ]
  },
  {
   "cell_type": "markdown",
   "metadata": {},
   "source": [
    "checking what pass and return returns and it seems they return None"
   ]
  },
  {
   "cell_type": "code",
   "execution_count": 14,
   "metadata": {},
   "outputs": [
    {
     "name": "stdout",
     "output_type": "stream",
     "text": [
      "None\n",
      "None\n"
     ]
    }
   ],
   "source": [
    "def func():\n",
    "    pass \n",
    "def func2():\n",
    "    return \n",
    "\n",
    "print(func())\n",
    "print(func2())"
   ]
  },
  {
   "cell_type": "code",
   "execution_count": 123,
   "metadata": {},
   "outputs": [
    {
     "name": "stdout",
     "output_type": "stream",
     "text": [
      "3/2=1.5\n",
      "2.2660402999899816\n"
     ]
    }
   ],
   "source": [
    "import time\n",
    "def div():\n",
    "    try:\n",
    "        t1 = time.perf_counter()\n",
    "        a = int(input(\"a = \"))\n",
    "        b = int(input(\"b = \"))\n",
    "        c = a/b \n",
    "    except ZeroDivisionError:\n",
    "        print(\"b cannot be zero\")\n",
    "    except ValueError:\n",
    "        print(\"Inputs are invalid\")\n",
    "    else:\n",
    "        print(f'{a}/{b}={c}')\n",
    "    finally:\n",
    "        t2 = time.perf_counter()\n",
    "        print(t2-t1)\n",
    "\n",
    "div()"
   ]
  },
  {
   "cell_type": "code",
   "execution_count": 121,
   "metadata": {},
   "outputs": [
    {
     "name": "stdout",
     "output_type": "stream",
     "text": [
      "b cannot be zero\n",
      "9.709998266771436e-05\n",
      "None\n"
     ]
    }
   ],
   "source": [
    "import time\n",
    "def div(a, b):\n",
    "    try:\n",
    "        t1 = time.perf_counter()\n",
    "\n",
    "        c = a/b \n",
    "        return c\n",
    "    except ZeroDivisionError:\n",
    "        print(\"b cannot be zero\")\n",
    "    except ValueError:\n",
    "        print(\"Inputs are invalid\")\n",
    "    finally:\n",
    "        t2 = time.perf_counter()\n",
    "        print(t2-t1)\n",
    "a = div(2, 0)\n",
    "print(a)"
   ]
  },
  {
   "cell_type": "markdown",
   "metadata": {},
   "source": [
    "## Regular Expressions"
   ]
  },
  {
   "cell_type": "code",
   "execution_count": 124,
   "metadata": {},
   "outputs": [],
   "source": [
    "import re"
   ]
  },
  {
   "cell_type": "code",
   "execution_count": 127,
   "metadata": {},
   "outputs": [
    {
     "data": {
      "text/plain": [
       "<re.Match object; span=(6, 8), match='ab'>"
      ]
     },
     "execution_count": 127,
     "metadata": {},
     "output_type": "execute_result"
    }
   ],
   "source": [
    "re.search(\"ab\", \"mnamanabagain\")\n"
   ]
  },
  {
   "cell_type": "code",
   "execution_count": 128,
   "metadata": {},
   "outputs": [
    {
     "name": "stdout",
     "output_type": "stream",
     "text": [
      "['ab', 'abb', 'abbb', 'a']\n"
     ]
    }
   ],
   "source": [
    "print(re.findall(\"ab*\", \"ab abb abbb a\"))"
   ]
  },
  {
   "cell_type": "code",
   "execution_count": 141,
   "metadata": {},
   "outputs": [
    {
     "data": {
      "text/plain": [
       "['hello',\n",
       " 'world',\n",
       " 'this',\n",
       " 'is',\n",
       " 'actually',\n",
       " 'seperating',\n",
       " 'the',\n",
       " 'words',\n",
       " 'and',\n",
       " 'also',\n",
       " 'removing',\n",
       " 'the',\n",
       " 'symbols',\n",
       " 'and',\n",
       " 'numbers',\n",
       " 'let',\n",
       " 's',\n",
       " 'do',\n",
       " 'it']"
      ]
     },
     "execution_count": 141,
     "metadata": {},
     "output_type": "execute_result"
    }
   ],
   "source": [
    "re.findall(\"[a-z]+\", \"hello world, this is actually seperating the words and also removing the symbols and numbers 1 let's do it\")"
   ]
  },
  {
   "cell_type": "code",
   "execution_count": 136,
   "metadata": {},
   "outputs": [
    {
     "data": {
      "text/plain": [
       "['12', '34']"
      ]
     },
     "execution_count": 136,
     "metadata": {},
     "output_type": "execute_result"
    }
   ],
   "source": [
    "re.findall(r'\\d+', \"12hello34\")"
   ]
  },
  {
   "cell_type": "code",
   "execution_count": 137,
   "metadata": {},
   "outputs": [
    {
     "data": {
      "text/plain": [
       "['not a digit ']"
      ]
     },
     "execution_count": 137,
     "metadata": {},
     "output_type": "execute_result"
    }
   ],
   "source": [
    "#capital means non digits\n",
    "re.findall(r\"\\D+\", \"12not a digit 12\")"
   ]
  },
  {
   "cell_type": "code",
   "execution_count": 140,
   "metadata": {},
   "outputs": [
    {
     "data": {
      "text/plain": [
       "['hello',\n",
       " 'world,',\n",
       " 'this',\n",
       " \"doesn't\",\n",
       " 'remove',\n",
       " 'the',\n",
       " 'symbols',\n",
       " 'and',\n",
       " 'numbers',\n",
       " '22']"
      ]
     },
     "execution_count": 140,
     "metadata": {},
     "output_type": "execute_result"
    }
   ],
   "source": [
    "#remove space \n",
    "re.findall(r\"\\S+\", \"hello world, this doesn't remove the symbols and numbers 22\")"
   ]
  },
  {
   "cell_type": "code",
   "execution_count": 157,
   "metadata": {},
   "outputs": [
    {
     "name": "stdout",
     "output_type": "stream",
     "text": [
      "asd\\bun\\num\n",
      "['\\\\', '\\\\']\n"
     ]
    }
   ],
   "source": [
    "string =r\"asd\\bun\\num\" #another method \"asd\\\\bun\\\\num\"\n",
    "a = re.findall(r\"\\\\\", string)\n",
    "print(string)\n",
    "print(a)"
   ]
  },
  {
   "cell_type": "code",
   "execution_count": 183,
   "metadata": {},
   "outputs": [
    {
     "data": {
      "text/plain": [
       "['9772421432']"
      ]
     },
     "execution_count": 183,
     "metadata": {},
     "output_type": "execute_result"
    }
   ],
   "source": [
    "num = \"phone number : 977+ 9772421432\"\n",
    "num_pattern = r\"\"\n",
    "mob_num = re.findall(r\"\\d{10}\", num)\n",
    "mob_num"
   ]
  }
 ],
 "metadata": {
  "kernelspec": {
   "display_name": "base",
   "language": "python",
   "name": "python3"
  },
  "language_info": {
   "codemirror_mode": {
    "name": "ipython",
    "version": 3
   },
   "file_extension": ".py",
   "mimetype": "text/x-python",
   "name": "python",
   "nbconvert_exporter": "python",
   "pygments_lexer": "ipython3",
   "version": "3.11.7"
  }
 },
 "nbformat": 4,
 "nbformat_minor": 2
}
