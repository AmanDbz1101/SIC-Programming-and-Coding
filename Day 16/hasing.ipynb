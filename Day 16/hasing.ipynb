{
 "cells": [
  {
   "cell_type": "markdown",
   "metadata": {},
   "source": [
    "## Hashing\n",
    "Hashing is basically categorizing your data based on your key. It will use modulus to make sure that it falls under some category."
   ]
  },
  {
   "cell_type": "code",
   "execution_count": 34,
   "metadata": {},
   "outputs": [],
   "source": [
    "class HashTable:\n",
    "    def __init__(self, size):\n",
    "        self.size = size\n",
    "        self.table= {i:[] for i in range(size)}\n",
    "        # for i in range(size):\n",
    "        #     self.table[i] = []\n",
    "    \n",
    "    def hash(self, key):\n",
    "        return key %self.size\n",
    "    def get(self, key):\n",
    "        return self.table[self.hash(key)]\n",
    "\n",
    "    def put (self, key, value):\n",
    "        bucket = self.table[self.hash(key)]\n",
    "        if value not in bucket:\n",
    "            bucket.append(value)"
   ]
  },
  {
   "cell_type": "code",
   "execution_count": 35,
   "metadata": {},
   "outputs": [],
   "source": [
    "h = HashTable(5)\n",
    "h.hash(9)\n",
    "h.put(10, 5)\n",
    "h.put(4, 15)\n",
    "h.put(9, 11)"
   ]
  },
  {
   "cell_type": "code",
   "execution_count": 22,
   "metadata": {},
   "outputs": [
    {
     "data": {
      "text/plain": [
       "{0: [5], 1: [], 2: [], 3: [], 4: [15, 11]}"
      ]
     },
     "execution_count": 22,
     "metadata": {},
     "output_type": "execute_result"
    }
   ],
   "source": [
    "h.table"
   ]
  },
  {
   "cell_type": "code",
   "execution_count": null,
   "metadata": {},
   "outputs": [],
   "source": []
  }
 ],
 "metadata": {
  "kernelspec": {
   "display_name": "base",
   "language": "python",
   "name": "python3"
  },
  "language_info": {
   "codemirror_mode": {
    "name": "ipython",
    "version": 3
   },
   "file_extension": ".py",
   "mimetype": "text/x-python",
   "name": "python",
   "nbconvert_exporter": "python",
   "pygments_lexer": "ipython3",
   "version": "3.11.7"
  }
 },
 "nbformat": 4,
 "nbformat_minor": 2
}
