{
 "cells": [
  {
   "cell_type": "markdown",
   "metadata": {},
   "source": [
    "### Sequential search\n"
   ]
  },
  {
   "cell_type": "code",
   "execution_count": 41,
   "metadata": {},
   "outputs": [
    {
     "name": "stdout",
     "output_type": "stream",
     "text": [
      "96227043\n",
      "The egg is safe upto  96227041 -th\n"
     ]
    }
   ],
   "source": [
    "# egg dropping problem\n",
    "from random import randint \n",
    "\n",
    "floors = int (input(\"Enter the number of floors: \"))\n",
    "breaking_floor = randint(1, floors)\n",
    "print(breaking_floor)\n",
    "floor = find_highest_safe_floor(floors, breaking_floor)\n",
    "print(\"The egg is safe upto \", floor-1, \"-th\")"
   ]
  },
  {
   "cell_type": "code",
   "execution_count": 12,
   "metadata": {},
   "outputs": [],
   "source": [
    "def find_highest_safe_floor(floors, breaking_floor):\n",
    "    for floor in range(1, floors+1):\n",
    "        if (floor == breaking_floor):\n",
    "            return floor"
   ]
  },
  {
   "cell_type": "markdown",
   "metadata": {},
   "source": [
    "### Binary Search\n"
   ]
  },
  {
   "cell_type": "code",
   "execution_count": 42,
   "metadata": {},
   "outputs": [
    {
     "name": "stdout",
     "output_type": "stream",
     "text": [
      "949680635\n",
      "The egg is safe upto  949680634 -th\n"
     ]
    }
   ],
   "source": [
    "floors = int (input(\"Enter the number of floors: \"))\n",
    "breaking_floor = randint(1, floors)\n",
    "print(breaking_floor)\n",
    "floor = binary_search(floors, breaking_floor)\n",
    "print(\"The egg is safe upto \", floor-1, \"-th\")"
   ]
  },
  {
   "cell_type": "markdown",
   "metadata": {},
   "source": [
    "1, 2, 3, 4, 5, 6, 7, 8, 9 , 10            9\n",
    "5, 6, 7, 8, 9, 10\n",
    "7, 8, 9, 10 \n",
    "8, 9, 10\n",
    "9\n"
   ]
  },
  {
   "cell_type": "code",
   "execution_count": 28,
   "metadata": {},
   "outputs": [],
   "source": [
    "def binary_search(floors, brf):\n",
    "    l = 1\n",
    "    h = floors \n",
    "    while(l<=h ):\n",
    "        m = int((l+h)/2)\n",
    "        if (m== brf):\n",
    "            return m\n",
    "        elif (m >brf):\n",
    "            h = m-1 \n",
    "        else:\n",
    "            l = m+1 \n",
    "        \n",
    "\n",
    "      \n",
    "        "
   ]
  },
  {
   "cell_type": "code",
   "execution_count": 44,
   "metadata": {},
   "outputs": [
    {
     "name": "stdout",
     "output_type": "stream",
     "text": [
      "519651605674\n",
      "The egg is safe upto  519651605673 -th\n"
     ]
    }
   ],
   "source": [
    "floors = int (input(\"Enter the number of floors: \"))\n",
    "breaking_floor = randint(1, floors)\n",
    "print(breaking_floor)\n",
    "floor = binary_search(floors, breaking_floor)\n",
    "print(\"The egg is safe upto \", floor-1, \"-th\")"
   ]
  },
  {
   "cell_type": "code",
   "execution_count": null,
   "metadata": {},
   "outputs": [],
   "source": []
  }
 ],
 "metadata": {
  "kernelspec": {
   "display_name": "base",
   "language": "python",
   "name": "python3"
  },
  "language_info": {
   "codemirror_mode": {
    "name": "ipython",
    "version": 3
   },
   "file_extension": ".py",
   "mimetype": "text/x-python",
   "name": "python",
   "nbconvert_exporter": "python",
   "pygments_lexer": "ipython3",
   "version": "3.11.7"
  }
 },
 "nbformat": 4,
 "nbformat_minor": 2
}
