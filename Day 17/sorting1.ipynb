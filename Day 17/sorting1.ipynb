{
 "cells": [
  {
   "cell_type": "code",
   "execution_count": 21,
   "metadata": {},
   "outputs": [
    {
     "name": "stdout",
     "output_type": "stream",
     "text": [
      "[80, 36, 78, 87, 96, 93, 59, 83, 28, 93]\n"
     ]
    }
   ],
   "source": [
    "import random \n",
    "\n",
    "num = [random.randint(1, 100) for i in range(10)]\n",
    "print(num)\n"
   ]
  },
  {
   "cell_type": "markdown",
   "metadata": {},
   "source": [
    "### Bubble Sorting"
   ]
  },
  {
   "cell_type": "code",
   "execution_count": 22,
   "metadata": {},
   "outputs": [
    {
     "name": "stdout",
     "output_type": "stream",
     "text": [
      "[28, 36, 59, 78, 80, 83, 87, 93, 93, 96]\n"
     ]
    }
   ],
   "source": [
    "for i in range(len(num)):\n",
    "    for j in range(i+1, len(num)):\n",
    "        if num[j]<num[i]:\n",
    "            num[i], num[j] = num[j], num[i]\n",
    "    \n",
    "print(num)"
   ]
  },
  {
   "cell_type": "markdown",
   "metadata": {},
   "source": [
    "### Insertion Sorting"
   ]
  },
  {
   "cell_type": "code",
   "execution_count": 63,
   "metadata": {},
   "outputs": [
    {
     "name": "stdout",
     "output_type": "stream",
     "text": [
      "[42, 13, 40, 78, 5, 73, 81, 37, 94, 82]\n",
      "[13, 42, 40, 78, 5, 73, 81, 37, 94, 82]\n",
      "[13, 40, 42, 78, 5, 73, 81, 37, 94, 82]\n",
      "[13, 40, 42, 78, 5, 73, 81, 37, 94, 82]\n",
      "[5, 13, 40, 42, 78, 73, 81, 37, 94, 82]\n",
      "[5, 13, 40, 42, 73, 78, 81, 37, 94, 82]\n",
      "[5, 13, 40, 42, 73, 78, 81, 37, 94, 82]\n",
      "[5, 13, 37, 40, 42, 73, 78, 81, 94, 82]\n",
      "[5, 13, 37, 40, 42, 73, 78, 81, 94, 82]\n",
      "[5, 13, 37, 40, 42, 73, 78, 81, 82, 94]\n",
      "[5, 13, 37, 40, 42, 73, 78, 81, 82, 94]\n"
     ]
    }
   ],
   "source": [
    "num = [random.randint(1, 100) for i in range(10)]\n",
    "print(num)\n",
    "\n",
    "for i in range(1, len(num)):\n",
    "    for j in range(i):      # Here it checks all the numbers before the selected number and places itself on the correct position\n",
    "        if num[i]<num[j]:\n",
    "            num[i], num[j] = num[j], num[i]\n",
    "        \n",
    "    # print(num) \n",
    "print(num)"
   ]
  },
  {
   "cell_type": "markdown",
   "metadata": {},
   "source": [
    "### Selection Sorting"
   ]
  },
  {
   "cell_type": "code",
   "execution_count": 58,
   "metadata": {},
   "outputs": [
    {
     "name": "stdout",
     "output_type": "stream",
     "text": [
      "[83, 11, 37, 4, 91, 91, 72, 27, 93, 20]\n",
      "[4, 11, 11, 20, 27, 37, 72, 72, 91, 93]\n"
     ]
    }
   ],
   "source": [
    "num = [random.randint(1, 100) for i in range(10)]\n",
    "print(num)\n",
    "\n",
    "for i in range(len(num)):\n",
    "    smallest = num[i]\n",
    "    for j in range(i, len(num)):\n",
    "        if smallest >num[j]:\n",
    "            smallest = num[j]\n",
    "            smallest_index= j\n",
    "    # print(\"Smallest =\", smallest)\n",
    "    num[i], num[smallest_index] = smallest, num[i]  \n",
    "    # print(num)\n",
    "\n",
    "print(num)"
   ]
  },
  {
   "cell_type": "markdown",
   "metadata": {},
   "source": [
    "### Divide and Conquer Sorting  "
   ]
  },
  {
   "cell_type": "code",
   "execution_count": 84,
   "metadata": {},
   "outputs": [
    {
     "name": "stdout",
     "output_type": "stream",
     "text": [
      "[77, 21, 1, 57, 2, 51, 15, 43, 34, 25]\n",
      "[1, 2, 15, 21, 25, 34, 43, 51, 57, 77]\n"
     ]
    }
   ],
   "source": [
    "num = [random.randint(1, 100) for i in range(10)]\n",
    "print(num)\n",
    "\n",
    "sorted= []\n",
    "def sorting(num):\n",
    "    def issame(num):\n",
    "        count = 0\n",
    "        for n in num:\n",
    "            if n==num[0]:\n",
    "                count+=1\n",
    "        if count == len(num):\n",
    "            return True\n",
    "        else:\n",
    "            return False\n",
    "        \n",
    "    if len(num)==1:\n",
    "        return sorted.extend(num)\n",
    "    elif issame(num):\n",
    "        return sorted.extend(num)\n",
    "        \n",
    "    pivot = sum(num)/len(num)\n",
    "    # pivot = num[0]\n",
    "    num1 = [n for n in num if n<=pivot]\n",
    "    num2 = [n for n in num if n >pivot]\n",
    "\n",
    "    sorting(num1)\n",
    "    sorting(num2)\n",
    "\n",
    "sorting(num)\n",
    "print(sorted)\n",
    "        "
   ]
  },
  {
   "cell_type": "markdown",
   "metadata": {},
   "source": [
    "### Quick Sorting"
   ]
  },
  {
   "cell_type": "code",
   "execution_count": null,
   "metadata": {},
   "outputs": [],
   "source": []
  }
 ],
 "metadata": {
  "kernelspec": {
   "display_name": "base",
   "language": "python",
   "name": "python3"
  },
  "language_info": {
   "codemirror_mode": {
    "name": "ipython",
    "version": 3
   },
   "file_extension": ".py",
   "mimetype": "text/x-python",
   "name": "python",
   "nbconvert_exporter": "python",
   "pygments_lexer": "ipython3",
   "version": "3.11.7"
  }
 },
 "nbformat": 4,
 "nbformat_minor": 2
}
