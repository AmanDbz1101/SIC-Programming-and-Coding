{
 "cells": [
  {
   "cell_type": "markdown",
   "metadata": {},
   "source": [
    "### Merge Sorting"
   ]
  },
  {
   "cell_type": "code",
   "execution_count": 15,
   "metadata": {},
   "outputs": [
    {
     "name": "stdout",
     "output_type": "stream",
     "text": [
      "[57, 48, 11, 70, 56, 73, 98, 71, 74, 34]\n"
     ]
    }
   ],
   "source": [
    "import random \n",
    "num = [random.randint(1, 100) for i in range(10)]\n",
    "print(num)\n",
    "\n"
   ]
  },
  {
   "cell_type": "code",
   "execution_count": 21,
   "metadata": {},
   "outputs": [
    {
     "name": "stdout",
     "output_type": "stream",
     "text": [
      "[57, 48, 11, 70, 56, 73, 98, 71, 74, 34]\n",
      "[57, 48, 11, 70, 56]\n",
      "[57, 48]\n",
      "[57]\n",
      "[48]\n",
      "[11, 70, 56]\n",
      "[11]\n",
      "[70, 56]\n",
      "[70]\n",
      "[56]\n",
      "[73, 98, 71, 74, 34]\n",
      "[73, 98]\n",
      "[73]\n",
      "[98]\n",
      "[71, 74, 34]\n",
      "[71]\n",
      "[74, 34]\n",
      "[74]\n",
      "[34]\n"
     ]
    }
   ],
   "source": [
    "def merge(num):\n",
    "    if len(num)<=1:\n",
    "        print(num)\n",
    "        return num\n",
    "    print(num)\n",
    "    \n",
    "    merge(num[:len(num)//2])\n",
    "    merge(num[len(num)//2:])\n",
    "\n",
    "    \n",
    "merge(num)"
   ]
  },
  {
   "cell_type": "code",
   "execution_count": 16,
   "metadata": {},
   "outputs": [
    {
     "data": {
      "text/plain": [
       "[57, 48, 11, 70, 56]"
      ]
     },
     "execution_count": 16,
     "metadata": {},
     "output_type": "execute_result"
    }
   ],
   "source": [
    "num[:len(num)//2]"
   ]
  },
  {
   "cell_type": "code",
   "execution_count": 17,
   "metadata": {},
   "outputs": [
    {
     "data": {
      "text/plain": [
       "[73, 98, 71, 74, 34]"
      ]
     },
     "execution_count": 17,
     "metadata": {},
     "output_type": "execute_result"
    }
   ],
   "source": [
    "num[len(num)//2:]\n"
   ]
  },
  {
   "cell_type": "code",
   "execution_count": 20,
   "metadata": {},
   "outputs": [
    {
     "name": "stdout",
     "output_type": "stream",
     "text": [
      "Sorted array: [1, 2, 3, 4, 5, 6, 7, 8]\n"
     ]
    }
   ],
   "source": [
    "# Merge function to merge two sorted halves\n",
    "def merge(arr, left, mid, right):\n",
    "    # Create temporary arrays\n",
    "    left_part = arr[left:mid + 1]\n",
    "    right_part = arr[mid + 1:right + 1]\n",
    "\n",
    "    i = j = 0  # Pointers for left and right parts\n",
    "    k = left   # Pointer for main array\n",
    "\n",
    "    # Merge the two halves\n",
    "    while i < len(left_part) and j < len(right_part):\n",
    "        if left_part[i] <= right_part[j]:\n",
    "            arr[k] = left_part[i]\n",
    "            i += 1\n",
    "        else:\n",
    "            arr[k] = right_part[j]\n",
    "            j += 1\n",
    "        k += 1\n",
    "\n",
    "    # Copy remaining elements from left_part\n",
    "    while i < len(left_part):\n",
    "        arr[k] = left_part[i]\n",
    "        i += 1\n",
    "        k += 1\n",
    "\n",
    "    # Copy remaining elements from right_part\n",
    "    while j < len(right_part):\n",
    "        arr[k] = right_part[j]\n",
    "        j += 1\n",
    "        k += 1\n",
    "\n",
    "# Merge Sort function\n",
    "def merge_sort(arr, left, right):\n",
    "    if left < right:\n",
    "        mid = (left + right) // 2  # Find the middle point\n",
    "        merge_sort(arr, left, mid)  # Sort first half\n",
    "        merge_sort(arr, mid + 1, right)  # Sort second half\n",
    "        merge(arr, left, mid, right)  # Merge the sorted halves\n",
    "\n",
    "# Example usage\n",
    "arr = [8, 3, 5, 4, 2, 7, 6, 1]\n",
    "merge_sort(arr, 0, len(arr) - 1)\n",
    "print(\"Sorted array:\", arr)\n"
   ]
  },
  {
   "cell_type": "markdown",
   "metadata": {},
   "source": [
    "### Quick sort"
   ]
  },
  {
   "cell_type": "code",
   "execution_count": 22,
   "metadata": {},
   "outputs": [
    {
     "name": "stdout",
     "output_type": "stream",
     "text": [
      "[64, 12, 19, 77, 77, 75, 30, 22, 97, 83]\n"
     ]
    }
   ],
   "source": [
    "import random \n",
    "num = [random.randint(1, 100) for i in range(10)]\n",
    "print(num)\n",
    "\n"
   ]
  },
  {
   "cell_type": "code",
   "execution_count": 26,
   "metadata": {},
   "outputs": [
    {
     "data": {
      "text/plain": [
       "[12, 19, 22, 30, 64, 75, 77, 83, 97]"
      ]
     },
     "execution_count": 26,
     "metadata": {},
     "output_type": "execute_result"
    }
   ],
   "source": [
    "def quicksort(num):\n",
    "    if len(num)<=1:\n",
    "        return num\n",
    "    pivot = num[-1]\n",
    "    left = [n for n in num[:-1] if n<pivot]\n",
    "    right = [n for n in num[:-1] if n>pivot] \n",
    "    \n",
    "    return quicksort(left)+[pivot]+quicksort(right)\n",
    "\n",
    "quicksort(num)"
   ]
  },
  {
   "cell_type": "markdown",
   "metadata": {},
   "source": [
    "### Merge Sort"
   ]
  },
  {
   "cell_type": "code",
   "execution_count": null,
   "metadata": {},
   "outputs": [],
   "source": [
    "import random \n",
    "num = [random.randint(1, 100) for i in range(10)]\n",
    "print(num)\n",
    "\n",
    "\n",
    "def mergesort(num):\n",
    "    "
   ]
  }
 ],
 "metadata": {
  "kernelspec": {
   "display_name": "base",
   "language": "python",
   "name": "python3"
  },
  "language_info": {
   "codemirror_mode": {
    "name": "ipython",
    "version": 3
   },
   "file_extension": ".py",
   "mimetype": "text/x-python",
   "name": "python",
   "nbconvert_exporter": "python",
   "pygments_lexer": "ipython3",
   "version": "3.11.7"
  }
 },
 "nbformat": 4,
 "nbformat_minor": 2
}
