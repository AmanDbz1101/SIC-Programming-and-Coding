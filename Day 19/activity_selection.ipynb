{
 "cells": [
  {
   "cell_type": "markdown",
   "metadata": {},
   "source": [
    "### Finding non-overlapping events"
   ]
  },
  {
   "cell_type": "code",
   "execution_count": 33,
   "metadata": {},
   "outputs": [],
   "source": [
    "\n",
    "def quicksort(num):\n",
    "    if len(num)<=1:\n",
    "        return num\n",
    "    pivot = num[-1]\n",
    "    left = [n for n in num[:-1] if n[0]<pivot[0]]\n",
    "    right = [n for n in num[:-1] if n[0]>pivot[0]] \n",
    "    \n",
    "    return quicksort(left)+[pivot]+quicksort(right)\n"
   ]
  },
  {
   "cell_type": "code",
   "execution_count": 35,
   "metadata": {},
   "outputs": [
    {
     "name": "stdout",
     "output_type": "stream",
     "text": [
      "[[1, 2], [2, 5], [3, 4], [4, 8], [6, 8], [8, 9]]\n",
      "[[1, 2], [2, 5], [6, 8], [8, 9]]\n"
     ]
    }
   ],
   "source": [
    "events = [[1, 2],[2, 5], [3, 4], [8, 9], [6, 8], [4, 8]]\n",
    "s_events = quicksort(events)\n",
    "print(s_events)\n",
    "final_events = [s_events[0]]\n",
    "for event in s_events:\n",
    "    if event[0]>=final_events[-1][1]:\n",
    "        final_events.append(event)\n",
    "        \n",
    "\n",
    "print(final_events)"
   ]
  }
 ],
 "metadata": {
  "kernelspec": {
   "display_name": "base",
   "language": "python",
   "name": "python3"
  },
  "language_info": {
   "codemirror_mode": {
    "name": "ipython",
    "version": 3
   },
   "file_extension": ".py",
   "mimetype": "text/x-python",
   "name": "python",
   "nbconvert_exporter": "python",
   "pygments_lexer": "ipython3",
   "version": "3.11.7"
  }
 },
 "nbformat": 4,
 "nbformat_minor": 2
}
