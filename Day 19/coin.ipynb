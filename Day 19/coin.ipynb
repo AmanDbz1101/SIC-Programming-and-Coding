{
 "cells": [
  {
   "cell_type": "code",
   "execution_count": 11,
   "metadata": {},
   "outputs": [
    {
     "name": "stdout",
     "output_type": "stream",
     "text": [
      "20\n",
      "20\n",
      "20\n",
      "20\n",
      "20\n",
      "10\n",
      "[20, 20, 20, 20, 20, 10]\n"
     ]
    }
   ],
   "source": [
    "denominations = [20, 10, 5]\n",
    "amount_to_return = 110\n",
    "\n",
    "sum = 0\n",
    "answer = []\n",
    "for n in denominations:\n",
    "\n",
    "    while (amount_to_return-sum)>=n  and sum<amount_to_return:\n",
    "        answer.append(n)\n",
    "        sum+=n\n",
    "    if sum==amount_to_return:\n",
    "        break \n",
    "    \n",
    "print(answer)\n",
    "        \n"
   ]
  },
  {
   "cell_type": "code",
   "execution_count": 9,
   "metadata": {},
   "outputs": [
    {
     "data": {
      "text/plain": [
       "10"
      ]
     },
     "execution_count": 9,
     "metadata": {},
     "output_type": "execute_result"
    }
   ],
   "source": [
    "110%20"
   ]
  }
 ],
 "metadata": {
  "kernelspec": {
   "display_name": "base",
   "language": "python",
   "name": "python3"
  },
  "language_info": {
   "codemirror_mode": {
    "name": "ipython",
    "version": 3
   },
   "file_extension": ".py",
   "mimetype": "text/x-python",
   "name": "python",
   "nbconvert_exporter": "python",
   "pygments_lexer": "ipython3",
   "version": "3.11.7"
  }
 },
 "nbformat": 4,
 "nbformat_minor": 2
}
