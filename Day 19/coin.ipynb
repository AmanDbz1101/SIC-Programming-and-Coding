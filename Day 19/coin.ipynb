{
 "cells": [
  {
   "cell_type": "markdown",
   "metadata": {},
   "source": [
    "### Unlimited coins"
   ]
  },
  {
   "cell_type": "code",
   "execution_count": 80,
   "metadata": {},
   "outputs": [
    {
     "name": "stdout",
     "output_type": "stream",
     "text": [
      "Change:\n",
      "[20, 10, 5]\n"
     ]
    }
   ],
   "source": [
    "denominations = [20, 10, 5]\n",
    "amount_to_return = 35\n",
    "\n",
    "sum = 0\n",
    "answer = []\n",
    "for n in denominations:\n",
    "    while (amount_to_return-sum)>=n:\n",
    "        answer.append(n)\n",
    "        sum+=n\n",
    "\n",
    "if sum==amount_to_return:\n",
    "    print(\"Change:\")    \n",
    "    print(answer)\n",
    "else:\n",
    "    print(\"Combinations not found!\")\n",
    "        \n"
   ]
  },
  {
   "cell_type": "markdown",
   "metadata": {},
   "source": [
    "Not optimum if denominations = [25, 20, 10, 5] and amount to return = 40 <br>\n",
    "It will take 25, 10, 5 but what we need is 20, 20<br><br>\n",
    "Another problem is for [9, 6, 7, 3] and amount to return = 13<br>\n",
    "It will not give proper answer"
   ]
  },
  {
   "cell_type": "markdown",
   "metadata": {},
   "source": [
    "### Limited coins"
   ]
  },
  {
   "cell_type": "code",
   "execution_count": 86,
   "metadata": {},
   "outputs": [
    {
     "name": "stdout",
     "output_type": "stream",
     "text": [
      "Change:\n",
      "[20, 20, 20, 20, 20, 10, 10, 10, 5, 5, 5, 5, 5]\n"
     ]
    }
   ],
   "source": [
    "denominations = {20: 5, 10:3, 5: 20}\n",
    "amount_to_return = 155\n",
    "\n",
    "sum = 0\n",
    "answer = []\n",
    "\n",
    "for coin, n in denominations.items():\n",
    "    while (amount_to_return-sum)>=coin and n!=0:\n",
    "        answer.append(coin)\n",
    "        sum+=coin\n",
    "        n-=1\n",
    "\n",
    "\n",
    "if sum!=amount_to_return:\n",
    "    print(\"Not enough coins! Remaining = \", amount_to_return-sum)\n",
    "else:\n",
    "    print(\"Change:\")\n",
    "    print(answer)"
   ]
  },
  {
   "cell_type": "code",
   "execution_count": 83,
   "metadata": {},
   "outputs": [
    {
     "data": {
      "text/plain": [
       "50"
      ]
     },
     "execution_count": 83,
     "metadata": {},
     "output_type": "execute_result"
    }
   ],
   "source": []
  }
 ],
 "metadata": {
  "kernelspec": {
   "display_name": "base",
   "language": "python",
   "name": "python3"
  },
  "language_info": {
   "codemirror_mode": {
    "name": "ipython",
    "version": 3
   },
   "file_extension": ".py",
   "mimetype": "text/x-python",
   "name": "python",
   "nbconvert_exporter": "python",
   "pygments_lexer": "ipython3",
   "version": "3.11.7"
  }
 },
 "nbformat": 4,
 "nbformat_minor": 2
}
