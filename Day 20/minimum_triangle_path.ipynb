{
 "cells": [
  {
   "cell_type": "code",
   "execution_count": null,
   "metadata": {},
   "outputs": [
    {
     "name": "stdout",
     "output_type": "stream",
     "text": [
      "[2]\n",
      "[2]\n"
     ]
    },
    {
     "ename": "IndexError",
     "evalue": "list index out of range",
     "output_type": "error",
     "traceback": [
      "\u001b[1;31m---------------------------------------------------------------------------\u001b[0m",
      "\u001b[1;31mIndexError\u001b[0m                                Traceback (most recent call last)",
      "Cell \u001b[1;32mIn[11], line 18\u001b[0m\n\u001b[0;32m     12\u001b[0m             sp\u001b[38;5;241m.\u001b[39mappend(paths[n\u001b[38;5;241m+\u001b[39m\u001b[38;5;241m1\u001b[39m][n])\n\u001b[0;32m     14\u001b[0m     \u001b[38;5;28;01mreturn\u001b[39;00m shortest_path(paths[n:n\u001b[38;5;241m+\u001b[39m\u001b[38;5;241m2\u001b[39m], n\u001b[38;5;241m+\u001b[39m\u001b[38;5;241m1\u001b[39m, sp)\n\u001b[1;32m---> 18\u001b[0m \u001b[43mshortest_path\u001b[49m\u001b[43m(\u001b[49m\u001b[43mpaths\u001b[49m\u001b[43m)\u001b[49m\n",
      "Cell \u001b[1;32mIn[11], line 14\u001b[0m, in \u001b[0;36mshortest_path\u001b[1;34m(paths, n, sp)\u001b[0m\n\u001b[0;32m     11\u001b[0m     \u001b[38;5;28;01melse\u001b[39;00m:\n\u001b[0;32m     12\u001b[0m         sp\u001b[38;5;241m.\u001b[39mappend(paths[n\u001b[38;5;241m+\u001b[39m\u001b[38;5;241m1\u001b[39m][n])\n\u001b[1;32m---> 14\u001b[0m \u001b[38;5;28;01mreturn\u001b[39;00m \u001b[43mshortest_path\u001b[49m\u001b[43m(\u001b[49m\u001b[43mpaths\u001b[49m\u001b[43m[\u001b[49m\u001b[43mn\u001b[49m\u001b[43m:\u001b[49m\u001b[43mn\u001b[49m\u001b[38;5;241;43m+\u001b[39;49m\u001b[38;5;241;43m2\u001b[39;49m\u001b[43m]\u001b[49m\u001b[43m,\u001b[49m\u001b[43m \u001b[49m\u001b[43mn\u001b[49m\u001b[38;5;241;43m+\u001b[39;49m\u001b[38;5;241;43m1\u001b[39;49m\u001b[43m,\u001b[49m\u001b[43m \u001b[49m\u001b[43msp\u001b[49m\u001b[43m)\u001b[49m\n",
      "Cell \u001b[1;32mIn[11], line 9\u001b[0m, in \u001b[0;36mshortest_path\u001b[1;34m(paths, n, sp)\u001b[0m\n\u001b[0;32m      7\u001b[0m     \u001b[38;5;28;01mreturn\u001b[39;00m sp\n\u001b[0;32m      8\u001b[0m \u001b[38;5;28;01mif\u001b[39;00m n\u001b[38;5;241m>\u001b[39m\u001b[38;5;241m=\u001b[39m\u001b[38;5;241m1\u001b[39m:\n\u001b[1;32m----> 9\u001b[0m     \u001b[38;5;28;01mif\u001b[39;00m (\u001b[43mpaths\u001b[49m\u001b[43m[\u001b[49m\u001b[43mn\u001b[49m\u001b[38;5;241;43m+\u001b[39;49m\u001b[38;5;241;43m1\u001b[39;49m\u001b[43m]\u001b[49m[n]\u001b[38;5;241m>\u001b[39mpaths[n\u001b[38;5;241m+\u001b[39m\u001b[38;5;241m1\u001b[39m][n\u001b[38;5;241m+\u001b[39m\u001b[38;5;241m1\u001b[39m]):\n\u001b[0;32m     10\u001b[0m         sp\u001b[38;5;241m.\u001b[39mappend(paths[n\u001b[38;5;241m+\u001b[39m\u001b[38;5;241m1\u001b[39m][n\u001b[38;5;241m+\u001b[39m\u001b[38;5;241m1\u001b[39m])\n\u001b[0;32m     11\u001b[0m     \u001b[38;5;28;01melse\u001b[39;00m:\n",
      "\u001b[1;31mIndexError\u001b[0m: list index out of range"
     ]
    }
   ],
   "source": [
    "paths = [[2], [3, 4], [6, 5, 7], [4, 1, 8, 3]]\n"
   ]
  },
  {
   "cell_type": "code",
   "execution_count": 13,
   "metadata": {},
   "outputs": [
    {
     "name": "stdout",
     "output_type": "stream",
     "text": [
      "[2, 3, 5, 1]\n"
     ]
    }
   ],
   "source": [
    "paths = [[2], [3, 4], [6, 5, 7], [4, 1, 8, 3]]\n",
    "\n",
    "sp = []\n",
    "sp_len = 0\n",
    "sp_paths = []\n",
    "def shortest_path(paths):\n",
    "    for path in paths:\n",
    "        sp.append(min(path))\n",
    "    sp_paths.append(sp)\n",
    "    \n",
    "    \n",
    "        \n",
    "print(sp)  "
   ]
  },
  {
   "cell_type": "code",
   "execution_count": 18,
   "metadata": {},
   "outputs": [
    {
     "name": "stdout",
     "output_type": "stream",
     "text": [
      "[2, 3]\n"
     ]
    }
   ],
   "source": [
    "paths = [[2], [3, 4], [6, 5, 7], [4, 1, 8, 3]]\n",
    "\n",
    "# sp = []\n",
    "def shortest_path(paths, n=0,sp=[paths[n][n]], top = paths[0][0], left = paths[1][0], right = paths[1][1]):\n",
    "    if (left <right):\n",
    "        sp.append(left)\n",
    "    else:\n",
    "        sp.append(right)\n",
    "        \n",
    "    \n",
    "        return sp\n",
    "s =shortest_path(paths)\n",
    "print(s)"
   ]
  },
  {
   "cell_type": "code",
   "execution_count": 29,
   "metadata": {},
   "outputs": [
    {
     "ename": "IndexError",
     "evalue": "list index out of range",
     "output_type": "error",
     "traceback": [
      "\u001b[1;31m---------------------------------------------------------------------------\u001b[0m",
      "\u001b[1;31mIndexError\u001b[0m                                Traceback (most recent call last)",
      "Cell \u001b[1;32mIn[29], line 16\u001b[0m\n\u001b[0;32m     13\u001b[0m             j \u001b[38;5;241m=\u001b[39m j\u001b[38;5;241m+\u001b[39m\u001b[38;5;241m1\u001b[39m\n\u001b[0;32m     14\u001b[0m     \u001b[38;5;28;01mreturn\u001b[39;00m [shortest_path(i ,j, paths)]\n\u001b[1;32m---> 16\u001b[0m \u001b[38;5;28mprint\u001b[39m(\u001b[43mshortest_path\u001b[49m\u001b[43m(\u001b[49m\u001b[38;5;241;43m0\u001b[39;49m\u001b[43m,\u001b[49m\u001b[43m \u001b[49m\u001b[38;5;241;43m0\u001b[39;49m\u001b[43m,\u001b[49m\u001b[43m \u001b[49m\u001b[43mpaths\u001b[49m\u001b[43m)\u001b[49m)\n",
      "Cell \u001b[1;32mIn[29], line 14\u001b[0m, in \u001b[0;36mshortest_path\u001b[1;34m(i, j, paths)\u001b[0m\n\u001b[0;32m     12\u001b[0m         i\u001b[38;5;241m=\u001b[39m i\u001b[38;5;241m+\u001b[39m\u001b[38;5;241m1\u001b[39m\n\u001b[0;32m     13\u001b[0m         j \u001b[38;5;241m=\u001b[39m j\u001b[38;5;241m+\u001b[39m\u001b[38;5;241m1\u001b[39m\n\u001b[1;32m---> 14\u001b[0m \u001b[38;5;28;01mreturn\u001b[39;00m [\u001b[43mshortest_path\u001b[49m\u001b[43m(\u001b[49m\u001b[43mi\u001b[49m\u001b[43m \u001b[49m\u001b[43m,\u001b[49m\u001b[43mj\u001b[49m\u001b[43m,\u001b[49m\u001b[43m \u001b[49m\u001b[43mpaths\u001b[49m\u001b[43m)\u001b[49m]\n",
      "Cell \u001b[1;32mIn[29], line 14\u001b[0m, in \u001b[0;36mshortest_path\u001b[1;34m(i, j, paths)\u001b[0m\n\u001b[0;32m     12\u001b[0m         i\u001b[38;5;241m=\u001b[39m i\u001b[38;5;241m+\u001b[39m\u001b[38;5;241m1\u001b[39m\n\u001b[0;32m     13\u001b[0m         j \u001b[38;5;241m=\u001b[39m j\u001b[38;5;241m+\u001b[39m\u001b[38;5;241m1\u001b[39m\n\u001b[1;32m---> 14\u001b[0m \u001b[38;5;28;01mreturn\u001b[39;00m [\u001b[43mshortest_path\u001b[49m\u001b[43m(\u001b[49m\u001b[43mi\u001b[49m\u001b[43m \u001b[49m\u001b[43m,\u001b[49m\u001b[43mj\u001b[49m\u001b[43m,\u001b[49m\u001b[43m \u001b[49m\u001b[43mpaths\u001b[49m\u001b[43m)\u001b[49m]\n",
      "Cell \u001b[1;32mIn[29], line 14\u001b[0m, in \u001b[0;36mshortest_path\u001b[1;34m(i, j, paths)\u001b[0m\n\u001b[0;32m     12\u001b[0m         i\u001b[38;5;241m=\u001b[39m i\u001b[38;5;241m+\u001b[39m\u001b[38;5;241m1\u001b[39m\n\u001b[0;32m     13\u001b[0m         j \u001b[38;5;241m=\u001b[39m j\u001b[38;5;241m+\u001b[39m\u001b[38;5;241m1\u001b[39m\n\u001b[1;32m---> 14\u001b[0m \u001b[38;5;28;01mreturn\u001b[39;00m [\u001b[43mshortest_path\u001b[49m\u001b[43m(\u001b[49m\u001b[43mi\u001b[49m\u001b[43m \u001b[49m\u001b[43m,\u001b[49m\u001b[43mj\u001b[49m\u001b[43m,\u001b[49m\u001b[43m \u001b[49m\u001b[43mpaths\u001b[49m\u001b[43m)\u001b[49m]\n",
      "Cell \u001b[1;32mIn[29], line 8\u001b[0m, in \u001b[0;36mshortest_path\u001b[1;34m(i, j, paths)\u001b[0m\n\u001b[0;32m      5\u001b[0m \u001b[38;5;28;01mif\u001b[39;00m \u001b[38;5;28mlen\u001b[39m(paths)\u001b[38;5;241m==\u001b[39m \u001b[38;5;241m2\u001b[39m:\n\u001b[0;32m      6\u001b[0m     \u001b[38;5;28;01mreturn\u001b[39;00m \u001b[38;5;28mmin\u001b[39m(paths)\n\u001b[1;32m----> 8\u001b[0m \u001b[38;5;28;01mif\u001b[39;00m \u001b[43mpaths\u001b[49m\u001b[43m[\u001b[49m\u001b[43mi\u001b[49m\u001b[38;5;241;43m+\u001b[39;49m\u001b[38;5;241;43m1\u001b[39;49m\u001b[43m]\u001b[49m \u001b[38;5;129;01mis\u001b[39;00m \u001b[38;5;129;01mnot\u001b[39;00m \u001b[38;5;28;01mNone\u001b[39;00m:\n\u001b[0;32m      9\u001b[0m     \u001b[38;5;28;01mif\u001b[39;00m (paths[i\u001b[38;5;241m+\u001b[39m\u001b[38;5;241m1\u001b[39m][j]\u001b[38;5;241m<\u001b[39mpaths[i\u001b[38;5;241m+\u001b[39m\u001b[38;5;241m1\u001b[39m][j\u001b[38;5;241m+\u001b[39m\u001b[38;5;241m1\u001b[39m]):\n\u001b[0;32m     10\u001b[0m         i \u001b[38;5;241m=\u001b[39m i\u001b[38;5;241m+\u001b[39m\u001b[38;5;241m1\u001b[39m\n",
      "\u001b[1;31mIndexError\u001b[0m: list index out of range"
     ]
    }
   ],
   "source": [
    "paths = [[2], [3, 4], [6, 5, 7], [4, 1, 8, 3]]\n",
    "    \n",
    "\n",
    "def shortest_path(i, j, paths):\n",
    "    if len(paths)== 2:\n",
    "        return min(paths)\n",
    "    \n",
    "    if paths[i+1] is not None:\n",
    "        if (paths[i+1][j]<paths[i+1][j+1]):\n",
    "            i = i+1\n",
    "        else:\n",
    "            i= i+1\n",
    "            j = j+1\n",
    "    return [shortest_path(i ,j, paths)]\n",
    "\n",
    "print(shortest_path(0, 0, paths))\n"
   ]
  },
  {
   "cell_type": "code",
   "execution_count": 8,
   "metadata": {},
   "outputs": [
    {
     "name": "stdout",
     "output_type": "stream",
     "text": [
      "4\n"
     ]
    },
    {
     "data": {
      "text/plain": [
       "[[2], [3, 4]]"
      ]
     },
     "execution_count": 8,
     "metadata": {},
     "output_type": "execute_result"
    }
   ],
   "source": [
    "paths = [[2], [3, 4], [6, 5, 7], [4, 1, 8, 3]]\n",
    "print(len(paths))\n",
    "paths[0:2]"
   ]
  }
 ],
 "metadata": {
  "kernelspec": {
   "display_name": "base",
   "language": "python",
   "name": "python3"
  },
  "language_info": {
   "codemirror_mode": {
    "name": "ipython",
    "version": 3
   },
   "file_extension": ".py",
   "mimetype": "text/x-python",
   "name": "python",
   "nbconvert_exporter": "python",
   "pygments_lexer": "ipython3",
   "version": "3.11.7"
  }
 },
 "nbformat": 4,
 "nbformat_minor": 2
}
