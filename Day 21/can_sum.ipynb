{
 "cells": [
  {
   "cell_type": "code",
   "execution_count": 3,
   "metadata": {},
   "outputs": [
    {
     "data": {
      "text/plain": [
       "([4, 2, 3], [4, 2, 3])"
      ]
     },
     "execution_count": 3,
     "metadata": {},
     "output_type": "execute_result"
    }
   ],
   "source": [
    "a= [1, 2, 3]\n",
    "b = a   # just pass the reference and now a and b has same address\n",
    "b[0] = 4\n",
    "a, b"
   ]
  },
  {
   "cell_type": "code",
   "execution_count": 9,
   "metadata": {},
   "outputs": [
    {
     "data": {
      "text/plain": [
       "([[1, 4], 2, 3], [[1, 4], 2, 3])"
      ]
     },
     "execution_count": 9,
     "metadata": {},
     "output_type": "execute_result"
    }
   ],
   "source": [
    "a= [[1], 2, 3]\n",
    "b = a.copy()    # shallow copy\n",
    "b[0].append(4)\n",
    "a, b"
   ]
  },
  {
   "cell_type": "code",
   "execution_count": 8,
   "metadata": {},
   "outputs": [
    {
     "data": {
      "text/plain": [
       "([1, 2, 3], [1, 2, 3, 4])"
      ]
     },
     "execution_count": 8,
     "metadata": {},
     "output_type": "execute_result"
    }
   ],
   "source": [
    "from copy import deepcopy\n",
    "a= [1, 2, 3]\n",
    "b = deepcopy(a)    # shallow copy\n",
    "b.append(4)\n",
    "a, b"
   ]
  },
  {
   "cell_type": "code",
   "execution_count": 10,
   "metadata": {},
   "outputs": [],
   "source": [
    "def fun(val, my_list =[]):\n",
    "    my_list.append(val)\n",
    "    print(my_list)"
   ]
  },
  {
   "cell_type": "code",
   "execution_count": 11,
   "metadata": {},
   "outputs": [
    {
     "name": "stdout",
     "output_type": "stream",
     "text": [
      "[1, 2, 3, 10]\n"
     ]
    }
   ],
   "source": [
    "fun(10, [1, 2, 3])"
   ]
  },
  {
   "cell_type": "code",
   "execution_count": 15,
   "metadata": {},
   "outputs": [
    {
     "name": "stdout",
     "output_type": "stream",
     "text": [
      "[10, 10, 10]\n"
     ]
    }
   ],
   "source": [
    "fun(10)"
   ]
  },
  {
   "cell_type": "code",
   "execution_count": 62,
   "metadata": {},
   "outputs": [
    {
     "name": "stdout",
     "output_type": "stream",
     "text": [
      "[1, 2, 3, 10]\n"
     ]
    }
   ],
   "source": [
    "my_list = [1, 2, 3]\n",
    "fun(10, my_list)"
   ]
  },
  {
   "cell_type": "code",
   "execution_count": 70,
   "metadata": {},
   "outputs": [
    {
     "name": "stdout",
     "output_type": "stream",
     "text": [
      "[1, 2, 3, 10, 10, 10, 10, 10, 10, 10, 10, 10]\n"
     ]
    }
   ],
   "source": [
    "fun(10, my_list)"
   ]
  },
  {
   "cell_type": "markdown",
   "metadata": {},
   "source": [
    "my_list = [] only when it fun is called for the first time.<br>\n",
    "But when my_list is passed the the value of my_list is actually changed when the value is changed inside function"
   ]
  },
  {
   "cell_type": "markdown",
   "metadata": {},
   "source": [
    "##### To solve this problem\n"
   ]
  },
  {
   "cell_type": "code",
   "execution_count": 76,
   "metadata": {},
   "outputs": [],
   "source": [
    "def fun2(n, my_list = None):\n",
    "    if my_list is None:\n",
    "        my_list =[]\n",
    "    my_list.append(n)\n",
    "    return my_list\n"
   ]
  },
  {
   "cell_type": "code",
   "execution_count": 80,
   "metadata": {},
   "outputs": [
    {
     "data": {
      "text/plain": [
       "[10]"
      ]
     },
     "execution_count": 80,
     "metadata": {},
     "output_type": "execute_result"
    }
   ],
   "source": [
    "fun2(10)"
   ]
  },
  {
   "cell_type": "markdown",
   "metadata": {},
   "source": [
    "##### Dynamic programming paradigm\n",
    "- First inefficient solution <br>\n",
    "- At each stage try all possible cases <br>\n",
    "- Memoization"
   ]
  },
  {
   "cell_type": "markdown",
   "metadata": {},
   "source": [
    "### Coin Exchange Problem"
   ]
  },
  {
   "cell_type": "code",
   "execution_count": 12,
   "metadata": {},
   "outputs": [],
   "source": [
    "\n",
    "def is_coin(target, coin, mem=None):\n",
    "    if mem is None:\n",
    "        mem = {}\n",
    "    if target in mem:\n",
    "        return mem[target]\n",
    "    \n",
    "    if target == 0:\n",
    "        return True\n",
    "    if target <0:\n",
    "        return False\n",
    "    out = False     \n",
    "    for n in coin: \n",
    "        value = is_coin(target-n, coin, mem)\n",
    "        # print(mem)\n",
    "        if value:\n",
    "            out = True\n",
    "    mem[target] = value\n",
    "    print(mem)\n",
    "    return out\n"
   ]
  },
  {
   "cell_type": "markdown",
   "metadata": {},
   "source": [
    "10\n"
   ]
  },
  {
   "cell_type": "code",
   "execution_count": 13,
   "metadata": {},
   "outputs": [
    {
     "name": "stdout",
     "output_type": "stream",
     "text": [
      "{1: False}\n",
      "{1: False, 4: False}\n",
      "{1: False, 4: False, 7: False}\n",
      "{1: False, 4: False, 7: False, 3: False}\n",
      "{1: False, 4: False, 7: False, 3: False, 10: False}\n"
     ]
    },
    {
     "data": {
      "text/plain": [
       "True"
      ]
     },
     "execution_count": 13,
     "metadata": {},
     "output_type": "execute_result"
    }
   ],
   "source": [
    "target= 10\n",
    "coin = [3, 7, 15]\n",
    "is_coin(target, coin)"
   ]
  },
  {
   "cell_type": "code",
   "execution_count": 16,
   "metadata": {},
   "outputs": [],
   "source": [
    "def how_sum(target, numbers, memo=None):\n",
    "    if memo is None:\n",
    "        memo = {}\n",
    "    if target in memo:\n",
    "        return memo[target]\n",
    "    if target ==0:\n",
    "        return []\n",
    "    if target<0:\n",
    "        return None\n",
    "    res = None\n",
    "    for n in numbers :\n",
    "        val = how_sum(target-n, numbers, memo=memo)\n",
    "        if val is not None:\n",
    "            val.append(n)\n",
    "            res = val\n",
    "            break\n",
    "    memo[target] = res\n",
    "    return res"
   ]
  },
  {
   "cell_type": "code",
   "execution_count": 38,
   "metadata": {},
   "outputs": [
    {
     "data": {
      "text/plain": [
       "[7, 3]"
      ]
     },
     "execution_count": 38,
     "metadata": {},
     "output_type": "execute_result"
    }
   ],
   "source": [
    "target= 10\n",
    "coin = [3, 7, 15]\n",
    "how_sum(target, coin)"
   ]
  },
  {
   "cell_type": "code",
   "execution_count": 63,
   "metadata": {},
   "outputs": [],
   "source": [
    "def least_coin(target, numbers):\n",
    "    if target == 0:\n",
    "        return []\n",
    "    if target<0:\n",
    "        return None\n",
    "    numbers.sort(reverse=True)\n",
    "    res = None \n",
    "    for n in numbers:\n",
    "        val = least_coin(target-n, numbers)\n",
    "        if val is not None:\n",
    "            val.append(n)\n",
    "            res = val\n",
    "            break\n",
    "    return res"
   ]
  },
  {
   "cell_type": "code",
   "execution_count": 64,
   "metadata": {},
   "outputs": [
    {
     "data": {
      "text/plain": [
       "[15, 15]"
      ]
     },
     "execution_count": 64,
     "metadata": {},
     "output_type": "execute_result"
    }
   ],
   "source": [
    "target= 30\n",
    "coin = [3, 7, 15]\n",
    "least_coin(target, coin)"
   ]
  },
  {
   "cell_type": "code",
   "execution_count": 67,
   "metadata": {},
   "outputs": [
    {
     "data": {
      "text/plain": [
       "[5, 10, 25]"
      ]
     },
     "execution_count": 67,
     "metadata": {},
     "output_type": "execute_result"
    }
   ],
   "source": [
    "target = 40\n",
    "coin = [25, 20, 10, 5]\n",
    "least_coin(target, coin)"
   ]
  },
  {
   "cell_type": "code",
   "execution_count": 66,
   "metadata": {},
   "outputs": [],
   "source": [
    "def least_coin(target, numbers):\n",
    "\n",
    "    if target == 0:\n",
    "        return []\n",
    "    if target<0:\n",
    "        return None\n",
    "    # numbers.sort(reverse=True)\n",
    "    res = None \n",
    "    for n in numbers:\n",
    "        val = least_coin(target-n, numbers)\n",
    "        if val is not None:\n",
    "            val.append(n)\n",
    "            if res is None:\n",
    "                res = val \n",
    "            elif len(val)<len(res):\n",
    "                res = val\n",
    "            break\n",
    "    return res"
   ]
  },
  {
   "cell_type": "markdown",
   "metadata": {},
   "source": [
    "### Limited coins"
   ]
  },
  {
   "cell_type": "code",
   "execution_count": null,
   "metadata": {},
   "outputs": [],
   "source": []
  }
 ],
 "metadata": {
  "kernelspec": {
   "display_name": "base",
   "language": "python",
   "name": "python3"
  },
  "language_info": {
   "codemirror_mode": {
    "name": "ipython",
    "version": 3
   },
   "file_extension": ".py",
   "mimetype": "text/x-python",
   "name": "python",
   "nbconvert_exporter": "python",
   "pygments_lexer": "ipython3",
   "version": "3.11.7"
  }
 },
 "nbformat": 4,
 "nbformat_minor": 2
}
