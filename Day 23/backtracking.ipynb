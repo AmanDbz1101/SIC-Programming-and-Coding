{
 "cells": [
  {
   "cell_type": "code",
   "execution_count": 27,
   "metadata": {},
   "outputs": [
    {
     "name": "stdout",
     "output_type": "stream",
     "text": [
      "Iteration: 10\n"
     ]
    }
   ],
   "source": [
    "from IPython.display import clear_output\n",
    "import time\n",
    "\n",
    "for i in range(10):\n",
    "    clear_output()  # Clears previous output\n",
    "    print(f\"Iteration: {i+1}\")\n",
    "    time.sleep(1)  # Delay for visibility\n"
   ]
  },
  {
   "cell_type": "markdown",
   "metadata": {},
   "source": [
    "### Pruning while Backtracking\n",
    "Removing the unnecessary paths that can't be taken is called pruning"
   ]
  },
  {
   "cell_type": "markdown",
   "metadata": {},
   "source": [
    "### N-Queens problem with Backtracking"
   ]
  },
  {
   "cell_type": "code",
   "execution_count": 83,
   "metadata": {},
   "outputs": [],
   "source": [
    "from game_display import main"
   ]
  },
  {
   "cell_type": "code",
   "execution_count": 88,
   "metadata": {},
   "outputs": [],
   "source": [
    "from IPython.display import clear_output\n",
    "import time\n",
    "\n",
    "def is_safe(board, row, col, n):\n",
    "        \n",
    "    for i in range(row):\n",
    "        if board[i][col]:\n",
    "            return False\n",
    "    \n",
    "    for i, j in zip(range(row, -1, -1), range(col, -1, -1)):\n",
    "        if board[i][j]:\n",
    "            return False \n",
    "        \n",
    "    for i, j in zip(range(row, -1, -1), range(col, n)):\n",
    "        if board[i][j]:\n",
    "            return False\n",
    "     \n",
    "    return True   \n",
    "        \n",
    "def print_board(board):\n",
    "    for row in board:\n",
    "        print(row)\n",
    "        \n",
    "def queen(board, row, n):\n",
    "    if row == n:\n",
    "        return True\n",
    "    for col in range(n):\n",
    "        \n",
    "        if is_safe(board, row, col, n):\n",
    "            board[row][col] = 1\n",
    "            # main(board)\n",
    "            clear_output()\n",
    "            print_board(board)\n",
    "            time.sleep(1)\n",
    "            if queen(board, row+1, n):\n",
    "                return True\n",
    "            \n",
    "            board[row][col] = 0\n",
    "            \n",
    "    return False   \n",
    "            \n",
    "    \n",
    "           \n"
   ]
  },
  {
   "cell_type": "code",
   "execution_count": 89,
   "metadata": {},
   "outputs": [
    {
     "name": "stdout",
     "output_type": "stream",
     "text": [
      "[0, 1, 0, 0]\n",
      "[0, 0, 0, 1]\n",
      "[1, 0, 0, 0]\n",
      "[0, 0, 1, 0]\n"
     ]
    },
    {
     "data": {
      "text/plain": [
       "True"
      ]
     },
     "execution_count": 89,
     "metadata": {},
     "output_type": "execute_result"
    }
   ],
   "source": [
    "n=4         \n",
    "board = [[0]*n for _ in range(n)]\n",
    "queen(board, 0, n)\n",
    "        "
   ]
  },
  {
   "cell_type": "code",
   "execution_count": 45,
   "metadata": {},
   "outputs": [
    {
     "name": "stdout",
     "output_type": "stream",
     "text": [
      "0 0\n",
      "1 1\n",
      "2 2\n",
      "3 3\n",
      "4 4\n"
     ]
    }
   ],
   "source": [
    "for i, j in zip(range(5), range(5)):\n",
    "    print(i, j)"
   ]
  }
 ],
 "metadata": {
  "kernelspec": {
   "display_name": "base",
   "language": "python",
   "name": "python3"
  },
  "language_info": {
   "codemirror_mode": {
    "name": "ipython",
    "version": 3
   },
   "file_extension": ".py",
   "mimetype": "text/x-python",
   "name": "python",
   "nbconvert_exporter": "python",
   "pygments_lexer": "ipython3",
   "version": "3.11.7"
  }
 },
 "nbformat": 4,
 "nbformat_minor": 2
}
