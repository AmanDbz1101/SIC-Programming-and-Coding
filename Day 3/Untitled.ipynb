{
 "cells": [
  {
   "cell_type": "code",
   "execution_count": 11,
   "id": "b7bc8e8c-0dda-478a-ae18-7228ba6657da",
   "metadata": {},
   "outputs": [
    {
     "data": {
      "text/plain": [
       "False"
      ]
     },
     "execution_count": 11,
     "metadata": {},
     "output_type": "execute_result"
    }
   ],
   "source": [
    "a = 1.0\n",
    "b = 1.0\n",
    "c= 1\n",
    "a is b\n",
    "\n"
   ]
  },
  {
   "cell_type": "code",
   "execution_count": 12,
   "id": "3c42f983-01bd-4c58-9710-2ac11bfcf287",
   "metadata": {},
   "outputs": [
    {
     "data": {
      "text/plain": [
       "True"
      ]
     },
     "execution_count": 12,
     "metadata": {},
     "output_type": "execute_result"
    }
   ],
   "source": [
    "a =1 \n",
    "b = 1\n",
    "a is b"
   ]
  },
  {
   "cell_type": "code",
   "execution_count": 8,
   "id": "3406d86e-995f-4a97-b4d5-8c143c7ad24c",
   "metadata": {},
   "outputs": [
    {
     "data": {
      "text/plain": [
       "False"
      ]
     },
     "execution_count": 8,
     "metadata": {},
     "output_type": "execute_result"
    }
   ],
   "source": [
    "a is c"
   ]
  },
  {
   "cell_type": "code",
   "execution_count": 14,
   "id": "618159a2-f015-4e1f-abf6-cb5aa8eefa5f",
   "metadata": {},
   "outputs": [
    {
     "name": "stdout",
     "output_type": "stream",
     "text": [
      "Welcome to yummy restaurant. Here is the menu.\n",
      "-Burger(enter b)\n",
      "-Chicken(enter c)\n",
      "-Pizza(enter p)\n"
     ]
    },
    {
     "name": "stdin",
     "output_type": "stream",
     "text": [
      "Choose a menu (enter b,c,p): q\n",
      "enter the menu again: b\n"
     ]
    },
    {
     "name": "stdout",
     "output_type": "stream",
     "text": [
      "You chose b\n"
     ]
    }
   ],
   "source": [
    "#pp10\n",
    "print(\"Welcome to yummy restaurant. Here is the menu.\\n-Burger(enter b)\\n-Chicken(enter c)\\n-Pizza(enter p)\")\n",
    "choosed = input(\"Choose a menu (enter b,c,p):\")\n",
    "menu = [\"b\", \"c\", \"p\"]\n",
    "while True:\n",
    "    if (choosed not in menu):\n",
    "        choosed = input(\"enter the menu again:\")\n",
    "    else:\n",
    "        print(f\"You chose {choosed}\")\n",
    "        break\n",
    "        \n",
    "    "
   ]
  }
 ],
 "metadata": {
  "kernelspec": {
   "display_name": "Python 3 (ipykernel)",
   "language": "python",
   "name": "python3"
  },
  "language_info": {
   "codemirror_mode": {
    "name": "ipython",
    "version": 3
   },
   "file_extension": ".py",
   "mimetype": "text/x-python",
   "name": "python",
   "nbconvert_exporter": "python",
   "pygments_lexer": "ipython3",
   "version": "3.11.7"
  }
 },
 "nbformat": 4,
 "nbformat_minor": 5
}
