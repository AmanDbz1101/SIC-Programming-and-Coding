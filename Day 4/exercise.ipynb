{
 "cells": [
  {
   "cell_type": "code",
   "execution_count": 2,
   "metadata": {},
   "outputs": [
    {
     "data": {
      "text/plain": [
       "[0, 1, 2, 3, 4]"
      ]
     },
     "execution_count": 2,
     "metadata": {},
     "output_type": "execute_result"
    }
   ],
   "source": [
    "#1\n",
    "num = []\n",
    "for i in range(5):\n",
    "    num.append(i)\n",
    "num"
   ]
  },
  {
   "cell_type": "code",
   "execution_count": 6,
   "metadata": {},
   "outputs": [
    {
     "data": {
      "text/plain": [
       "['a', 'aa', 'aaa', 'aaaa', 'aaaaa']"
      ]
     },
     "execution_count": 6,
     "metadata": {},
     "output_type": "execute_result"
    }
   ],
   "source": [
    "#2\n",
    "list = []\n",
    "for i in range(1, 6):\n",
    "    list.append('a'*i)\n",
    "list"
   ]
  },
  {
   "cell_type": "code",
   "execution_count": 8,
   "metadata": {},
   "outputs": [
    {
     "name": "stdout",
     "output_type": "stream",
     "text": [
      "green\n",
      "['blue', 'green', 'yellow']\n",
      "['red', 'blue', 'green', 'yellow']\n",
      "['red', 'blue']\n"
     ]
    }
   ],
   "source": [
    "#3\n",
    "colors = ['red','blue', 'green', 'yellow']\n",
    "\n",
    "print(colors[2])\n",
    "print(colors[1:4])\n",
    "print(colors[-10:])\n",
    "print(colors[-5:2])"
   ]
  },
  {
   "cell_type": "code",
   "execution_count": 9,
   "metadata": {},
   "outputs": [
    {
     "data": {
      "text/plain": [
       "[1, 'name', 1.003, True]"
      ]
     },
     "execution_count": 9,
     "metadata": {},
     "output_type": "execute_result"
    }
   ],
   "source": [
    "#4\n",
    "mixed = [1, \"name\", 1.003, True]\n",
    "mixed"
   ]
  },
  {
   "cell_type": "code",
   "execution_count": 14,
   "metadata": {},
   "outputs": [],
   "source": [
    "#5\n",
    "marks = []\n",
    "for i in range(1, 6):\n",
    "    marks.append(int(input(f\"Enter marks in subject {i}: \")))"
   ]
  },
  {
   "cell_type": "code",
   "execution_count": 20,
   "metadata": {},
   "outputs": [],
   "source": [
    "min_marks = min(marks)\n",
    "max_marks = max(marks)\n",
    "percentage = sum(marks)/500*100"
   ]
  },
  {
   "cell_type": "code",
   "execution_count": 16,
   "metadata": {},
   "outputs": [],
   "source": [
    "grades=[]\n",
    "for mark in marks:\n",
    "    if (mark>90):\n",
    "        grade=\"Grade A\"\n",
    "    elif (mark>80):\n",
    "        grade=\"Grade B\"\n",
    "    else:\n",
    "        grade=\"Grade C\"\n",
    "    grades.append(grade)"
   ]
  },
  {
   "cell_type": "code",
   "execution_count": 22,
   "metadata": {},
   "outputs": [
    {
     "name": "stdout",
     "output_type": "stream",
     "text": [
      "72\n",
      "94\n",
      "83.0\n",
      "['Grade C', 'Grade A', 'Grade B', 'Grade C', 'Grade A']\n"
     ]
    }
   ],
   "source": [
    "print(min_marks)\n",
    "print(max_marks)\n",
    "print(percentage)\n",
    "print(grades)"
   ]
  },
  {
   "cell_type": "code",
   "execution_count": 6,
   "metadata": {},
   "outputs": [],
   "source": [
    "#6\n",
    "import random\n",
    "\n",
    "random_list = []\n",
    "random_list.append(random.randint(1, 100) for i in range(5))"
   ]
  },
  {
   "cell_type": "code",
   "execution_count": 7,
   "metadata": {},
   "outputs": [
    {
     "data": {
      "text/plain": [
       "[<generator object <genexpr> at 0x000001AC3D9DFE60>]"
      ]
     },
     "execution_count": 7,
     "metadata": {},
     "output_type": "execute_result"
    }
   ],
   "source": [
    "random_list"
   ]
  }
 ],
 "metadata": {
  "kernelspec": {
   "display_name": "base",
   "language": "python",
   "name": "python3"
  },
  "language_info": {
   "codemirror_mode": {
    "name": "ipython",
    "version": 3
   },
   "file_extension": ".py",
   "mimetype": "text/x-python",
   "name": "python",
   "nbconvert_exporter": "python",
   "pygments_lexer": "ipython3",
   "version": "3.11.7"
  }
 },
 "nbformat": 4,
 "nbformat_minor": 2
}
