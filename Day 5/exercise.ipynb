{
 "cells": [
  {
   "cell_type": "code",
   "execution_count": 23,
   "metadata": {},
   "outputs": [
    {
     "data": {
      "text/plain": [
       "{'name': 'Alice', 'age': 25, 'city': 'New York'}"
      ]
     },
     "execution_count": 23,
     "metadata": {},
     "output_type": "execute_result"
    }
   ],
   "source": [
    "#1\n",
    "first_dict = {\n",
    "    \"name\": \"Alice\",\n",
    "    \"age\": 25, \n",
    "    \"city\": \"New York\"\n",
    "}\n",
    "first_dict"
   ]
  },
  {
   "cell_type": "code",
   "execution_count": 25,
   "metadata": {},
   "outputs": [
    {
     "data": {
      "text/plain": [
       "'Bob'"
      ]
     },
     "execution_count": 25,
     "metadata": {},
     "output_type": "execute_result"
    }
   ],
   "source": [
    "#2\n",
    "person = {'name': 'Bob', 'age': 30}\n",
    "person['name']"
   ]
  },
  {
   "cell_type": "code",
   "execution_count": 30,
   "metadata": {},
   "outputs": [
    {
     "name": "stdout",
     "output_type": "stream",
     "text": [
      "key: apple , value: 2\n",
      "key: banana , value: 1\n",
      "key: cherry , value: 3\n"
     ]
    }
   ],
   "source": [
    "#3\n",
    "fruit_prices = {'apple': 2, 'banana': 1, 'cherry': 3}\n",
    "for i, j in fruit_prices.items():\n",
    "    print(\"key:\", i, \", value:\", j)"
   ]
  },
  {
   "cell_type": "code",
   "execution_count": 31,
   "metadata": {},
   "outputs": [
    {
     "data": {
      "text/plain": [
       "{'name': 'Bob', 'age': 40}"
      ]
     },
     "execution_count": 31,
     "metadata": {},
     "output_type": "execute_result"
    }
   ],
   "source": [
    "#4\n",
    "person = {'name': 'Bob', 'age': 30}\n",
    "person['age']=40\n",
    "person"
   ]
  },
  {
   "cell_type": "code",
   "execution_count": 34,
   "metadata": {},
   "outputs": [
    {
     "name": "stdout",
     "output_type": "stream",
     "text": [
      "key Exists\n"
     ]
    }
   ],
   "source": [
    "#5\n",
    "search_key = \"name\"\n",
    "if search_key in person.keys():\n",
    "    print(\"key Exists\")\n",
    "else:\n",
    "    print(\"Key does not exist\")"
   ]
  },
  {
   "cell_type": "code",
   "execution_count": 35,
   "metadata": {},
   "outputs": [
    {
     "data": {
      "text/plain": [
       "85"
      ]
     },
     "execution_count": 35,
     "metadata": {},
     "output_type": "execute_result"
    }
   ],
   "source": [
    "#6\n",
    "data = {'student': {'name': 'Alice', 'marks': {'math': 90, 'science': 85}}}\n",
    "data['student']['marks']['science']"
   ]
  },
  {
   "cell_type": "code",
   "execution_count": 38,
   "metadata": {},
   "outputs": [
    {
     "data": {
      "text/plain": [
       "{'a': 1, 'b': 3, 'c': 4}"
      ]
     },
     "execution_count": 38,
     "metadata": {},
     "output_type": "execute_result"
    }
   ],
   "source": [
    "#7\n",
    "dict1 = {'a':1, 'b':2}\n",
    "dict2 = {'b':3, 'c':4}\n",
    "\n",
    "dict1.update(dict2)\n",
    "dict1"
   ]
  },
  {
   "cell_type": "code",
   "execution_count": 45,
   "metadata": {},
   "outputs": [
    {
     "ename": "AttributeError",
     "evalue": "'str' object has no attribute 'spilt'",
     "output_type": "error",
     "traceback": [
      "\u001b[1;31m---------------------------------------------------------------------------\u001b[0m",
      "\u001b[1;31mAttributeError\u001b[0m                            Traceback (most recent call last)",
      "Cell \u001b[1;32mIn[45], line 9\u001b[0m\n\u001b[0;32m      7\u001b[0m name \u001b[38;5;241m=\u001b[39m \u001b[38;5;28minput\u001b[39m(\u001b[38;5;124mf\u001b[39m\u001b[38;5;124m\"\u001b[39m\u001b[38;5;124mEnter name\u001b[39m\u001b[38;5;132;01m{\u001b[39;00mi\u001b[38;5;241m+\u001b[39m\u001b[38;5;241m1\u001b[39m\u001b[38;5;132;01m}\u001b[39;00m\u001b[38;5;124m\"\u001b[39m)\n\u001b[0;32m      8\u001b[0m marks\u001b[38;5;241m=\u001b[39m[]\n\u001b[1;32m----> 9\u001b[0m marks[\u001b[38;5;241m0\u001b[39m], marks[\u001b[38;5;241m1\u001b[39m], marks[\u001b[38;5;241m2\u001b[39m] \u001b[38;5;241m=\u001b[39m \u001b[38;5;28;43minput\u001b[39;49m\u001b[43m(\u001b[49m\u001b[38;5;124;43m\"\u001b[39;49m\u001b[38;5;124;43mEnter 3 marks:\u001b[39;49m\u001b[38;5;124;43m\"\u001b[39;49m\u001b[43m)\u001b[49m\u001b[38;5;241;43m.\u001b[39;49m\u001b[43mspilt\u001b[49m()\n\u001b[0;32m     10\u001b[0m \u001b[38;5;28mdict\u001b[39m\u001b[38;5;241m=\u001b[39m{\u001b[38;5;124m\"\u001b[39m\u001b[38;5;124mname\u001b[39m\u001b[38;5;124m\"\u001b[39m: name,\n\u001b[0;32m     11\u001b[0m   \u001b[38;5;124m\"\u001b[39m\u001b[38;5;124mmarks\u001b[39m\u001b[38;5;124m\"\u001b[39m:{\n\u001b[0;32m     12\u001b[0m       \u001b[38;5;124m\"\u001b[39m\u001b[38;5;124mmath\u001b[39m\u001b[38;5;124m\"\u001b[39m:marks[\u001b[38;5;241m0\u001b[39m], \u001b[38;5;124m\"\u001b[39m\u001b[38;5;124mscience\u001b[39m\u001b[38;5;124m\"\u001b[39m:marks[\u001b[38;5;241m1\u001b[39m], \u001b[38;5;124m\"\u001b[39m\u001b[38;5;124menglish\u001b[39m\u001b[38;5;124m\"\u001b[39m:marks[\u001b[38;5;241m2\u001b[39m]\n\u001b[0;32m     13\u001b[0m   }\n\u001b[0;32m     14\u001b[0m   }\n\u001b[0;32m     15\u001b[0m dict_list\u001b[38;5;241m.\u001b[39mappend(\u001b[38;5;28mdict\u001b[39m)\n",
      "\u001b[1;31mAttributeError\u001b[0m: 'str' object has no attribute 'spilt'"
     ]
    }
   ],
   "source": [
    "#8\n",
    "name = input(\"Enter the name:\")\n",
    "\n",
    "\n",
    "dict_list =[]\n",
    "for i in range(3):\n",
    "    name = input(f\"Enter name{i+1}\")\n",
    "    marks=[]\n",
    "    marks[0], marks[1], marks[2] = input(\"Enter 3 marks:\").spilt()\n",
    "    dict={\"name\": name,\n",
    "      \"marks\":{\n",
    "          \"math\":marks[0], \"science\":marks[1], \"english\":marks[2]\n",
    "      }\n",
    "      }\n",
    "    dict_list.append(dict)\n",
    "dict_list\n"
   ]
  },
  {
   "cell_type": "code",
   "execution_count": 10,
   "metadata": {},
   "outputs": [
    {
     "name": "stdout",
     "output_type": "stream",
     "text": [
      "The name of the teacher:  Mrs. Smith\n",
      "Charlie's marks in math: 95\n",
      "['Alice', 'Bob', 'Charlie']\n",
      "\n",
      "Alice's average marks: 88.5\n",
      "Bob's average marks: 83.0\n",
      "Charlie's average marks: 92.0\n"
     ]
    }
   ],
   "source": [
    "#9\n",
    "data = {\n",
    "    'class': 'Grade 5',\n",
    "    'students': [\n",
    "        {'name': 'Alice', 'subjects': {'math': 85, 'science': 92}},\n",
    "        {'name': 'Bob', 'subjects': {'math': 78, 'science': 88}},\n",
    "        {'name': 'Charlie', 'subjects': {'math': 95, 'science': 89}}\n",
    "    ],\n",
    "    'teacher': {'name': 'Mrs. Smith', 'subject': 'science'}\n",
    "}\n",
    "\n",
    "print(\"The name of the teacher: \", data['teacher']['name'])\n",
    "name=[]\n",
    "avg=[]\n",
    "for student in data['students']:\n",
    "    avg.append(sum(student['subjects'].values())/len(student['subjects']))\n",
    "    if (student['name']==\"Charlie\"):\n",
    "        print(\"Charlie's marks in math:\",student['subjects']['math'])\n",
    "    name.append(student['name'])\n",
    "print(name)\n",
    "print()\n",
    "for n, a in zip(name, avg):\n",
    "    print(f\"{n}'s average marks: {a}\")"
   ]
  }
 ],
 "metadata": {
  "kernelspec": {
   "display_name": "base",
   "language": "python",
   "name": "python3"
  },
  "language_info": {
   "codemirror_mode": {
    "name": "ipython",
    "version": 3
   },
   "file_extension": ".py",
   "mimetype": "text/x-python",
   "name": "python",
   "nbconvert_exporter": "python",
   "pygments_lexer": "ipython3",
   "version": "3.11.7"
  }
 },
 "nbformat": 4,
 "nbformat_minor": 2
}
