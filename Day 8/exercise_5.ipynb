{
 "cells": [
  {
   "cell_type": "code",
   "execution_count": 1,
   "metadata": {},
   "outputs": [
    {
     "data": {
      "text/plain": [
       "[1, 4, 9, 16, 25]"
      ]
     },
     "execution_count": 1,
     "metadata": {},
     "output_type": "execute_result"
    }
   ],
   "source": [
    "#1\n",
    "def square_list(numbers):\n",
    "    return [number ** 2 for number in numbers]\n",
    "\n",
    "square_list([1, 2, 3, 4, 5])"
   ]
  },
  {
   "cell_type": "code",
   "execution_count": 3,
   "metadata": {},
   "outputs": [
    {
     "data": {
      "text/plain": [
       "'Aman'"
      ]
     },
     "execution_count": 3,
     "metadata": {},
     "output_type": "execute_result"
    }
   ],
   "source": [
    "#2\n",
    "def get_employee_name(employee_dict, employee_id):\n",
    "    if employee_id not in employee_dict.keys():\n",
    "        print(\"id not found\")\n",
    "        return \n",
    "    name = employee_dict[employee_id]\n",
    "    return name    \n",
    "get_employee_name({101: \"Aman\", 102:\"Ankit\"}, 101)\n"
   ]
  },
  {
   "cell_type": "code",
   "execution_count": 4,
   "metadata": {},
   "outputs": [
    {
     "data": {
      "text/plain": [
       "{'anish': 90}"
      ]
     },
     "execution_count": 4,
     "metadata": {},
     "output_type": "execute_result"
    }
   ],
   "source": [
    "#3\n",
    "def filer_high_scores(scores):\n",
    "    return {name:score for name, score in scores.items() if score>80}\n",
    "filer_high_scores({'Aman': 80, 'anish':90})\n"
   ]
  },
  {
   "cell_type": "code",
   "execution_count": 6,
   "metadata": {},
   "outputs": [
    {
     "data": {
      "text/plain": [
       "{2, 4}"
      ]
     },
     "execution_count": 6,
     "metadata": {},
     "output_type": "execute_result"
    }
   ],
   "source": [
    "\n",
    "#4\n",
    "def common_elements(set1, set2):\n",
    "    return set1.intersection(set2)\n",
    "common_elements({1, 2, 3, 4}, {2, 4, 6, 8})\n"
   ]
  },
  {
   "cell_type": "code",
   "execution_count": 8,
   "metadata": {},
   "outputs": [
    {
     "data": {
      "text/plain": [
       "12"
      ]
     },
     "execution_count": 8,
     "metadata": {},
     "output_type": "execute_result"
    }
   ],
   "source": [
    "#5\n",
    "def lcm(a, b):\n",
    "    if a > b:\n",
    "        greater = a\n",
    "    else:\n",
    "        greater = b\n",
    "    while True:\n",
    "        if greater % a == 0 and greater % b == 0:\n",
    "            return greater\n",
    "        greater += 1\n",
    "\n",
    "lcm(4, 6)\n",
    "    "
   ]
  },
  {
   "cell_type": "code",
   "execution_count": 53,
   "metadata": {},
   "outputs": [
    {
     "name": "stdout",
     "output_type": "stream",
     "text": [
      "Prime\n"
     ]
    }
   ],
   "source": [
    "#6\n",
    "def is_prime(n):\n",
    "    if n<=1:\n",
    "        return False\n",
    "\n",
    "    for i in range(2,round(n/2)+1):\n",
    "        if n%i==0:\n",
    "            return False\n",
    "        \n",
    "    return True\n",
    "\n",
    "if is_prime(7):\n",
    "    print(\"Prime\")\n",
    "else:\n",
    "    print(\"Not prime\")"
   ]
  },
  {
   "cell_type": "code",
   "execution_count": 6,
   "metadata": {},
   "outputs": [
    {
     "data": {
      "text/plain": [
       "[2, 3, 5, 7]"
      ]
     },
     "execution_count": 6,
     "metadata": {},
     "output_type": "execute_result"
    }
   ],
   "source": [
    "#7\n",
    "n = 10\n",
    "prime = [True for i in range(11)]\n",
    "prime[0]=prime[1]=False\n",
    "for i in range(2, n+1):\n",
    "    for j in range(i**2, n+1, i):\n",
    "        prime[j] = False\n",
    "\n",
    "prime_num = [i for i in range(n+1) if prime[i]==True]\n",
    "prime_num\n",
    "    "
   ]
  },
  {
   "cell_type": "code",
   "execution_count": 15,
   "metadata": {},
   "outputs": [
    {
     "data": {
      "text/plain": [
       "21"
      ]
     },
     "execution_count": 15,
     "metadata": {},
     "output_type": "execute_result"
    }
   ],
   "source": [
    "#8\n",
    "def my_sum(*n):\n",
    "    sum = 0\n",
    "    for i in n:\n",
    "        sum+=i\n",
    "    return sum\n",
    "my_sum(1, 2, 3, 4, 5, 6)"
   ]
  },
  {
   "cell_type": "code",
   "execution_count": 23,
   "metadata": {},
   "outputs": [],
   "source": [
    "#9\n",
    "import requests \n",
    "\n",
    "url = 'https://db5f-103-5-150-130.ngrok-free.app/weather'\n",
    "\n",
    "response = requests.get(url)\n",
    "\n",
    "json_form = response.json()\n",
    "\n",
    "print(f\"Weather Report for {json_form['name']}:\")\n",
    "print(\"Weather: \", json_form['weather'][0]['main'], f\"({json_form['weather'][0]['description']})\")\n",
    "print(\"Temperature: \", json_form['main']['temp'], \"°C\")"
   ]
  }
 ],
 "metadata": {
  "kernelspec": {
   "display_name": "base",
   "language": "python",
   "name": "python3"
  },
  "language_info": {
   "codemirror_mode": {
    "name": "ipython",
    "version": 3
   },
   "file_extension": ".py",
   "mimetype": "text/x-python",
   "name": "python",
   "nbconvert_exporter": "python",
   "pygments_lexer": "ipython3",
   "version": "3.11.7"
  }
 },
 "nbformat": 4,
 "nbformat_minor": 2
}
