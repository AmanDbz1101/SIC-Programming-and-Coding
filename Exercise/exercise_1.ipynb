{
 "cells": [
  {
   "cell_type": "code",
   "execution_count": 6,
   "metadata": {},
   "outputs": [
    {
     "name": "stdout",
     "output_type": "stream",
     "text": [
      "A \n",
      " AAA\n",
      "AAAAA\n",
      " AAA\n",
      "A\n"
     ]
    }
   ],
   "source": [
    "#pp1\n",
    "print(\"A \\n AAA\\nAAAAA\\n AAA\\nA\")"
   ]
  },
  {
   "cell_type": "code",
   "execution_count": 4,
   "metadata": {},
   "outputs": [
    {
     "name": "stdout",
     "output_type": "stream",
     "text": [
      "_It's my name - Rubina Joshi.\n",
      "And I Studied in IOE Campus_\n"
     ]
    }
   ],
   "source": [
    "#pp2\n",
    "print(\"_It's my name - Rubina Joshi.\\nAnd I Studied in IOE Campus_\")"
   ]
  },
  {
   "cell_type": "code",
   "execution_count": 8,
   "metadata": {},
   "outputs": [
    {
     "name": "stdout",
     "output_type": "stream",
     "text": [
      "Day\"s and \\night\n"
     ]
    }
   ],
   "source": [
    "#pp3\n",
    "print(\"Day\\\"s and \\\\night\")"
   ]
  },
  {
   "cell_type": "code",
   "execution_count": 12,
   "metadata": {},
   "outputs": [
    {
     "name": "stdout",
     "output_type": "stream",
     "text": [
      "D\n",
      "L\n"
     ]
    }
   ],
   "source": [
    "#pp4\n",
    "string1 = \"HELLOWWORLD\"\n",
    "print(string1[-1])\n",
    "print(string1[3])\n",
    "# print(string1[16]) #will give string index out of range error"
   ]
  },
  {
   "cell_type": "code",
   "execution_count": 16,
   "metadata": {},
   "outputs": [
    {
     "name": "stdout",
     "output_type": "stream",
     "text": [
      "THRIA\n"
     ]
    }
   ],
   "source": [
    "#pp5\n",
    "string = \"PYTHON TUTORIAL\"\n",
    "print(string[2:4]+string[-4:-1])"
   ]
  },
  {
   "cell_type": "code",
   "execution_count": 18,
   "metadata": {},
   "outputs": [
    {
     "name": "stdout",
     "output_type": "stream",
     "text": [
      "5! =  120 \n",
      "10!= 3628800\n"
     ]
    }
   ],
   "source": [
    "#pp6\n",
    "# n = input (\"Enter a number: \")\n",
    "# factorial =1\n",
    "# for i in range(1, n):\n",
    "    \n",
    "#     factorial = factorial * i\n",
    "\n",
    "# print(\"Factorial of \", n, \" is \", factorial)\n",
    "\n",
    "five = 5*4*3*2*1\n",
    "ten = 10*9*8*7*6*5*4*3*2*1\n",
    "print(\"5! = \", five,\"\\n10!=\", ten)"
   ]
  },
  {
   "cell_type": "code",
   "execution_count": 33,
   "metadata": {},
   "outputs": [
    {
     "name": "stdout",
     "output_type": "stream",
     "text": [
      "Circumference of a circle: 69.115024,Area of a circle: 380.13263200000006\n"
     ]
    }
   ],
   "source": [
    "#pp7\n",
    "r = float(input (\"Enter the radius of a circle:\"))\n",
    "PI = 3.141592\n",
    "c = 2*PI*r\n",
    "a = PI*r*r\n",
    "print(\"Circumference of a circle: \", c, \",Area of a circle: \", a, sep=\"\")"
   ]
  },
  {
   "cell_type": "code",
   "execution_count": 23,
   "metadata": {},
   "outputs": [
    {
     "name": "stdout",
     "output_type": "stream",
     "text": [
      "a\tn\ta**n\n",
      "2\t2\t4\n",
      "3\t2\t9\n",
      "4\t2\t16\n",
      "5\t2\t25\n",
      "6\t2\t36\n"
     ]
    }
   ],
   "source": [
    "#pp8\n",
    "print(\"a\",\"n\", \"a**n\", sep=\"\\t\", end = \"\\n\")\n",
    "for i in range(2, 7):\n",
    "    print(i, 2 , i**2, sep=\"\\t\", end = \"\\n\")"
   ]
  },
  {
   "cell_type": "code",
   "execution_count": 8,
   "metadata": {},
   "outputs": [
    {
     "name": "stdout",
     "output_type": "stream",
     "text": [
      "In the second quadrant\n"
     ]
    }
   ],
   "source": [
    "#pp9\n",
    "point = input(\"Enter x, y coordinates: \")\n",
    "x = float (point.split(\" \")[0])\n",
    "y= float (point.split(\" \")[1])\n",
    "if x>0 and y>0:\n",
    "    print(\"In the first quadrant\")\n",
    "elif x<0 and y>0:\n",
    "    print(\"In the second quadrant\")\n",
    "elif x<0 and y<0:\n",
    "    print(\"In the third quadrant\")\n",
    "elif x>0 and y<0:\n",
    "    print(\"In the fourth quadrant\")\n",
    "elif x==0 and y==0:\n",
    "    print(\"In the origin\")\n",
    "else:\n",
    "    print(\"In the intercept\")\n",
    "    "
   ]
  },
  {
   "cell_type": "code",
   "execution_count": 3,
   "metadata": {},
   "outputs": [
    {
     "name": "stdout",
     "output_type": "stream",
     "text": [
      "Welcome to yummy restaurant. Here is the menu.\n",
      "-Burger(enter b)\n",
      "-Chicken(enter c)\n",
      "-Pizza(enter p)\n",
      "You chose b\n"
     ]
    }
   ],
   "source": [
    "#pp10\n",
    "print(\"Welcome to yummy restaurant. Here is the menu.\\n-Burger(enter b)\\n-Chicken(enter c)\\n-Pizza(enter p)\")\n",
    "choosed = input(\"Choose a menu (enter b,c,p):\")\n",
    "menu = [\"b\", \"c\", \"p\"]\n",
    "while True:\n",
    "    if (choosed not in menu):\n",
    "        choosed = input(\"enter the menu again:\")\n",
    "    else:\n",
    "        print(f\"You chose {choosed}\")\n",
    "        break\n",
    "        \n",
    "    "
   ]
  },
  {
   "cell_type": "code",
   "execution_count": 7,
   "metadata": {},
   "outputs": [
    {
     "name": "stdout",
     "output_type": "stream",
     "text": [
      "5 is the greatest\n"
     ]
    }
   ],
   "source": [
    "#pp11\n",
    "numbers = input(\"Enter three numbers: \").split()\n",
    "a, b, c = int(numbers[0]), int(numbers[1]), int(numbers[2])\n",
    "if (a>b and a>c):\n",
    "    print(f\"{a} is the greatest\")\n",
    "elif(b>a and b>c):\n",
    "    print(f\"{b} is the greatest\")\n",
    "else:\n",
    "    print(f\"{c} is the greatest\")\n",
    "    "
   ]
  },
  {
   "cell_type": "code",
   "execution_count": 9,
   "metadata": {},
   "outputs": [
    {
     "name": "stdout",
     "output_type": "stream",
     "text": [
      "1    2    3    4    5    \n",
      "10    9    8    7    6    \n",
      "11    12    13    14    15    \n",
      "20    19    18    17    16    \n",
      "21    22    23    24    25    \n"
     ]
    }
   ],
   "source": [
    "#pp12\n",
    "n = int(input(\"Enter n:\"))\n",
    "for i in range(n):\n",
    "\n",
    "    for j in range(1, n+1):\n",
    "        if (i%2 ==0):\n",
    "            print(j+i*5, \"  \", end=\" \")\n",
    "        else:\n",
    "            print(5*(i+1)-j+1, \"  \", end=\" \")\n",
    "    print()\n"
   ]
  },
  {
   "cell_type": "code",
   "execution_count": 14,
   "metadata": {},
   "outputs": [
    {
     "name": "stdout",
     "output_type": "stream",
     "text": [
      "\n",
      "7\n",
      "77\n",
      "777\n",
      "7777\n"
     ]
    }
   ],
   "source": [
    "#pp13\n",
    "for i in range(5):\n",
    "    print(\"7\"*i)"
   ]
  },
  {
   "cell_type": "code",
   "execution_count": 16,
   "metadata": {},
   "outputs": [
    {
     "name": "stdout",
     "output_type": "stream",
     "text": [
      "1 \n",
      "2 3 \n",
      "4 5 6 \n",
      "7 8 9 10 \n"
     ]
    }
   ],
   "source": [
    "#pp14\n",
    "a = 1\n",
    "for i in range (4):\n",
    "    for j in range(range(1, 5)[i]):\n",
    "        print(a, end = \" \")\n",
    "        a+=1\n",
    "    print()\n",
    "        "
   ]
  },
  {
   "cell_type": "code",
   "execution_count": 30,
   "metadata": {},
   "outputs": [
    {
     "name": "stdout",
     "output_type": "stream",
     "text": [
      "6 5 4 \n",
      "3 2 \n",
      "1 \n"
     ]
    }
   ],
   "source": [
    "#pp15\n",
    "a = 6\n",
    "for i in range (3, 0, -1):\n",
    "    for j in range(i):\n",
    "        print(a, end = \" \")\n",
    "        a-=1\n",
    "    print()"
   ]
  },
  {
   "cell_type": "code",
   "execution_count": 15,
   "metadata": {},
   "outputs": [
    {
     "name": "stdout",
     "output_type": "stream",
     "text": [
      "0, 1, 1, 2, 3, ...\n"
     ]
    }
   ],
   "source": [
    "#pp16\n",
    "a = 0\n",
    "b = 1\n",
    "n = int(input(\"Enter n:\"))\n",
    "print(a, b, end =\", \", sep=\", \")\n",
    "for i in range(n-2):\n",
    "    c = a+b\n",
    "    a = b\n",
    "    b = c\n",
    "    print(c, end = \", \")\n",
    "print(\"...\")\n",
    "    "
   ]
  },
  {
   "cell_type": "code",
   "execution_count": 20,
   "metadata": {},
   "outputs": [
    {
     "name": "stdout",
     "output_type": "stream",
     "text": [
      "hserus\n"
     ]
    }
   ],
   "source": [
    "#pp17\n",
    "name = \"suresh\" \n",
    "rev = name[::-1]\n",
    "print(rev)"
   ]
  },
  {
   "cell_type": "code",
   "execution_count": null,
   "metadata": {},
   "outputs": [
    {
     "name": "stdout",
     "output_type": "stream",
     "text": [
      "2442 => Palindrome\n"
     ]
    }
   ],
   "source": [
    "#pp18\n",
    "n = input(\"Enter a number: \") #stored as a string\n",
    "if (n==n[::-1]):\n",
    "    print(n, \"=> Palindrome\")\n",
    "else:\n",
    "    print(n, \"=> Not palindrome\")"
   ]
  },
  {
   "cell_type": "code",
   "execution_count": 25,
   "metadata": {},
   "outputs": [
    {
     "name": "stdout",
     "output_type": "stream",
     "text": [
      "Guess a number between 1 and 100\n",
      "Higher!\n",
      "Higher!\n",
      "Higher!\n",
      "Lower!\n",
      "Lower!\n",
      "Lower!\n",
      "Congratulations. Total try = 7\n"
     ]
    }
   ],
   "source": [
    "#pp19\n",
    "import random \n",
    "answer = random.randint(1, 100)\n",
    "print(\"Guess a number between 1 and 100\")\n",
    "\n",
    "n = int(input(\"Enter a number: \"))\n",
    "tries = 1\n",
    "while True:\n",
    "    if n>answer:\n",
    "        print(\"Lower!\")\n",
    "        n = int(input(\"Enter a number: \"))\n",
    "    elif n<answer:\n",
    "        print(\"Higher!\")\n",
    "        n = int(input(\"Enter a number: \"))\n",
    "    else:\n",
    "        print(\"Congratulations. Total try=\", tries)\n",
    "        break\n",
    "    tries +=1"
   ]
  },
  {
   "cell_type": "code",
   "execution_count": 47,
   "metadata": {},
   "outputs": [
    {
     "name": "stdout",
     "output_type": "stream",
     "text": [
      "   T\n",
      "  TTT\n",
      " TTTTT\n",
      "  TTT\n",
      "   T\n"
     ]
    }
   ],
   "source": [
    "#pp20\n",
    "for i in range(1, 6, 2):\n",
    "    print(\" \"*((5-i)//2), \"T\"*i)\n",
    "for i in range(3, 0, -2):\n",
    "    print(\" \"*((5-i)//2), \"T\"*i)"
   ]
  },
  {
   "cell_type": "code",
   "execution_count": 48,
   "metadata": {},
   "outputs": [
    {
     "name": "stdout",
     "output_type": "stream",
     "text": [
      "Leap year\n"
     ]
    }
   ],
   "source": [
    "#pp21\n",
    "year = int(input(\"Enter a year: \"))\n",
    "if (year%4 ==0):\n",
    "    print(\"Leap year\")\n",
    "else:\n",
    "    print(\"Not a leap year\")"
   ]
  },
  {
   "cell_type": "code",
   "execution_count": 56,
   "metadata": {},
   "outputs": [
    {
     "name": "stdout",
     "output_type": "stream",
     "text": [
      "BMI:  22.839506172839506\n",
      "Normal weight\n"
     ]
    }
   ],
   "source": [
    "#pp22\n",
    "Height = float(input(\"Enter height in cm: \"))\n",
    "Weight = float(input(\"Enter weight in kg: \"))\n",
    "BMI = Weight/(Height/100)**2\n",
    "print(\"BMI: \", BMI)\n",
    "if(BMI<18.5):\n",
    "    print(\"Underweight\")\n",
    "elif(BMI>=18.5 and BMI<=24.9):\n",
    "    print(\"Normal weight\")\n",
    "elif(BMI>=25.0 and BMI<=29.9):\n",
    "    print(\"Pre-obesity\")\n",
    "elif(BMI>=30.0 and BMI<=34.9):\n",
    "    print(\"Obesity class I\")\n",
    "elif(BMI>=35.0 and BMI<=39.9):\n",
    "    print(\"Obesity class II\")\n",
    "else:\n",
    "    print(\"Obesity class III\")\n",
    "\n"
   ]
  },
  {
   "cell_type": "code",
   "execution_count": 57,
   "metadata": {},
   "outputs": [
    {
     "name": "stdout",
     "output_type": "stream",
     "text": [
      "You are in your teenage\n"
     ]
    }
   ],
   "source": [
    "#pp23\n",
    "age = int(input(\"Enter your age: \"))\n",
    "if (age>=13 and age<=19):\n",
    "    print(\"You are in your teenage\")"
   ]
  },
  {
   "cell_type": "code",
   "execution_count": 60,
   "metadata": {},
   "outputs": [
    {
     "name": "stdout",
     "output_type": "stream",
     "text": [
      "1, 2, fiz, 4, buzz, fiz, 7, 8, fiz, buzz, 11, fiz, 13, 14, fizzbuzz, 16, 17, fiz, 19, buzz, fiz, 22, 23, fiz, buzz, 26, fiz, 28, 29, fizzbuzz, 31, 32, fiz, 34, buzz, fiz, 37, 38, fiz, buzz, 41, fiz, 43, 44, fizzbuzz, 46, 47, fiz, 49, buzz, fiz, 52, 53, fiz, buzz, 56, fiz, 58, 59, fizzbuzz, 61, 62, fiz, 64, buzz, fiz, 67, 68, fiz, buzz, 71, fiz, 73, 74, fizzbuzz, 76, 77, fiz, 79, buzz, fiz, 82, 83, fiz, buzz, 86, fiz, 88, 89, fizzbuzz, 91, 92, fiz, 94, buzz, fiz, 97, 98, fiz, buzz, "
     ]
    }
   ],
   "source": [
    "#pp24\n",
    "for i in range(1, 101):\n",
    "    if (i%3 ==0 and i%5==0):\n",
    "        print(\"fizzbuzz\", end=\", \")\n",
    "    elif(i%3 ==0):\n",
    "        print(\"fiz\", end=\", \")\n",
    "    elif(i%5 ==0):\n",
    "        print(\"buzz\", end=\", \")\n",
    "    else:\n",
    "        print(i, end=\", \")"
   ]
  },
  {
   "cell_type": "code",
   "execution_count": 65,
   "metadata": {},
   "outputs": [
    {
     "name": "stdout",
     "output_type": "stream",
     "text": [
      "1, 2, 3, 4, 5, 7, 11, 13, 17, 19, 23, 29, 31, 37, 41, 43, 47, 53, 59, 61, 67, 71, 73, 79, 83, 89, 97, "
     ]
    }
   ],
   "source": [
    "#pp25\n",
    "for i in range(1, 101):\n",
    "    count = 0\n",
    "    for j in range(2, i//2):\n",
    "        if (i%j==0):\n",
    "            count+=1\n",
    "    if (count==0):\n",
    "        print(i, end=\", \")\n",
    "            "
   ]
  }
 ],
 "metadata": {
  "kernelspec": {
   "display_name": "base",
   "language": "python",
   "name": "python3"
  },
  "language_info": {
   "codemirror_mode": {
    "name": "ipython",
    "version": 3
   },
   "file_extension": ".py",
   "mimetype": "text/x-python",
   "name": "python",
   "nbconvert_exporter": "python",
   "pygments_lexer": "ipython3",
   "version": "3.11.7"
  }
 },
 "nbformat": 4,
 "nbformat_minor": 2
}
