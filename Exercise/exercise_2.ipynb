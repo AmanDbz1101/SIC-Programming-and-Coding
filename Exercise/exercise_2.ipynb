{
 "cells": [
  {
   "cell_type": "code",
   "execution_count": 2,
   "metadata": {},
   "outputs": [
    {
     "data": {
      "text/plain": [
       "[0, 1, 2, 3, 4]"
      ]
     },
     "execution_count": 2,
     "metadata": {},
     "output_type": "execute_result"
    }
   ],
   "source": [
    "#1\n",
    "num = []\n",
    "for i in range(5):\n",
    "    num.append(i)\n",
    "num"
   ]
  },
  {
   "cell_type": "code",
   "execution_count": 6,
   "metadata": {},
   "outputs": [
    {
     "data": {
      "text/plain": [
       "['a', 'aa', 'aaa', 'aaaa', 'aaaaa']"
      ]
     },
     "execution_count": 6,
     "metadata": {},
     "output_type": "execute_result"
    }
   ],
   "source": [
    "#2\n",
    "list = []\n",
    "for i in range(1, 6):\n",
    "    list.append('a'*i)\n",
    "list"
   ]
  },
  {
   "cell_type": "code",
   "execution_count": 8,
   "metadata": {},
   "outputs": [
    {
     "name": "stdout",
     "output_type": "stream",
     "text": [
      "green\n",
      "['blue', 'green', 'yellow']\n",
      "['red', 'blue', 'green', 'yellow']\n",
      "['red', 'blue']\n"
     ]
    }
   ],
   "source": [
    "#3\n",
    "colors = ['red','blue', 'green', 'yellow']\n",
    "\n",
    "print(colors[2])\n",
    "print(colors[1:4])\n",
    "print(colors[-10:])\n",
    "print(colors[-5:2])"
   ]
  },
  {
   "cell_type": "code",
   "execution_count": 9,
   "metadata": {},
   "outputs": [
    {
     "data": {
      "text/plain": [
       "[1, 'name', 1.003, True]"
      ]
     },
     "execution_count": 9,
     "metadata": {},
     "output_type": "execute_result"
    }
   ],
   "source": [
    "#4\n",
    "mixed = [1, \"name\", 1.003, True]\n",
    "mixed"
   ]
  },
  {
   "cell_type": "code",
   "execution_count": 3,
   "metadata": {},
   "outputs": [
    {
     "name": "stdout",
     "output_type": "stream",
     "text": [
      "70\n",
      "95\n",
      "85.8\n",
      "['Grade B', 'Grade C', 'Grade A', 'Grade A', 'Grade A']\n"
     ]
    }
   ],
   "source": [
    "#5\n",
    "marks = []\n",
    "for i in range(1, 6):\n",
    "    marks.append(int(input(f\"Enter marks in subject {i}: \")))\n",
    "\n",
    "min_marks = min(marks)\n",
    "max_marks = max(marks)\n",
    "percentage = sum(marks)/500*100\n",
    "\n",
    "grades=[]\n",
    "for mark in marks:\n",
    "    if (mark>=90):\n",
    "        grade=\"Grade A\"\n",
    "    elif (mark>=80):\n",
    "        grade=\"Grade B\"\n",
    "    else:\n",
    "        grade=\"Grade C\"\n",
    "    grades.append(grade)\n",
    "    \n",
    "print(min_marks)\n",
    "print(max_marks)\n",
    "print(percentage)\n",
    "print(grades)\n",
    "\n"
   ]
  },
  {
   "cell_type": "code",
   "execution_count": 11,
   "metadata": {},
   "outputs": [
    {
     "name": "stdout",
     "output_type": "stream",
     "text": [
      "12\n",
      "67\n",
      "35\n",
      "27\n",
      "9\n"
     ]
    }
   ],
   "source": [
    "#6\n",
    "import random\n",
    "\n",
    "random_list = []\n",
    "for i in range(5):\n",
    "    random_list.append(random.randint(1, 100))\n",
    "\n",
    "for element in random_list:\n",
    "    print(element)"
   ]
  },
  {
   "cell_type": "code",
   "execution_count": 4,
   "metadata": {},
   "outputs": [
    {
     "data": {
      "text/plain": [
       "[1, 2, 3, 4, 5, 6, 7, 8, 9, 10]"
      ]
     },
     "execution_count": 4,
     "metadata": {},
     "output_type": "execute_result"
    }
   ],
   "source": [
    "#7\n",
    "list1 = [1, 2, 3, 4, 5]\n",
    "list2 = [6, 7, 8, 9, 10]\n",
    "list3 = list1 + list2\n",
    "list3"
   ]
  },
  {
   "cell_type": "code",
   "execution_count": 32,
   "metadata": {},
   "outputs": [
    {
     "data": {
      "text/plain": [
       "[1, 2, 34, 3, 33, 4]"
      ]
     },
     "execution_count": 32,
     "metadata": {},
     "output_type": "execute_result"
    }
   ],
   "source": [
    "#8\n",
    "nums = input(\"Enter numbers\").split(\" \")\n",
    "if (nums[-1]==''):\n",
    "    nums=nums[:-2]\n",
    "\n",
    "for i,num in enumerate(nums):\n",
    "    # nums[i] = int(nums[i])\n",
    "    count = 0\n",
    "    for n in nums:\n",
    "        if num==n:\n",
    "            count+=1\n",
    "    if count>1:\n",
    "        nums.remove(num)\n",
    "nums = [int(num) for num in nums]\n",
    "nums"
   ]
  },
  {
   "cell_type": "code",
   "execution_count": 33,
   "metadata": {},
   "outputs": [
    {
     "name": "stdout",
     "output_type": "stream",
     "text": [
      "4\n",
      "5\n"
     ]
    }
   ],
   "source": [
    "#9\n",
    "list1 = [1, 2, 3, 4, 5]\n",
    "list2 = [4, 5, 6, 7, 8]\n",
    "\n",
    "for i in list1:\n",
    "    if i in list2:\n",
    "        print(i)"
   ]
  },
  {
   "cell_type": "code",
   "execution_count": 34,
   "metadata": {},
   "outputs": [
    {
     "data": {
      "text/plain": [
       "[[1, 2, 3], [4, 5, 6], [7, 8, 9]]"
      ]
     },
     "execution_count": 34,
     "metadata": {},
     "output_type": "execute_result"
    }
   ],
   "source": [
    "#10\n",
    "matrix =[[1, 2, 3], [4, 5, 6], [7, 8, 9]]\n",
    "matrix"
   ]
  },
  {
   "cell_type": "code",
   "execution_count": 37,
   "metadata": {},
   "outputs": [
    {
     "data": {
      "text/plain": [
       "[1, 2, 3, 4, 5, 6]"
      ]
     },
     "execution_count": 37,
     "metadata": {},
     "output_type": "execute_result"
    }
   ],
   "source": [
    "#11\n",
    "matrix = [[1, 2], [3, 4], [5, 6]]\n",
    "flattened_matrix = []\n",
    "for row in matrix:\n",
    "    for element in row:\n",
    "        flattened_matrix.append(element)\n",
    "\n",
    "flattened_matrix"
   ]
  },
  {
   "cell_type": "code",
   "execution_count": 16,
   "metadata": {},
   "outputs": [
    {
     "name": "stdout",
     "output_type": "stream",
     "text": [
      "User chose Paper\n",
      "Computer chose Paper\n",
      "Draw\n"
     ]
    }
   ],
   "source": [
    "#12\n",
    "import random\n",
    "options = ['Rock', 'Paper', 'Scissors']\n",
    "user = int(input(\"Enter your choice: \\n1. Rock\\n2. Paper\\n3. Scissors\\n\"))\n",
    "computer = random.randint(1, 4)\n",
    "print(f\"User chose {options[user-1]}\")\n",
    "print(f\"Computer chose {options[computer-1]}\")\n",
    "if (computer == user):\n",
    "    print(\"Draw\")\n",
    "elif(computer == 1 and user == 2):\n",
    "    print(\"User wins\")\n",
    "elif(computer == 1 and user == 3):\n",
    "    print(\"Computer wins\")\n",
    "elif(computer == 2 and user == 1):\n",
    "    print(\"Computer wins\")\n",
    "elif(computer == 2 and user == 3):\n",
    "    print(\"User wins\")\n",
    "elif(computer == 3 and user == 1):\n",
    "    print(\"User wins\")\n",
    "elif(computer == 3 and user == 2):\n",
    "    print(\"Computer wins\")\n",
    "\n",
    "\n"
   ]
  },
  {
   "cell_type": "code",
   "execution_count": 19,
   "metadata": {},
   "outputs": [
    {
     "data": {
      "text/plain": [
       "['__add__',\n",
       " '__class__',\n",
       " '__class_getitem__',\n",
       " '__contains__',\n",
       " '__delattr__',\n",
       " '__delitem__',\n",
       " '__dir__',\n",
       " '__doc__',\n",
       " '__eq__',\n",
       " '__format__',\n",
       " '__ge__',\n",
       " '__getattribute__',\n",
       " '__getitem__',\n",
       " '__getstate__',\n",
       " '__gt__',\n",
       " '__hash__',\n",
       " '__iadd__',\n",
       " '__imul__',\n",
       " '__init__',\n",
       " '__init_subclass__',\n",
       " '__iter__',\n",
       " '__le__',\n",
       " '__len__',\n",
       " '__lt__',\n",
       " '__mul__',\n",
       " '__ne__',\n",
       " '__new__',\n",
       " '__reduce__',\n",
       " '__reduce_ex__',\n",
       " '__repr__',\n",
       " '__reversed__',\n",
       " '__rmul__',\n",
       " '__setattr__',\n",
       " '__setitem__',\n",
       " '__sizeof__',\n",
       " '__str__',\n",
       " '__subclasshook__',\n",
       " 'append',\n",
       " 'clear',\n",
       " 'copy',\n",
       " 'count',\n",
       " 'extend',\n",
       " 'index',\n",
       " 'insert',\n",
       " 'pop',\n",
       " 'remove',\n",
       " 'reverse',\n",
       " 'sort']"
      ]
     },
     "execution_count": 19,
     "metadata": {},
     "output_type": "execute_result"
    }
   ],
   "source": [
    "#13\n",
    "dir(list)"
   ]
  }
 ],
 "metadata": {
  "kernelspec": {
   "display_name": "base",
   "language": "python",
   "name": "python3"
  },
  "language_info": {
   "codemirror_mode": {
    "name": "ipython",
    "version": 3
   },
   "file_extension": ".py",
   "mimetype": "text/x-python",
   "name": "python",
   "nbconvert_exporter": "python",
   "pygments_lexer": "ipython3",
   "version": "3.11.7"
  }
 },
 "nbformat": 4,
 "nbformat_minor": 2
}
