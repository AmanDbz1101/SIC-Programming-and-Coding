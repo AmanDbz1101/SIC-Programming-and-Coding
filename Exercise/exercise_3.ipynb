{
 "cells": [
  {
   "cell_type": "code",
   "execution_count": 23,
   "metadata": {},
   "outputs": [
    {
     "data": {
      "text/plain": [
       "{'name': 'Alice', 'age': 25, 'city': 'New York'}"
      ]
     },
     "execution_count": 23,
     "metadata": {},
     "output_type": "execute_result"
    }
   ],
   "source": [
    "#1\n",
    "first_dict = {\n",
    "    \"name\": \"Alice\",\n",
    "    \"age\": 25, \n",
    "    \"city\": \"New York\"\n",
    "}\n",
    "first_dict"
   ]
  },
  {
   "cell_type": "code",
   "execution_count": 25,
   "metadata": {},
   "outputs": [
    {
     "data": {
      "text/plain": [
       "'Bob'"
      ]
     },
     "execution_count": 25,
     "metadata": {},
     "output_type": "execute_result"
    }
   ],
   "source": [
    "#2\n",
    "person = {'name': 'Bob', 'age': 30}\n",
    "person['name']"
   ]
  },
  {
   "cell_type": "code",
   "execution_count": 30,
   "metadata": {},
   "outputs": [
    {
     "name": "stdout",
     "output_type": "stream",
     "text": [
      "key: apple , value: 2\n",
      "key: banana , value: 1\n",
      "key: cherry , value: 3\n"
     ]
    }
   ],
   "source": [
    "#3\n",
    "fruit_prices = {'apple': 2, 'banana': 1, 'cherry': 3}\n",
    "for i, j in fruit_prices.items():\n",
    "    print(\"key:\", i, \", value:\", j)"
   ]
  },
  {
   "cell_type": "code",
   "execution_count": 31,
   "metadata": {},
   "outputs": [
    {
     "data": {
      "text/plain": [
       "{'name': 'Bob', 'age': 40}"
      ]
     },
     "execution_count": 31,
     "metadata": {},
     "output_type": "execute_result"
    }
   ],
   "source": [
    "#4\n",
    "person = {'name': 'Bob', 'age': 30}\n",
    "person['age']=40\n",
    "person"
   ]
  },
  {
   "cell_type": "code",
   "execution_count": 34,
   "metadata": {},
   "outputs": [
    {
     "name": "stdout",
     "output_type": "stream",
     "text": [
      "key Exists\n"
     ]
    }
   ],
   "source": [
    "#5\n",
    "search_key = \"name\"\n",
    "if search_key in person.keys():\n",
    "    print(\"key Exists\")\n",
    "else:\n",
    "    print(\"Key does not exist\")"
   ]
  },
  {
   "cell_type": "code",
   "execution_count": 35,
   "metadata": {},
   "outputs": [
    {
     "data": {
      "text/plain": [
       "85"
      ]
     },
     "execution_count": 35,
     "metadata": {},
     "output_type": "execute_result"
    }
   ],
   "source": [
    "#6\n",
    "data = {'student': {'name': 'Alice', 'marks': {'math': 90, 'science': 85}}}\n",
    "data['student']['marks']['science']"
   ]
  },
  {
   "cell_type": "code",
   "execution_count": 38,
   "metadata": {},
   "outputs": [
    {
     "data": {
      "text/plain": [
       "{'a': 1, 'b': 3, 'c': 4}"
      ]
     },
     "execution_count": 38,
     "metadata": {},
     "output_type": "execute_result"
    }
   ],
   "source": [
    "#7\n",
    "dict1 = {'a':1, 'b':2}\n",
    "dict2 = {'b':3, 'c':4}\n",
    "\n",
    "dict1.update(dict2)\n",
    "dict1"
   ]
  },
  {
   "cell_type": "code",
   "execution_count": 6,
   "metadata": {},
   "outputs": [
    {
     "data": {
      "text/plain": [
       "[{'name': 'Aman', 'marks': {'math': 99, 'science': 98, 'english': 97}},\n",
       " {'name': 'Anish ', 'marks': {'math': 100, 'science': 100, 'english': 100}},\n",
       " {'name': 'Charlie ', 'marks': {'math': 95, 'science': 89, 'english': 0}}]"
      ]
     },
     "execution_count": 6,
     "metadata": {},
     "output_type": "execute_result"
    }
   ],
   "source": [
    "#8\n",
    "dict_list =[]\n",
    "for i in range(3):\n",
    "    name = input(f\"Enter name{i+1}\")\n",
    "    marks=[]\n",
    "    marks= input(\"Enter 3 marks:\")\n",
    "    marks=marks.split(\" \")\n",
    "    dict={\"name\": name,\n",
    "      \"marks\":{\n",
    "          \"math\":int(marks[0]), \"science\":int(marks[1]), \"english\":int(marks[2])\n",
    "      }\n",
    "      }\n",
    "    dict_list.append(dict)\n",
    "dict_list\n"
   ]
  },
  {
   "cell_type": "code",
   "execution_count": 10,
   "metadata": {},
   "outputs": [
    {
     "name": "stdout",
     "output_type": "stream",
     "text": [
      "The name of the teacher:  Mrs. Smith\n",
      "Charlie's marks in math: 95\n",
      "['Alice', 'Bob', 'Charlie']\n",
      "\n",
      "Alice's average marks: 88.5\n",
      "Bob's average marks: 83.0\n",
      "Charlie's average marks: 92.0\n"
     ]
    }
   ],
   "source": [
    "#9\n",
    "data = {\n",
    "    'class': 'Grade 5',\n",
    "    'students': [\n",
    "        {'name': 'Alice', 'subjects': {'math': 85, 'science': 92}},\n",
    "        {'name': 'Bob', 'subjects': {'math': 78, 'science': 88}},\n",
    "        {'name': 'Charlie', 'subjects': {'math': 95, 'science': 89}}\n",
    "    ],\n",
    "    'teacher': {'name': 'Mrs. Smith', 'subject': 'science'}\n",
    "}\n",
    "\n",
    "print(\"The name of the teacher: \", data['teacher']['name'])\n",
    "name=[]\n",
    "avg=[]\n",
    "for student in data['students']:\n",
    "    avg.append(sum(student['subjects'].values())/len(student['subjects']))\n",
    "    if (student['name']==\"Charlie\"):\n",
    "        print(\"Charlie's marks in math:\",student['subjects']['math'])\n",
    "    name.append(student['name'])\n",
    "print(name)\n",
    "print()\n",
    "for n, a in zip(name, avg):\n",
    "    print(f\"{n}'s average marks: {a}\")"
   ]
  }
 ],
 "metadata": {
  "kernelspec": {
   "display_name": "base",
   "language": "python",
   "name": "python3"
  },
  "language_info": {
   "codemirror_mode": {
    "name": "ipython",
    "version": 3
   },
   "file_extension": ".py",
   "mimetype": "text/x-python",
   "name": "python",
   "nbconvert_exporter": "python",
   "pygments_lexer": "ipython3",
   "version": "3.11.7"
  }
 },
 "nbformat": 4,
 "nbformat_minor": 2
}
