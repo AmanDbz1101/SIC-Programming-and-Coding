{
 "cells": [
  {
   "cell_type": "code",
   "execution_count": 38,
   "metadata": {},
   "outputs": [],
   "source": [
    "#1\n",
    "emp_list = []\n",
    "emp_tuple = ()\n",
    "emp_dict = {}\n",
    "emp_set = set()\n",
    "tup = (1,)"
   ]
  },
  {
   "cell_type": "code",
   "execution_count": 41,
   "metadata": {},
   "outputs": [],
   "source": [
    "#2\n",
    "con_tuple = tuple(emp_list)\n",
    "con_set = set(emp_list)\n",
    "con_list= list(emp_tuple)\n",
    "tuple_set = set(emp_tuple)\n",
    "set_list = list(emp_set)\n",
    "set_tuple = tuple(emp_set)"
   ]
  },
  {
   "cell_type": "code",
   "execution_count": 46,
   "metadata": {},
   "outputs": [
    {
     "data": {
      "text/plain": [
       "{1: 2, 2: 3, 3: 4}"
      ]
     },
     "execution_count": 46,
     "metadata": {},
     "output_type": "execute_result"
    }
   ],
   "source": [
    "#3\n",
    "type([(1,2), (2, 3), (3, 4)][0])\n",
    "mix = [(1,2), (2,3), (3,4)]\n",
    "dict(mix)"
   ]
  },
  {
   "cell_type": "code",
   "execution_count": 70,
   "metadata": {},
   "outputs": [
    {
     "name": "stdout",
     "output_type": "stream",
     "text": [
      "1\n"
     ]
    }
   ],
   "source": [
    "#4\n",
    "l = [1,3,1,2,5]\n",
    "c=0\n",
    "for n,i in enumerate(l):\n",
    "    if i in l[n+1:]:\n",
    "        print(i)\n",
    "        c=1\n",
    "        break\n",
    "if c==0:\n",
    "    print(\"None\")"
   ]
  },
  {
   "cell_type": "code",
   "execution_count": 66,
   "metadata": {},
   "outputs": [
    {
     "name": "stdout",
     "output_type": "stream",
     "text": [
      "1\n"
     ]
    }
   ],
   "source": [
    "l = [1,3,1,2,5]\n",
    "for i in l:\n",
    "    if l.count(i)>1:\n",
    "        print(i)\n",
    "        break"
   ]
  },
  {
   "cell_type": "code",
   "execution_count": 69,
   "metadata": {},
   "outputs": [
    {
     "data": {
      "text/plain": [
       "{1: 4, 2: 3, 3: 2}"
      ]
     },
     "execution_count": 69,
     "metadata": {},
     "output_type": "execute_result"
    }
   ],
   "source": [
    "#5\n",
    "l = [1, 2, 3, 1, 2, 3, 1, 2, 1]\n",
    "d = {}\n",
    "for i in l:\n",
    "    if i in d:\n",
    "        d[i] += 1\n",
    "    else:\n",
    "        d[i] = 1\n",
    "d"
   ]
  },
  {
   "cell_type": "code",
   "execution_count": 3,
   "metadata": {},
   "outputs": [
    {
     "data": {
      "text/plain": [
       "[2, 1, 3]"
      ]
     },
     "execution_count": 3,
     "metadata": {},
     "output_type": "execute_result"
    }
   ],
   "source": [
    "#6\n",
    "temp_l = [1, 1, 2, 3, 2, 3, 1, 3]\n",
    "rem=[]\n",
    "rem = [n for n, i in enumerate(temp_l) if i in temp_l[n+1:]]\n",
    "\n",
    "for i in range(len(temp_l), -1, -1):\n",
    "    if i in rem:\n",
    "        del temp_l[i]\n",
    "        \n",
    "      \n",
    "temp_l"
   ]
  },
  {
   "cell_type": "code",
   "execution_count": 9,
   "metadata": {},
   "outputs": [
    {
     "name": "stdout",
     "output_type": "stream",
     "text": [
      "banana is present\n",
      "berry is not present\n",
      "{'banana', 'apple', 'orange', 'cherry'}\n",
      "{'apple', 'orange', 'cherry'}\n"
     ]
    }
   ],
   "source": [
    "#7\n",
    "fruits = {'apple', 'banana', 'cherry'}\n",
    "if 'banana' in fruits:\n",
    "    print(\"banana is present\")\n",
    "    \n",
    "if 'berry' in fruits:\n",
    "    print(\"Berry is present\")\n",
    "else:\n",
    "    print(\"berry is not present\")\n",
    "    \n",
    "fruits.add('orange')\n",
    "print(fruits)\n",
    "\n",
    "fruits.remove('banana')\n",
    "print(fruits)"
   ]
  },
  {
   "cell_type": "code",
   "execution_count": 20,
   "metadata": {},
   "outputs": [
    {
     "name": "stdout",
     "output_type": "stream",
     "text": [
      "{1, 2, 3, 4, 5} {2, 3} {1, 4}\n",
      "set1 is not subset of set2\n",
      "set2 is not superset of set1\n"
     ]
    }
   ],
   "source": [
    "#8\n",
    "set1 = {1, 2, 3, 4}\n",
    "set2 = {2, 3, 5}\n",
    "\n",
    "union = set1.union(set2)\n",
    "intersection = set1.intersection(set2)\n",
    "diff = set1.difference(set2)\n",
    "\n",
    "print(union, intersection, diff)\n",
    "\n",
    "if (set1.issubset(set2)):\n",
    "    print(\"set1 is subset of set2\")\n",
    "else:\n",
    "    print(\"set1 is not subset of set2\")\n",
    "    \n",
    "if (set2.issuperset(set1)):\n",
    "    print(\"set2 is superset of set1\")\n",
    "else:\n",
    "    print(\"set2 is not superset of set1\")\n",
    "\n"
   ]
  },
  {
   "cell_type": "code",
   "execution_count": 19,
   "metadata": {},
   "outputs": [
    {
     "name": "stdout",
     "output_type": "stream",
     "text": [
      "set1 is subset of set2\n",
      "set2 is superset of set1\n"
     ]
    }
   ],
   "source": [
    "#9\n",
    "set1 = {1, 2}\n",
    "set2 = {1, 2, 3, 4}\n",
    "if (set1.issubset(set2)):\n",
    "    print(\"set1 is subset of set2\")\n",
    "else:\n",
    "    print(\"set1 is not subset of set2\")\n",
    "    \n",
    "if (set2.issuperset(set1)):\n",
    "    print(\"set2 is superset of set1\")\n",
    "else:\n",
    "    print(\"set2 is not superset of set1\")\n",
    "\n",
    "\n"
   ]
  },
  {
   "cell_type": "code",
   "execution_count": 26,
   "metadata": {},
   "outputs": [],
   "source": [
    "#10\n",
    "data = {\n",
    "\"company\": {\n",
    "\"name\": \"TechCorp\",\n",
    "\"employees\": [\n",
    "{\n",
    "\"id\": 1,\n",
    "\"name\": \"Alice\",\n",
    "\"department\": \"Development\",\n",
    "\"skills\": [\"Python\", \"Django\", \"React\"],\n",
    "\"salary\": 75000\n",
    "},\n",
    "{\n",
    "\"id\": 2,\n",
    "\"name\": \"Bob\",\n",
    "\"department\": \"Development\",\n",
    "\"skills\": [\"Java\", \"Spring\", \"Angular\"],\n",
    "\"salary\": 70000\n",
    "},\n",
    "{\n",
    "\"id\": 3,\n",
    "\"name\": \"Charlie\",\n",
    "\"department\": \"Marketing\",\n",
    "\"skills\": [\"SEO\", \"Content Writing\"],\n",
    "\"salary\": 60000\n",
    "}\n",
    "],\n",
    "\"location\": {\n",
    "\"city\": \"New York\",\n",
    "\"country\": \"USA\"\n",
    "},\n",
    "\"products\": [\n",
    "{\"id\": \"P1\", \"name\": \"ProductA\", \"price\": 120.50},\n",
    "{\"id\": \"P2\", \"name\": \"ProductB\", \"price\": 80.75}\n",
    "]\n",
    "}\n",
    "}\n",
    "import json\n",
    "file = open('first.json', 'w')\n",
    "json.dump(data, file)\n",
    "file.close()"
   ]
  },
  {
   "cell_type": "code",
   "execution_count": 91,
   "metadata": {},
   "outputs": [
    {
     "name": "stdout",
     "output_type": "stream",
     "text": [
      "person skilled in Python:  ['Alice', '4th employee']\n",
      "{'company': {'name': 'TechCorp', 'employees': [{'id': 1, 'name': 'Alice', 'department': 'Development', 'skills': ['Python', 'Django', 'React'], 'salary': 82500.0}, {'id': 2, 'name': 'Bob', 'department': 'Development', 'skills': ['Java', 'Spring', 'Angular'], 'salary': 77000.0}, {'id': 3, 'name': 'Charlie', 'department': 'Marketing', 'skills': ['SEO', 'Content Writing'], 'salary': 66000.0}, {'id': 4, 'name': '4th employee', 'skills': ['Python'], 'salary': 66000.0}], 'location': {'city': 'New York', 'country': 'USA'}, 'products': [{'id': 'P1', 'name': 'ProductA', 'price': 120.5}, {'id': 'P2', 'name': 'ProductB', 'price': 80.75}]}, 'last_updated': 'Thu Jan  9 08:30:48 2025'}\n"
     ]
    }
   ],
   "source": [
    "#11\n",
    "file = open('first.json', 'r')\n",
    "loaded_data=json.load(file)\n",
    "file.close()\n",
    "\n",
    "\n",
    "from datetime import datetime\n",
    "loaded_data['last_updated'] = datetime.now().strftime('%c')\n",
    "\n",
    "\n",
    "loaded_data['company']['employees'].append({'id': 4, 'name':'4th employee', 'skills':['Python'], 'salary': 60000})\n",
    "\n",
    "for employee in loaded_data['company']['employees']:\n",
    "    employee['salary']+=0.1*employee['salary']\n",
    "\n",
    "python_skilled = [employee['name'] for employee in loaded_data['company']['employees'] if 'Python' in employee['skills']]\n",
    "\n",
    "print(\"person skilled in Python: \", python_skilled)\n",
    "\n",
    "print(loaded_data)\n",
    "\n",
    "file = open('second.json', 'w')\n",
    "json.dump(loaded_data, file)\n",
    "file.close()\n",
    "\n"
   ]
  },
  {
   "cell_type": "code",
   "execution_count": 94,
   "metadata": {},
   "outputs": [
    {
     "data": {
      "text/plain": [
       "[1, 4, 9, 16, 25, 36, 49, 64, 81, 100]"
      ]
     },
     "execution_count": 94,
     "metadata": {},
     "output_type": "execute_result"
    }
   ],
   "source": [
    "#12\n",
    "squares = [n*n for n in range(1, 11)]\n",
    "squares"
   ]
  },
  {
   "cell_type": "code",
   "execution_count": 96,
   "metadata": {},
   "outputs": [
    {
     "data": {
      "text/plain": [
       "[2, 4, 6, 8, 10]"
      ]
     },
     "execution_count": 96,
     "metadata": {},
     "output_type": "execute_result"
    }
   ],
   "source": [
    "#13\n",
    "numbers = [1,2, 3, 4, 5, 6, 7, 8, 9, 10]\n",
    "even = [n for n in numbers if n%2==0]\n",
    "even"
   ]
  },
  {
   "cell_type": "code",
   "execution_count": 9,
   "metadata": {},
   "outputs": [
    {
     "data": {
      "text/plain": [
       "{1: 1, 2: 8, 3: 27, 4: 64, 5: 125}"
      ]
     },
     "execution_count": 9,
     "metadata": {},
     "output_type": "execute_result"
    }
   ],
   "source": [
    "#14\n",
    "dict2 = {n:pow(n, 3) for n in range(1, 6)}\n",
    "dict2\n",
    "\n"
   ]
  },
  {
   "cell_type": "code",
   "execution_count": 108,
   "metadata": {},
   "outputs": [
    {
     "data": {
      "text/plain": [
       "{'a', 'e', 'i', 'o', 'u'}"
      ]
     },
     "execution_count": 108,
     "metadata": {},
     "output_type": "execute_result"
    }
   ],
   "source": [
    "#15\n",
    "sentence = \"comprehensions are powerful\"\n",
    "vowels = {ch for ch in sentence if ch in ['a', 'e', 'i', 'o', 'u']}\n",
    "vowels # set will arrange the data and also remove the duplicated data "
   ]
  },
  {
   "cell_type": "code",
   "execution_count": 8,
   "metadata": {},
   "outputs": [
    {
     "data": {
      "text/plain": [
       "{'Alice': 85, 'Charlie': 92}"
      ]
     },
     "execution_count": 8,
     "metadata": {},
     "output_type": "execute_result"
    }
   ],
   "source": [
    "#16\n",
    "students = {'Alice': 85, 'Bob': 78, 'Charlie': 92, 'David': 63}\n",
    "high_scorers = {student:value for student, value in zip(students, students.values()) if value>80 }\n",
    "high_scorers"
   ]
  },
  {
   "cell_type": "code",
   "execution_count": 56,
   "metadata": {},
   "outputs": [
    {
     "name": "stdout",
     "output_type": "stream",
     "text": [
      "[(1, 4), (2, 5), (3, 6)]\n",
      "[(1, 4), (2, 5), (3, 6)]\n"
     ]
    }
   ],
   "source": [
    "#17\n",
    "list1 = [1, 2, 3]\n",
    "list2 = [4, 5, 6]\n",
    "\n",
    "#using list comprehension\n",
    "tup1 =[(list1[i], list2[i]) for i in range (len(list1))]\n",
    "print(tup1)\n",
    "#using zip\n",
    "tup2= list(zip(list1, list2))\n",
    "print(tup2)"
   ]
  }
 ],
 "metadata": {
  "kernelspec": {
   "display_name": "base",
   "language": "python",
   "name": "python3"
  },
  "language_info": {
   "codemirror_mode": {
    "name": "ipython",
    "version": 3
   },
   "file_extension": ".py",
   "mimetype": "text/x-python",
   "name": "python",
   "nbconvert_exporter": "python",
   "pygments_lexer": "ipython3",
   "version": "3.11.7"
  }
 },
 "nbformat": 4,
 "nbformat_minor": 2
}
