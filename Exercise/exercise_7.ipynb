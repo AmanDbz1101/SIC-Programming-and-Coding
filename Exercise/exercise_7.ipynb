{
 "cells": [
  {
   "cell_type": "code",
   "execution_count": null,
   "metadata": {},
   "outputs": [],
   "source": [
    "class Bank:\n",
    "    total_balance = 0\n",
    "\n",
    "    def __init__(self, balance, name):\n",
    "        self.balance = balance\n",
    "        self.name = name\n",
    "        Bank.total_balance += balance"
   ]
  }
 ],
 "metadata": {
  "kernelspec": {
   "display_name": "base",
   "language": "python",
   "name": "python3"
  },
  "language_info": {
   "name": "python",
   "version": "3.11.7"
  }
 },
 "nbformat": 4,
 "nbformat_minor": 2
}
