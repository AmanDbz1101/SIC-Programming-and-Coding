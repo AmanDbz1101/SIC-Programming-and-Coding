{
 "cells": [
  {
   "cell_type": "code",
   "execution_count": 16,
   "metadata": {},
   "outputs": [
    {
     "name": "stdout",
     "output_type": "stream",
     "text": [
      "       *\n",
      "      ***\n",
      "     *****\n",
      "   *********\n",
      "     *****\n",
      "      ***\n",
      "       *\n"
     ]
    }
   ],
   "source": [
    "print(\"       *\")\n",
    "print(\"      ***\")\n",
    "print(\"     *****\")\n",
    "print(\"   *********\")\n",
    "print(\"     *****\")\n",
    "print(\"      ***\")\n",
    "print(\"       *\")"
   ]
  },
  {
   "cell_type": "raw",
   "metadata": {
    "vscode": {
     "languageId": "raw"
    }
   },
   "source": [
    "START\n",
    "    PRINT \"Go straight west at this crossroads.\"\n",
    "    PRINT \"You will see four buildings.\"\n",
    "\n",
    "    REPEAT\n",
    "        OBTAIN \"What building do you see?\" AS current_building\n",
    "        IF current_building = \"Post Office\" THEN\n",
    "            PRINT \"Turn right across the post office.\"\n",
    "            SET turned_right = TRUE\n",
    "        ELSE\n",
    "            SET turned_right = FALSE\n",
    "        ENDIF\n",
    "    UNTIL turned_right = TRUE\n",
    "\n",
    "    PRINT \"Go straight.\"\n",
    "    REPEAT\n",
    "        OBTAIN \"What building do you see?\" AS current_building\n",
    "        IF current_building = \"Italian Restaurant\" THEN\n",
    "            PRINT \"The third building from the Italian Restaurant is the hotel you are looking for.\"\n",
    "            EXIT LOOP\n",
    "        ENDIF\n",
    "    UNTIL current_building = \"Italian Restaurant\"\n",
    "END\n"
   ]
  },
  {
   "cell_type": "code",
   "execution_count": 17,
   "metadata": {},
   "outputs": [
    {
     "name": "stdout",
     "output_type": "stream",
     "text": [
      "5! =  120\n",
      "10! =  3628800\n"
     ]
    }
   ],
   "source": [
    "print(\"5! = \", 5*4*3*2*1)\n",
    "print(\"10! = \", 10*9*8*7*6*5*4*3*2*1)"
   ]
  },
  {
   "cell_type": "code",
   "execution_count": 29,
   "metadata": {},
   "outputs": [
    {
     "name": "stdout",
     "output_type": "stream",
     "text": [
      "Circumference: 69.115024, Area: 380.13263200000006\n"
     ]
    }
   ],
   "source": [
    "PI = 3.141592\n",
    "radius = float(input(\"Enter radius: \"))\n",
    "circumference = 2 * PI * radius\n",
    "area = PI * radius * radius\n",
    "print(f\"Circumference: {circumference}, Area: {area}\")\n"
   ]
  },
  {
   "cell_type": "code",
   "execution_count": 7,
   "metadata": {},
   "outputs": [
    {
     "name": "stdout",
     "output_type": "stream",
     "text": [
      "a\tn\ta**n\n",
      "2\t2\t4\n",
      "3\t2\t9\n",
      "4\t2\t16\n",
      "5\t2\t25\n",
      "6\t2\t36\n"
     ]
    }
   ],
   "source": [
    "print(\"a\\tn\\ta**n\")\n",
    "for a in range(2, 7):\n",
    "    print(f\"{a}\\t2\\t{a**2}\")"
   ]
  },
  {
   "cell_type": "code",
   "execution_count": 8,
   "metadata": {},
   "outputs": [
    {
     "name": "stdout",
     "output_type": "stream",
     "text": [
      "True\n"
     ]
    }
   ],
   "source": [
    "integer = input(\"Enter an integer: \")\n",
    "if integer[0]=='3':\n",
    "    print(\"True\")\n",
    "else:    \n",
    "    print(\"False\")"
   ]
  },
  {
   "cell_type": "code",
   "execution_count": 9,
   "metadata": {},
   "outputs": [
    {
     "name": "stdout",
     "output_type": "stream",
     "text": [
      "True\n"
     ]
    }
   ],
   "source": [
    "integer = int(input(\"Enter an integer: \"))\n",
    "if integer%5==0:\n",
    "    print(\"True\")\n",
    "else:    \n",
    "    print(\"False\")"
   ]
  },
  {
   "cell_type": "code",
   "execution_count": 12,
   "metadata": {},
   "outputs": [
    {
     "name": "stdout",
     "output_type": "stream",
     "text": [
      "Kid\n"
     ]
    }
   ],
   "source": [
    "age = int(input(\"Enter age: \"))\n",
    "if age >= 20:\n",
    "    print(\"Adult\")\n",
    "elif 10 <= age < 20:\n",
    "    print(\"Youth\")\n",
    "else:\n",
    "    print(\"Kid\")\n"
   ]
  },
  {
   "cell_type": "code",
   "execution_count": 14,
   "metadata": {},
   "outputs": [
    {
     "name": "stdout",
     "output_type": "stream",
     "text": [
      "1) Addition     2) Subtraction   3) Multiplication   4) Division\n",
      "Entered an incorrect number.\n"
     ]
    }
   ],
   "source": [
    "print(\"1) Addition     2) Subtraction   3) Multiplication   4) Division\")\n",
    "\n",
    "operation = int(input(\"Enter the desired number of operation: \"))\n",
    "\n",
    "if operation in [1, 2, 3, 4]:\n",
    "    print(\"Enter two numbers for operation.\")\n",
    "    num1 = float(input())\n",
    "    num2 = float(input())\n",
    "    \n",
    "    if operation == 1:\n",
    "        result = num1 + num2\n",
    "        print(f\"{num1} + {num2} = {result}\")\n",
    "    elif operation == 2:\n",
    "        result = num1 - num2\n",
    "        print(f\"{num1} - {num2} = {result}\")\n",
    "    elif operation == 3:\n",
    "        result = num1 * num2\n",
    "        print(f\"{num1} * {num2} = {result}\")\n",
    "    elif operation == 4:\n",
    "        if num2 != 0: \n",
    "            result = num1 / num2\n",
    "            print(f\"{num1} / {num2} = {result}\")\n",
    "        else:\n",
    "            print(\"Error: Division by zero is not allowed.\")\n",
    "else:\n",
    "    print(\"Entered an incorrect number.\")\n"
   ]
  },
  {
   "cell_type": "code",
   "execution_count": 15,
   "metadata": {},
   "outputs": [
    {
     "name": "stdout",
     "output_type": "stream",
     "text": [
      "In the second quadrant\n"
     ]
    }
   ],
   "source": [
    "x, y = map(float, input(\"Enter x, y coordinates: \").split())\n",
    "\n",
    "if x > 0 and y > 0:\n",
    "    print(\"In the first quadrant\")\n",
    "elif x < 0 and y > 0:\n",
    "    print(\"In the second quadrant\")\n",
    "elif x < 0 and y < 0:\n",
    "    print(\"In the third quadrant\")\n",
    "elif x > 0 and y < 0:\n",
    "    print(\"In the fourth quadrant\")\n",
    "elif x == 0 and y != 0:\n",
    "    print(\"On the y-axis\")\n",
    "elif y == 0 and x != 0:\n",
    "    print(\"On the x-axis\")\n",
    "else:\n",
    "    print(\"At the origin\")\n"
   ]
  },
  {
   "cell_type": "code",
   "execution_count": 27,
   "metadata": {},
   "outputs": [
    {
     "name": "stdout",
     "output_type": "stream",
     "text": [
      "Welcome to Yummy Restaurant. Here is the menu.\n",
      "- Burger (enter b)\n",
      "- Chicken (enter c)\n",
      "- Pizza (enter p)\n",
      "You chose Pizza.\n"
     ]
    }
   ],
   "source": [
    "print(\"Welcome to Yummy Restaurant. Here is the menu.\")\n",
    "print(\"- Burger (enter b)\")\n",
    "print(\"- Chicken (enter c)\")\n",
    "print(\"- Pizza (enter p)\")\n",
    "\n",
    "while True:\n",
    "    choice = input(\"Choose a menu (enter b, c, p): \").lower()\n",
    "\n",
    "    if choice == 'b':\n",
    "        print(\"You chose Burger.\")\n",
    "        break\n",
    "    elif choice == 'c':\n",
    "        print(\"You chose Chicken.\")\n",
    "        break\n",
    "    elif choice == 'p':\n",
    "        print(\"You chose Pizza.\")\n",
    "        break\n",
    "    else:\n",
    "        print(\"Enter the menu again:\")\n"
   ]
  },
  {
   "cell_type": "code",
   "execution_count": 24,
   "metadata": {},
   "outputs": [
    {
     "name": "stdout",
     "output_type": "stream",
     "text": [
      "1    2    3    4    5    \n",
      "10    9    8    7    6    \n",
      "11    12    13    14    15    \n",
      "20    19    18    17    16    \n",
      "21    22    23    24    25    \n"
     ]
    }
   ],
   "source": [
    "n = int(input(\"Enter n:\"))\n",
    "for i in range(n):\n",
    "\n",
    "    for j in range(1, n+1):\n",
    "        if (i%2 ==0):\n",
    "            print(j+i*n, \"  \", end=\" \")\n",
    "        else:\n",
    "            print(n*(i+1)-j+1, \"  \", end=\" \")\n",
    "    print()\n"
   ]
  },
  {
   "cell_type": "code",
   "execution_count": 26,
   "metadata": {},
   "outputs": [
    {
     "name": "stdout",
     "output_type": "stream",
     "text": [
      "223322 is a palindrome number\n"
     ]
    }
   ],
   "source": [
    "n = input(\"Enter an integer: \")\n",
    "\n",
    "if n == n[::-1]: \n",
    "    print(f\"{n} is a palindrome number\")\n",
    "else:\n",
    "    print(f\"{n} is not a palindrome number\")\n"
   ]
  },
  {
   "cell_type": "code",
   "execution_count": 28,
   "metadata": {},
   "outputs": [
    {
     "name": "stdout",
     "output_type": "stream",
     "text": [
      "Higher!\n",
      "Higher!\n",
      "Higher!\n",
      "Lower!\n",
      "Lower!\n",
      "Higher!\n",
      "Higher!\n",
      "Lower!\n",
      "Congratulations! Total try = 9 \n"
     ]
    }
   ],
   "source": [
    "import random\n",
    "correct_number = random.randint(1, 100)\n",
    "tries = 0\n",
    "while True:\n",
    "    guess = int(input(\"Guess the number between 1 to 100: \"))\n",
    "    tries += 1\n",
    "    if guess < correct_number:\n",
    "        print(\"Higher!\")\n",
    "    elif guess > correct_number:\n",
    "        print(\"Lower!\")\n",
    "    else:\n",
    "        print(f\"Congratulations! Total try = {tries} \")\n",
    "        break\n"
   ]
  }
 ],
 "metadata": {
  "kernelspec": {
   "display_name": "base",
   "language": "python",
   "name": "python3"
  },
  "language_info": {
   "codemirror_mode": {
    "name": "ipython",
    "version": 3
   },
   "file_extension": ".py",
   "mimetype": "text/x-python",
   "name": "python",
   "nbconvert_exporter": "python",
   "pygments_lexer": "ipython3",
   "version": "3.11.7"
  }
 },
 "nbformat": 4,
 "nbformat_minor": 2
}
