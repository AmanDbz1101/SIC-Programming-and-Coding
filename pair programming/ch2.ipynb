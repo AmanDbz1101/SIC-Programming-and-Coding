{
 "cells": [
  {
   "cell_type": "code",
   "execution_count": 1,
   "metadata": {},
   "outputs": [
    {
     "name": "stdout",
     "output_type": "stream",
     "text": [
      "The shortest string: abc\n"
     ]
    }
   ],
   "source": [
    "s_list = ['abc', 'bcd', 'bcdefg', 'abba', 'cddc', 'opq']\n",
    "shortest = s_list[0]\n",
    "for s in s_list:\n",
    "    if len(s) < len(shortest):\n",
    "        shortest = s\n",
    "print(\"The shortest string:\", shortest)"
   ]
  },
  {
   "cell_type": "code",
   "execution_count": 2,
   "metadata": {},
   "outputs": [
    {
     "name": "stdout",
     "output_type": "stream",
     "text": [
      "The longest string: bcdefg\n"
     ]
    }
   ],
   "source": [
    "s_list = ['abc', 'bcd', 'bcdefg', 'abba', 'cddc', 'opq']\n",
    "\n",
    "longest = s_list[0]\n",
    "for s in s_list:\n",
    "    if len(s) > len(longest):\n",
    "        longest = s\n",
    "print(\"The longest string:\", longest)"
   ]
  },
  {
   "cell_type": "code",
   "execution_count": 4,
   "metadata": {},
   "outputs": [
    {
     "name": "stdout",
     "output_type": "stream",
     "text": [
      "The shortest strings: ['abc', 'bcd', 'opq']\n"
     ]
    }
   ],
   "source": [
    "s_list = ['abc', 'bcd', 'bcdefg', 'abba', 'cddc', 'opq']\n",
    "\n",
    "sorted_list = sorted(s_list, key=len)\n",
    "shortest_length = len(sorted_list[0])\n",
    "shortest_strings = [s for s in sorted_list if len(s) == shortest_length]\n",
    "print(\"The shortest strings:\", shortest_strings)"
   ]
  },
  {
   "cell_type": "code",
   "execution_count": 9,
   "metadata": {},
   "outputs": [
    {
     "name": "stdout",
     "output_type": "stream",
     "text": [
      "dict_keys(['apple', 'melon', 'banana', 'orange'])\n",
      "apple is in fruits_dic\n",
      "mango is not in fruits_dic\n"
     ]
    }
   ],
   "source": [
    "fruits_dic = {\"apple\": 6000, \"melon\": 3000,  \"banana\": 5000,\"orange\": 4000}\n",
    "print(fruits_dic.keys())\n",
    "\n",
    "def check(fruit):\n",
    "    if fruit in fruits_dic.keys():\n",
    "        print(f\"{fruit} is in fruits_dic\")\n",
    "    else:\n",
    "        print(f\"{fruit} is not in fruits_dic\")\n",
    "\n",
    "check(\"apple\")\n",
    "check(\"mango\")\n"
   ]
  },
  {
   "cell_type": "code",
   "execution_count": 24,
   "metadata": {},
   "outputs": [
    {
     "name": "stdout",
     "output_type": "stream",
     "text": [
      "The most frequent element: 9\n"
     ]
    }
   ],
   "source": [
    "numbers = (1, 2, 5, 4, 3, 2, 1, 4, 7, 8, 9, 9, 3, 7, 3, 9)\n",
    "\n",
    "max_occurrence = 0\n",
    "max_number = []\n",
    "for number in numbers:\n",
    "    occurrence = numbers.count(number)\n",
    "    if occurrence > max_occurrence:\n",
    "        max_occurrence = occurrence\n",
    "        max_number.append(number)\n",
    "    elif occurrence == max_occurrence:\n",
    "        max_number.append(number)\n",
    "\n",
    "print(f\"The most frequent element: {max(max_number)}\")"
   ]
  },
  {
   "cell_type": "code",
   "execution_count": 25,
   "metadata": {},
   "outputs": [
    {
     "name": "stdout",
     "output_type": "stream",
     "text": [
      "Filtered elements: [(1,), 'abc', (1,), ('a',), ('a', 'b'), ((),)]\n"
     ]
    }
   ],
   "source": [
    "elements = [(), (1,), [], 'abc', (), (), (1,), ('a',), ('a', 'b'), ((),), '']\n",
    "filtered = [x for x in elements if x not in [(), [], '']]\n",
    "print(\"Filtered elements:\", filtered)"
   ]
  },
  {
   "cell_type": "code",
   "execution_count": 44,
   "metadata": {},
   "outputs": [
    {
     "name": "stdout",
     "output_type": "stream",
     "text": [
      "1 0 1 0 1 \n",
      "0 1 0 1 0 \n",
      "1 0 1 0 1 \n",
      "0 1 0 1 0 \n",
      "1 0 1 0 1 \n"
     ]
    }
   ],
   "source": [
    "matrix = [[1 if j%2==0 else 0 for j in range(i, 5+i)] for i in range(5)]\n",
    "for row in matrix:\n",
    "    for element in row:\n",
    "        print(element, end=\" \") \n",
    "    print()"
   ]
  },
  {
   "cell_type": "code",
   "execution_count": 26,
   "metadata": {},
   "outputs": [
    {
     "name": "stdout",
     "output_type": "stream",
     "text": [
      "Select menu: 1) Check stock 2) Warehousing 3) Release 4) Exit\n",
      "Stock: 1\n",
      "Select menu: 1) Check stock 2) Warehousing 3) Release 4) Exit\n",
      "Select menu: 1) Check stock 2) Warehousing 3) Release 4) Exit\n",
      "Stock: 3\n",
      "Select menu: 1) Check stock 2) Warehousing 3) Release 4) Exit\n",
      "Program exited.\n"
     ]
    }
   ],
   "source": [
    "items = {\"Coffee\": 7, \"Pen\": 3, \"Paper cup\": 2, \"Milk\": 1, \"Coke\": 4, \"Book\": 5}\n",
    "def manage_inventory():\n",
    "    while True:\n",
    "        print(\"Select menu: 1) Check stock 2) Warehousing 3) Release 4) Exit\")\n",
    "        choice = int(input(\"Enter choice: \"))\n",
    "        if choice == 1:\n",
    "            item = input(\"[Check stock] Enter item: \").capitalize()\n",
    "            print(f\"Stock: {items.get(item, 'Item not found')}\")\n",
    "        elif choice == 2:\n",
    "            item, quantity = input(\"[Warehousing] Enter item and quantity: \").split()\n",
    "            items[item.capitalize()] = items.get(item.capitalize(), 0) + int(quantity)\n",
    "        elif choice == 3:\n",
    "            item, quantity = input(\"[Release] Enter item and quantity: \").split()\n",
    "            if item.capitalize() in items:\n",
    "                items[item.capitalize()] = max(0, items[item.capitalize()] - int(quantity))\n",
    "        elif choice == 4:\n",
    "            print(\"Program exited.\")\n",
    "            break\n",
    "        else:\n",
    "            print(\"Invalid choice.\")\n",
    "\n",
    "manage_inventory()"
   ]
  },
  {
   "cell_type": "code",
   "execution_count": 34,
   "metadata": {},
   "outputs": [
    {
     "name": "stdout",
     "output_type": "stream",
     "text": [
      "211101 student is David Doe and phone number is 010-123-1111\n"
     ]
    }
   ],
   "source": [
    "student_tuple = [('211101', 'David Doe', '010-123-1111'), ('211102', 'John Smith', '010-123-2222'), ('211103', 'Jane Carter', '010-123-3333')]\n",
    "\n",
    "student_dict = {student[0]: {\"name\": student[1], \"phone number\": student[2]} for student in student_tuple}\n",
    "\n",
    "sid = input(\"Enter student ID number: \")\n",
    "if sid in student_dict:\n",
    "    print(f\"{sid} student is {student_dict[sid]['name']} and phone number is {student_dict[sid]['phone number']}\")\n",
    "else:\n",
    "    print(\"Student not found\")\n"
   ]
  },
  {
   "cell_type": "code",
   "execution_count": 38,
   "metadata": {},
   "outputs": [
    {
     "name": "stdout",
     "output_type": "stream",
     "text": [
      "There is no (3, 9) nor (9, 3).\n"
     ]
    }
   ],
   "source": [
    "mylist = [(1, 2), (4, 5), (4, 2), (3, 1), (9, 4)]\n",
    "mydict = {'1': 'first','2': 'second','3': 'third','4': 'fourth','5': 'fifth','6': 'sixth','7': 'seventh','8': 'eighth','9': 'ninth'}\n",
    "def tuple_lookup():\n",
    "    a, b = map(int, input(\"Enter two integers: \").split())\n",
    "    if (a, b) in mylist:\n",
    "        print(f\"There is ({a}, {b}) at the {mydict[str(mylist.index((a, b)) + 1)]}.\")\n",
    "    elif (b, a) in mylist:\n",
    "        print(f\"There is no ({a}, {b}) but there is ({b}, {a}) at the {mydict[str(mylist.index((b, a)) + 1)]}.\")\n",
    "    else:\n",
    "        print(f\"There is no ({a}, {b}) nor ({b}, {a}).\")\n",
    "\n",
    "tuple_lookup()"
   ]
  }
 ],
 "metadata": {
  "kernelspec": {
   "display_name": "base",
   "language": "python",
   "name": "python3"
  },
  "language_info": {
   "codemirror_mode": {
    "name": "ipython",
    "version": 3
   },
   "file_extension": ".py",
   "mimetype": "text/x-python",
   "name": "python",
   "nbconvert_exporter": "python",
   "pygments_lexer": "ipython3",
   "version": "3.11.7"
  }
 },
 "nbformat": 4,
 "nbformat_minor": 2
}
