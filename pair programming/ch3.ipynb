{
 "cells": [
  {
   "cell_type": "markdown",
   "id": "0897e52e-b60a-4c0b-8722-07b1e0dea019",
   "metadata": {},
   "source": [
    "# Pair Programming Chapter 3\n"
   ]
  },
  {
   "cell_type": "markdown",
   "id": "7878aaa8-ac46-43a0-9e57-1215ba2b68e7",
   "metadata": {},
   "source": [
    "### Unit 17"
   ]
  },
  {
   "cell_type": "markdown",
   "id": "bfe78162-0ac0-4aa1-b651-d7c3e8e91cd7",
   "metadata": {},
   "source": [
    "Let the user input three integers a, b, and c. And print the average, maximum, and minimum values of these three\n",
    "numbers as follows. In this case, mean3(a, b, c), max3(a, b, c), min3(a, b, c) that takes three numbers as\n",
    "parameters and returns the average, maximum, and minimum values of these three numbers. Define and call\n",
    "each function."
   ]
  },
  {
   "cell_type": "code",
   "execution_count": 12,
   "id": "fabb46c6-1919-4fa5-83f8-bdd1ea42ad56",
   "metadata": {},
   "outputs": [
    {
     "name": "stdout",
     "output_type": "stream",
     "text": [
      "The average value of 9,2 and 6 is 5.666666666666667.\n",
      "The maximum value of 9,2 and 6 is 9\n",
      "The minimum value of 9,2 and 6 is 2\n"
     ]
    }
   ],
   "source": [
    "def mean3(a, b, c):\n",
    "    return (a + b + c) / 3\n",
    "\n",
    "def max3(a, b, c):\n",
    "    return max(a, b, c)\n",
    "\n",
    "def min3(a, b, c):\n",
    "    return min(a, b, c)\n",
    "\n",
    "# User input\n",
    "a, b, c = map(int, input(\"Enter three numbers: \").split())\n",
    "print(f\"The average of {a}, {b}, {c} is: {mean3(a, b, c)}\")\n",
    "print(f\"The maximum of {a}, {b}, {c} is: {max3(a, b, c)}\")\n",
    "print(f\"The minimum of {a}, {b}, {c} is: {min3(a, b, c)}\")"
   ]
  },
  {
   "cell_type": "markdown",
   "id": "da936d8d-0f55-476c-962f-dc3886c95cdc",
   "metadata": {},
   "source": [
    "### Unit 18"
   ]
  },
  {
   "cell_type": "markdown",
   "id": "f10239f9-a488-49e4-8d0d-fe5c32dc23cf",
   "metadata": {},
   "source": [
    "The natural number e, also called Euler's number or Napier's constant, is an irrational number used as the\n",
    "base of the natural logarithm. It is defined by the following formula.\n",
    "( e = 1 + 1/1! + 1/2! + 1/3! + ..... + 1/n! )\n",
    "In this formula, let k! be defined as a function named factorial(k). Also, let's define a function called euler(n)\n",
    "that returns the sum of 1/0! + 1/1! to 1/n! Find the value of euler(20) to five decimal places and output it as\n",
    "follows. (You must use a recursive function.)"
   ]
  },
  {
   "cell_type": "code",
   "execution_count": 2,
   "id": "36396f11-f03b-440a-8bfe-0376e4787f1f",
   "metadata": {},
   "outputs": [
    {
     "name": "stdout",
     "output_type": "stream",
     "text": [
      "Euler(20) = 2.71828\n"
     ]
    }
   ],
   "source": [
    "def factorial(k):\n",
    "    if k == 0 or k == 1:\n",
    "        return 1\n",
    "    return k * factorial(k - 1)\n",
    "\n",
    "def euler(n):\n",
    "    return sum(1 / factorial(i) for i in range(n + 1))\n",
    "\n",
    "print(f\"Euler(20) = {round(euler(20), 5)}\")\n"
   ]
  },
  {
   "cell_type": "markdown",
   "id": "9a063a02-bd74-4b91-8f57-26a93c6911c6",
   "metadata": {},
   "source": [
    "## Unit 19"
   ]
  },
  {
   "cell_type": "markdown",
   "id": "7980b853-8f45-4f5c-8c0d-8eb1b0cac579",
   "metadata": {},
   "source": [
    "If you treat students’ scores of English, math, and science exams as list of three elements, it can be\n",
    "expressed as a list such as [100, 90, 95]. If there are two students, their scores can be expressed as [100, 90,\n",
    "95, 90, 85, 93]. If a student did not apply to the exam of a certain subject, denote that score as 0. Print how\n",
    "many students’ scores are contained in the given scores list, the number of students with valid scores for all\n",
    "subjects (that is students with no 0 for all subject), and the scores of students with only valid scores."
   ]
  },
  {
   "cell_type": "code",
   "execution_count": 11,
   "id": "0b10cb1a-4938-4d5f-b108-f326fc68b031",
   "metadata": {},
   "outputs": [
    {
     "name": "stdout",
     "output_type": "stream",
     "text": [
      "The number of total students is 6.\n",
      "the number of students with valid scores is 4.\n",
      "[[100, 90, 95], [90, 80, 70], [100, 75, 20], [30, 50, 90]]\n"
     ]
    }
   ],
   "source": [
    "scores=[100,90,95,90,80,70,0,80,90,90,0,90,100,75,20,30,50,90]\n",
    "scores_new=[]\n",
    "count=0\n",
    "for i in range(0,len(scores),3):\n",
    "    list_=[]\n",
    "    for j in range(3):\n",
    "        list_.append(scores[i+j])\n",
    "    scores_new.append(list_)\n",
    "    count+=1\n",
    "scores_new=[elements for elements in scores_new if 0 not in elements]\n",
    "print(f\"The number of total students is {count}.\")\n",
    "print(f\"the number of students with valid scores is {len(scores_new)}.\")\n",
    "print(scores_new)"
   ]
  },
  {
   "cell_type": "markdown",
   "id": "d5abeb9b-b80d-40ca-914c-dde73544a831",
   "metadata": {},
   "source": [
    "## Unit 20"
   ]
  },
  {
   "cell_type": "markdown",
   "id": "fba933bf-03f9-43d8-91c1-e0a3f03b5530",
   "metadata": {},
   "source": [
    "Extract list result from list lst which has values of 1 ~ 100. list result has elements of list lst that are divisible\n",
    "by 5 or 7. Declare func1(a) function and nest func2 and func3 function. Then, call the two functions in func1 function and print number divisible by 5 or 7. Here\n",
    "align the values by using sort function."
   ]
  },
  {
   "cell_type": "code",
   "execution_count": 7,
   "id": "e9222858-b52c-4303-a7ea-31307aaec876",
   "metadata": {},
   "outputs": [
    {
     "name": "stdout",
     "output_type": "stream",
     "text": [
      "[5, 7, 10, 14, 15, 20, 21, 25, 28, 30, 35, 35, 40, 42, 45, 49, 50, 55, 56, 60, 63, 65, 70, 70, 75, 77, 80, 84, 85, 90, 91, 95, 98, 100]\n"
     ]
    }
   ],
   "source": [
    "def func1(a):\n",
    "    def func2():\n",
    "        result1=[i for i in a if i%5==0]\n",
    "        return result1\n",
    "    def func3():\n",
    "        result2=[i for i in a if i%7==0]\n",
    "        return result2\n",
    "    list_result=func2()+func3()\n",
    "    return sorted(list_result)\n",
    "\n",
    "a=[i for i in range(1,101)]\n",
    "print(func1(a))"
   ]
  },
  {
   "cell_type": "markdown",
   "id": "1781357f-310a-4de7-8984-cde5aedbfe51",
   "metadata": {},
   "source": [
    "## Unit 21"
   ]
  },
  {
   "cell_type": "markdown",
   "id": "4240c0d8-16de-49b8-80ac-ea7a567830a0",
   "metadata": {},
   "source": [
    "Construct class Student that has following functionalities.\n",
    "This student took quizzes for English, mathematics and science, and the quiz scores are given as inputs.\n",
    "Generate instances by using this class. This class has the following attributes and actions."
   ]
  },
  {
   "cell_type": "code",
   "execution_count": 4,
   "id": "61dc39a6",
   "metadata": {},
   "outputs": [
    {
     "name": "stdout",
     "output_type": "stream",
     "text": [
      "Name: Aman Dhaubanjar, ID: 010\n",
      "English Quiz Score: 98, Mathematics Quiz Score: 99, Science Quiz Score: 100\n",
      "Total: 297, Average: 99.00\n"
     ]
    }
   ],
   "source": [
    "class Student:\n",
    "    def __init__(self, name, student_id):\n",
    "        self.name = name\n",
    "        self.student_id = student_id\n",
    "        self.eng_quiz = 0\n",
    "        self.math_quiz = 0\n",
    "        self.science_quiz = 0\n",
    "\n",
    "    def set_eng_quiz(self, score):\n",
    "        self.eng_quiz = score\n",
    "\n",
    "    def set_math_quiz(self, score):\n",
    "        self.math_quiz = score\n",
    "\n",
    "    def set_science_quiz(self, score):\n",
    "        self.science_quiz = score\n",
    "\n",
    "    def get_total_score(self):\n",
    "        return self.eng_quiz + self.math_quiz + self.science_quiz\n",
    "\n",
    "    def get_avg_score(self):\n",
    "        return self.get_total_score() / 3\n",
    "\n",
    "name = input(\"Enter the student's name: \")\n",
    "student_id = input(\"Enter the student's ID: \")\n",
    "student = Student(name, student_id)\n",
    "student.set_eng_quiz(int(input(\"Enter the student's English quiz score: \")))\n",
    "student.set_math_quiz(int(input(\"Enter the student's Mathematics quiz score: \")))\n",
    "student.set_science_quiz(int(input(\"Enter the student's Science quiz score: \")))\n",
    "\n",
    "print(f\"Name: {student.name}, ID: {student.student_id}\")\n",
    "print(f\"English Quiz Score: {student.eng_quiz}, Mathematics Quiz Score: {student.math_quiz}, Science Quiz Score: {student.science_quiz}\")\n",
    "print(f\"Total: {student.get_total_score()}, Average: {student.get_avg_score():.2f}\")\n"
   ]
  }
 ],
 "metadata": {
  "kernelspec": {
   "display_name": "base",
   "language": "python",
   "name": "python3"
  },
  "language_info": {
   "codemirror_mode": {
    "name": "ipython",
    "version": 3
   },
   "file_extension": ".py",
   "mimetype": "text/x-python",
   "name": "python",
   "nbconvert_exporter": "python",
   "pygments_lexer": "ipython3",
   "version": "3.11.7"
  }
 },
 "nbformat": 4,
 "nbformat_minor": 5
}
