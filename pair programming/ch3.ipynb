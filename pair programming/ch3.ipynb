{
 "cells": [
  {
   "cell_type": "code",
   "execution_count": 1,
   "metadata": {},
   "outputs": [
    {
     "name": "stdout",
     "output_type": "stream",
     "text": [
      "The average of 9, 2, 6 is: 5.666666666666667\n",
      "The maximum of 9, 2, 6 is: 9\n",
      "The minimum of 9, 2, 6 is: 2\n"
     ]
    }
   ],
   "source": [
    "def mean3(a, b, c):\n",
    "    return (a + b + c) / 3\n",
    "\n",
    "def max3(a, b, c):\n",
    "    return max(a, b, c)\n",
    "\n",
    "def min3(a, b, c):\n",
    "    return min(a, b, c)\n",
    "\n",
    "# User input\n",
    "a, b, c = map(int, input(\"Enter three numbers: \").split())\n",
    "print(f\"The average of {a}, {b}, {c} is: {mean3(a, b, c)}\")\n",
    "print(f\"The maximum of {a}, {b}, {c} is: {max3(a, b, c)}\")\n",
    "print(f\"The minimum of {a}, {b}, {c} is: {min3(a, b, c)}\")\n"
   ]
  },
  {
   "cell_type": "code",
   "execution_count": 2,
   "metadata": {},
   "outputs": [
    {
     "name": "stdout",
     "output_type": "stream",
     "text": [
      "Euler(20) = 2.71828\n"
     ]
    }
   ],
   "source": [
    "\n",
    "def factorial(k):\n",
    "    if k == 0 or k == 1:\n",
    "        return 1\n",
    "    return k * factorial(k - 1)\n",
    "\n",
    "def euler(n):\n",
    "    return sum(1 / factorial(i) for i in range(n + 1))\n",
    "\n",
    "# Test with n = 20\n",
    "print(f\"Euler(20) = {euler(20):.5f}\")\n"
   ]
  },
  {
   "cell_type": "code",
   "execution_count": null,
   "metadata": {},
   "outputs": [],
   "source": []
  },
  {
   "cell_type": "code",
   "execution_count": null,
   "metadata": {},
   "outputs": [],
   "source": []
  }
 ],
 "metadata": {
  "kernelspec": {
   "display_name": "base",
   "language": "python",
   "name": "python3"
  },
  "language_info": {
   "codemirror_mode": {
    "name": "ipython",
    "version": 3
   },
   "file_extension": ".py",
   "mimetype": "text/x-python",
   "name": "python",
   "nbconvert_exporter": "python",
   "pygments_lexer": "ipython3",
   "version": "3.11.7"
  }
 },
 "nbformat": 4,
 "nbformat_minor": 2
}
