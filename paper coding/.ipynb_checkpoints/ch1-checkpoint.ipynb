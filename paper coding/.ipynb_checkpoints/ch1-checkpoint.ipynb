{
 "cells": [
  {
   "cell_type": "code",
   "execution_count": 1,
   "metadata": {},
   "outputs": [
    {
     "name": "stdout",
     "output_type": "stream",
     "text": [
      "Sequence of Commands:\n",
      "Move Right\n",
      "Fill-In Square\n",
      "Move Right\n",
      "Move Down\n",
      "Fill-In Square\n",
      "Move Left\n",
      "Move Left\n",
      "Fill-In Square\n",
      "Move Down\n",
      "Move Right\n",
      "Fill-In Square\n",
      "Move Right\n"
     ]
    }
   ],
   "source": [
    "\n",
    "commands = [\"Move Right\", \"Fill-In Square\", \"Move Right\", \"Move Down\", \n",
    "            \"Fill-In Square\", \"Move Left\", \"Move Left\", \"Fill-In Square\",\n",
    "            \"Move Down\", \"Move Right\", \"Fill-In Square\", \"Move Right\"]\n",
    "\n",
    "print(\"Sequence of Commands:\")\n",
    "for command in commands:\n",
    "    print(command)\n"
   ]
  },
  {
   "cell_type": "code",
   "execution_count": 7,
   "metadata": {},
   "outputs": [
    {
     "name": "stdout",
     "output_type": "stream",
     "text": [
      "Image 1\n",
      "Move Right\n",
      "Fill-In Square\n",
      "Move Right\n",
      "Fill-In Square\n",
      "Move Right\n",
      "Move Down\n",
      "Fill-In Square\n",
      "Move Left\n",
      "Move Left\n",
      "Move Left\n",
      "Fill-In Square\n",
      "Move Down\n",
      "Move Right\n",
      "Move Right\n",
      "Move Right\n",
      "Move Down\n",
      "Move Left\n",
      "Move Left\n",
      "Move Left\n",
      "Image 2\n",
      "Fill-In Square\n",
      "Move Right\n",
      "Move Right\n",
      "Move Right\n",
      "Move Down\n",
      "Move Left\n",
      "Fill-In Square\n",
      "Move Left\n",
      "Move Left\n",
      "Move Down\n",
      "Move Right\n",
      "Move Right\n",
      "Fill-In Square\n",
      "Move Right\n",
      "Move Down\n",
      "Move Left\n",
      "Move Left\n",
      "Move Left\n",
      "Fill-In Square\n",
      "Image 3\n",
      "Fill-In Square\n",
      "Move Right\n",
      "Move Right\n",
      "Move Right\n",
      "Move Down\n",
      "Fill-In Square\n",
      "Move Left\n",
      "Move Left\n",
      "Move Left\n",
      "Move Down\n",
      "Fill-In Square\n",
      "Move Right\n",
      "Fill-In Square\n",
      "Move Right\n",
      "Move Right\n",
      "Move Down\n",
      "Move Left\n",
      "Fill-In Square\n",
      "Move Left\n",
      "Move Left\n",
      "Image 4\n",
      "Move Right\n",
      "Fill-In Square\n",
      "Move Right\n",
      "Move Right\n",
      "Move Down\n",
      "Move Left\n",
      "Fill-In Square\n",
      "Move Left\n",
      "Fill-In Square\n",
      "Move Left\n",
      "Fill-In Square\n",
      "Move Down\n",
      "Move Right\n",
      "Move Right\n",
      "Move Right\n",
      "Fill-In Square\n",
      "Move Down\n",
      "Move Left\n",
      "Move Left\n",
      "Move Left\n",
      "Fill-In Square\n",
      "Image 5\n",
      "Move Right\n",
      "Move Right\n",
      "Move Right\n",
      "Fill-In Square\n",
      "Move Down\n",
      "Move Left\n",
      "Move Left\n",
      "Fill-In Square\n",
      "Move Left\n",
      "Move Down\n",
      "Move Right\n",
      "Fill-In Square\n",
      "Move Right\n",
      "Move Right\n",
      "Move Down\n",
      "Fill-In Square\n",
      "Move Left\n",
      "Move Left\n",
      "Move Left\n",
      "Image 6\n",
      "Move Right\n",
      "Fill-In Square\n",
      "Move Right\n",
      "Fill-In Square\n",
      "Move Right\n",
      "Move Down\n",
      "Move Left\n",
      "Fill-In Square\n",
      "Move Left\n",
      "Fill-In Square\n",
      "Move Left\n",
      "Move Down\n",
      "Move Right\n",
      "Fill-In Square\n",
      "Move Right\n",
      "Fill-In Square\n",
      "Move Right\n",
      "Move Down\n",
      "Move Left\n",
      "Fill-In Square\n",
      "Move Left\n",
      "Fill-In Square\n",
      "Move Left\n"
     ]
    }
   ],
   "source": [
    "c = [\"Move Right\", \"Move Left\", \n",
    "            \"Move Up\", \"Move Down\", \n",
    "            \"Fill-In Square\"]\n",
    "def fill_box(filled_box_index):\n",
    "    for i in range(16):\n",
    "        if i in filled_box_index:\n",
    "            print(c[4])\n",
    "        if (i!=15):\n",
    "            if ((i+1)%4 ==0):\n",
    "                print(c[3])\n",
    "            elif (i<3 or (i>7 and i<11)):\n",
    "                print(c[0])\n",
    "            else:\n",
    "                print(c[1])\n",
    "#1\n",
    "print(\"Image 1\")\n",
    "fill_box([1,2, 4, 7])\n",
    "#2\n",
    "print(\"Image 2\")\n",
    "fill_box([0, 5, 10, 15])\n",
    "#3\n",
    "print(\"Image 3\")\n",
    "fill_box([0, 4, 8, 9, 13])\n",
    "#4\n",
    "print(\"Image 4\")\n",
    "fill_box([1, 5, 6, 7, 11, 15])\n",
    "#5\n",
    "print(\"Image 5\")\n",
    "fill_box([3, 6, 9, 12])\n",
    "#6\n",
    "print(\"Image 6\")\n",
    "fill_box([1, 2, 5, 6, 9, 10, 13, 14])\n",
    "\n"
   ]
  },
  {
   "cell_type": "code",
   "execution_count": 8,
   "metadata": {},
   "outputs": [
    {
     "name": "stdout",
     "output_type": "stream",
     "text": [
      "Result 1: 100\n",
      "Result 2: 5050\n"
     ]
    }
   ],
   "source": [
    "\n",
    "result1 = int(\"50\") + 50\n",
    "result2 = str(50) + \"50\"\n",
    "print(\"Result 1:\", result1)\n",
    "print(\"Result 2:\", result2)\n"
   ]
  },
  {
   "cell_type": "code",
   "execution_count": 9,
   "metadata": {},
   "outputs": [
    {
     "name": "stdout",
     "output_type": "stream",
     "text": [
      "Generated number: 1000\n"
     ]
    }
   ],
   "source": [
    "number = int(\"1\" + \"0\" + \"0\" + \"0\")\n",
    "print(\"Generated number:\", number)\n"
   ]
  },
  {
   "cell_type": "code",
   "execution_count": 11,
   "metadata": {},
   "outputs": [
    {
     "name": "stdout",
     "output_type": "stream",
     "text": [
      "Area of Rectangle: 1800\n"
     ]
    }
   ],
   "source": [
    "\n",
    "width, height = 30, 60\n",
    "area = width * height\n",
    "print(\"Area of Rectangle:\", area)\n"
   ]
  },
  {
   "cell_type": "code",
   "execution_count": 12,
   "metadata": {},
   "outputs": [
    {
     "name": "stdout",
     "output_type": "stream",
     "text": [
      "Hypotenuse: 5.0\n"
     ]
    }
   ],
   "source": [
    "import math\n",
    "base = int(input(\"Enter base: \"))\n",
    "height = int(input(\"Enter height: \"))\n",
    "hypotenuse = math.sqrt(base**2 + height**2)\n",
    "print(\"Hypotenuse:\", hypotenuse)\n"
   ]
  },
  {
   "cell_type": "code",
   "execution_count": 15,
   "metadata": {},
   "outputs": [
    {
     "name": "stdout",
     "output_type": "stream",
     "text": [
      "Is the integer odd?: False\n"
     ]
    }
   ],
   "source": [
    "\n",
    "n = int(input(\"Enter an integer: \"))\n",
    "is_odd = n % 2 != 0\n",
    "print(\"Is the integer odd?:\", is_odd)\n"
   ]
  },
  {
   "cell_type": "code",
   "execution_count": 17,
   "metadata": {},
   "outputs": [
    {
     "name": "stdout",
     "output_type": "stream",
     "text": [
      "Is even and in range?: True\n"
     ]
    }
   ],
   "source": [
    "n = int(input(\"Enter an integer: \"))\n",
    "is_even_in_range = 0 <= n <= 100 and n % 2 == 0\n",
    "print(\"Is even and in range?:\", is_even_in_range)\n"
   ]
  },
  {
   "cell_type": "code",
   "execution_count": 19,
   "metadata": {},
   "outputs": [],
   "source": [
    "game_score = int(input(\"Enter game score: \"))\n",
    "if game_score > 1000:\n",
    "    print(\"You are a master.\")\n"
   ]
  },
  {
   "cell_type": "code",
   "execution_count": 22,
   "metadata": {},
   "outputs": [
    {
     "name": "stdout",
     "output_type": "stream",
     "text": [
      "x= -10\n"
     ]
    }
   ],
   "source": [
    "num = int(input(\"Enter integer:\"))\n",
    "if num>0:\n",
    "    print(\"x=\", num)\n",
    "    print(num, \"is a natural number\")\n",
    "else:\n",
    "    print(\"x=\", num)"
   ]
  },
  {
   "cell_type": "code",
   "execution_count": 29,
   "metadata": {},
   "outputs": [
    {
     "name": "stdout",
     "output_type": "stream",
     "text": [
      "A is a vowel\n"
     ]
    }
   ],
   "source": [
    "ch = (input(\"Enter the alphabet\"))\n",
    "if ch.lower() in ['a', 'e', 'i', 'o', 'u']:\n",
    "    print(f\"{ch} is a vowel\")\n",
    "else:\n",
    "    print(f\"{ch} is a consonant\")"
   ]
  },
  {
   "cell_type": "code",
   "execution_count": 37,
   "metadata": {},
   "outputs": [
    {
     "name": "stdout",
     "output_type": "stream",
     "text": [
      "4 is a multiple of 2\n"
     ]
    }
   ],
   "source": [
    "n = input(\"Enter two integers:\").split()\n",
    "a = int(n[0])\n",
    "b = int(n[1])\n",
    "if a%b ==0:\n",
    "    print(f\"{a} is a multiple of {b}\")"
   ]
  },
  {
   "cell_type": "code",
   "execution_count": null,
   "metadata": {},
   "outputs": [],
   "source": []
  },
  {
   "cell_type": "code",
   "execution_count": 38,
   "metadata": {},
   "outputs": [
    {
     "name": "stdout",
     "output_type": "stream",
     "text": [
      "V\n",
      "J-Hope\n",
      "RM\n",
      "Jungkook\n",
      "Jin\n",
      "Jimin\n",
      "Suga\n"
     ]
    }
   ],
   "source": [
    "bts = ['V', 'J-Hope', 'RM', 'Jungkook', 'Jin', 'Jimin', 'Suga']\n",
    "for member in bts:\n",
    "    print(member)\n"
   ]
  },
  {
   "cell_type": "code",
   "execution_count": 39,
   "metadata": {},
   "outputs": [
    {
     "name": "stdout",
     "output_type": "stream",
     "text": [
      "Sum of integers from 1 to 100: 5050\n"
     ]
    }
   ],
   "source": [
    "print(\"Sum of integers from 1 to 100:\", sum(range(1, 101)))\n"
   ]
  },
  {
   "cell_type": "code",
   "execution_count": 40,
   "metadata": {},
   "outputs": [
    {
     "name": "stdout",
     "output_type": "stream",
     "text": [
      "Sum of even numbers from 1 to 100: 2550\n"
     ]
    }
   ],
   "source": [
    "print(\"Sum of even numbers from 1 to 100:\", sum(range(2, 101, 2)))\n",
    "\n"
   ]
  },
  {
   "cell_type": "code",
   "execution_count": 41,
   "metadata": {},
   "outputs": [
    {
     "name": "stdout",
     "output_type": "stream",
     "text": [
      "Sum of odd numbers from 1 to 100: 2500\n"
     ]
    }
   ],
   "source": [
    "print(\"Sum of odd numbers from 1 to 100:\", sum(range(1, 101, 2)))\n"
   ]
  },
  {
   "cell_type": "code",
   "execution_count": 42,
   "metadata": {},
   "outputs": [
    {
     "name": "stdout",
     "output_type": "stream",
     "text": [
      "2 * 1 = 2\n",
      "2 * 2 = 4\n",
      "2 * 3 = 6\n",
      "2 * 4 = 8\n",
      "2 * 5 = 10\n",
      "2 * 6 = 12\n",
      "2 * 7 = 14\n",
      "2 * 8 = 16\n",
      "2 * 9 = 18\n"
     ]
    }
   ],
   "source": [
    "for i in range(1, 10):\n",
    "    print(f\"2 * {i} = {2*i}\")"
   ]
  },
  {
   "cell_type": "code",
   "execution_count": 44,
   "metadata": {},
   "outputs": [
    {
     "name": "stdout",
     "output_type": "stream",
     "text": [
      "1 * 1 = 1\n",
      "1 * 2 = 2\n",
      "1 * 3 = 3\n",
      "1 * 4 = 4\n",
      "1 * 5 = 5\n",
      "1 * 6 = 6\n",
      "1 * 7 = 7\n",
      "1 * 8 = 8\n",
      "1 * 9 = 9\n",
      "2 * 1 = 2\n",
      "2 * 2 = 4\n",
      "2 * 3 = 6\n",
      "2 * 4 = 8\n",
      "2 * 5 = 10\n",
      "2 * 6 = 12\n",
      "2 * 7 = 14\n",
      "2 * 8 = 16\n",
      "2 * 9 = 18\n",
      "3 * 1 = 3\n",
      "3 * 2 = 6\n",
      "3 * 3 = 9\n",
      "3 * 4 = 12\n",
      "3 * 5 = 15\n",
      "3 * 6 = 18\n",
      "3 * 7 = 21\n",
      "3 * 8 = 24\n",
      "3 * 9 = 27\n",
      "4 * 1 = 4\n",
      "4 * 2 = 8\n",
      "4 * 3 = 12\n",
      "4 * 4 = 16\n",
      "4 * 5 = 20\n",
      "4 * 6 = 24\n",
      "4 * 7 = 28\n",
      "4 * 8 = 32\n",
      "4 * 9 = 36\n",
      "5 * 1 = 5\n",
      "5 * 2 = 10\n",
      "5 * 3 = 15\n",
      "5 * 4 = 20\n",
      "5 * 5 = 25\n",
      "5 * 6 = 30\n",
      "5 * 7 = 35\n",
      "5 * 8 = 40\n",
      "5 * 9 = 45\n",
      "6 * 1 = 6\n",
      "6 * 2 = 12\n",
      "6 * 3 = 18\n",
      "6 * 4 = 24\n",
      "6 * 5 = 30\n",
      "6 * 6 = 36\n",
      "6 * 7 = 42\n",
      "6 * 8 = 48\n",
      "6 * 9 = 54\n",
      "7 * 1 = 7\n",
      "7 * 2 = 14\n",
      "7 * 3 = 21\n",
      "7 * 4 = 28\n",
      "7 * 5 = 35\n",
      "7 * 6 = 42\n",
      "7 * 7 = 49\n",
      "7 * 8 = 56\n",
      "7 * 9 = 63\n",
      "8 * 1 = 8\n",
      "8 * 2 = 16\n",
      "8 * 3 = 24\n",
      "8 * 4 = 32\n",
      "8 * 5 = 40\n",
      "8 * 6 = 48\n",
      "8 * 7 = 56\n",
      "8 * 8 = 64\n",
      "8 * 9 = 72\n",
      "9 * 1 = 9\n",
      "9 * 2 = 18\n",
      "9 * 3 = 27\n",
      "9 * 4 = 36\n",
      "9 * 5 = 45\n",
      "9 * 6 = 54\n",
      "9 * 7 = 63\n",
      "9 * 8 = 72\n",
      "9 * 9 = 81\n"
     ]
    }
   ],
   "source": [
    "n=1\n",
    "while(n<=9):\n",
    "    i=1\n",
    "    while (i<=9):\n",
    "        print(f\"{n} * {i} = {n*i}\")\n",
    "        i+=1\n",
    "    n+=1"
   ]
  }
 ],
 "metadata": {
  "kernelspec": {
   "display_name": "base",
   "language": "python",
   "name": "python3"
  },
  "language_info": {
   "codemirror_mode": {
    "name": "ipython",
    "version": 3
   },
   "file_extension": ".py",
   "mimetype": "text/x-python",
   "name": "python",
   "nbconvert_exporter": "python",
   "pygments_lexer": "ipython3",
   "version": "3.11.7"
  }
 },
 "nbformat": 4,
 "nbformat_minor": 2
}
