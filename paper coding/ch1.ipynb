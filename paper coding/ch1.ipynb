{
 "cells": [
  {
   "cell_type": "code",
   "execution_count": null,
   "metadata": {},
   "outputs": [],
   "source": [
    "### Chapter 1: Programming Basic Concept and Starting Python\n",
    "\n",
    "# Sequential Programming (UNIT 01)\n",
    "# Q1: Coloring squares with given commands\n",
    "commands = [\"Move Right\", \"Fill-In Square\", \"Move Right\", \"Move Down\", \n",
    "            \"Fill-In Square\", \"Move Left\", \"Move Left\", \"Fill-In Square\",\n",
    "            \"Move Down\", \"Move Right\", \"Fill-In Square\", \"Move Right\"]\n",
    "\n",
    "print(\"Sequence of Commands:\")\n",
    "for command in commands:\n",
    "    print(command)\n"
   ]
  },
  {
   "cell_type": "code",
   "execution_count": null,
   "metadata": {},
   "outputs": [],
   "source": [
    "# Basic Numeric Operations (UNIT 03)\n",
    "# Q1: Add \"50\" and 50, output 100 and \"5050\"\n",
    "result1 = int(\"50\") + 50\n",
    "result2 = str(50) + \"50\"\n",
    "print(\"Result 1:\", result1)\n",
    "print(\"Result 2:\", result2)\n"
   ]
  },
  {
   "cell_type": "code",
   "execution_count": null,
   "metadata": {},
   "outputs": [],
   "source": [
    "# Q2: Create 1000 using '1' and '0'\n",
    "number = int(\"1\" + \"0\" + \"0\" + \"0\")\n",
    "print(\"Generated number:\", number)\n"
   ]
  },
  {
   "cell_type": "code",
   "execution_count": null,
   "metadata": {},
   "outputs": [],
   "source": [
    "# Q3: Factorial of 5 and 10\n",
    "import math\n",
    "fact_5 = math.factorial(5)\n",
    "fact_10 = math.factorial(10)\n",
    "print(\"5! =\", fact_5)\n",
    "print(\"10! =\", fact_10)\n"
   ]
  },
  {
   "cell_type": "code",
   "execution_count": null,
   "metadata": {},
   "outputs": [],
   "source": [
    "# Variables and Input (UNIT 04)\n",
    "# Q1: Area of Rectangle\n",
    "width, height = 30, 60\n",
    "area = width * height\n",
    "print(\"Area of Rectangle:\", area)\n"
   ]
  },
  {
   "cell_type": "code",
   "execution_count": null,
   "metadata": {},
   "outputs": [],
   "source": [
    "# Q2: Pythagorean Theorem\n",
    "import math\n",
    "base = int(input(\"Enter base: \"))\n",
    "height = int(input(\"Enter height: \"))\n",
    "hypotenuse = math.sqrt(base**2 + height**2)\n",
    "print(\"Hypotenuse:\", hypotenuse)\n"
   ]
  },
  {
   "cell_type": "code",
   "execution_count": null,
   "metadata": {},
   "outputs": [],
   "source": [
    "# Q3: Circle Metrics\n",
    "PI = 3.141592\n",
    "radius = float(input(\"Enter radius: \"))\n",
    "circumference = 2 * PI * radius\n",
    "area = PI * radius * radius\n",
    "print(f\"Circumference: {circumference}, Area: {area}\")\n"
   ]
  },
  {
   "cell_type": "code",
   "execution_count": 1,
   "metadata": {},
   "outputs": [
    {
     "name": "stdout",
     "output_type": "stream",
     "text": [
      "2^2 = 4\n",
      "3^2 = 9\n",
      "4^2 = 16\n",
      "5^2 = 25\n",
      "6^2 = 36\n"
     ]
    }
   ],
   "source": [
    "# Q4: Squared Values\n",
    "for a in range(2, 7):\n",
    "    print(f\"{a}^2 = {a**2}\")\n"
   ]
  },
  {
   "cell_type": "code",
   "execution_count": 2,
   "metadata": {},
   "outputs": [
    {
     "name": "stdout",
     "output_type": "stream",
     "text": [
      "Is odd?: True\n"
     ]
    }
   ],
   "source": [
    "# Logic and Comparisons (UNIT 05)\n",
    "# Q1: Odd or Even\n",
    "n = int(input(\"Enter an integer: \"))\n",
    "is_odd = n % 2 != 0\n",
    "print(\"Is odd?:\", is_odd)\n"
   ]
  },
  {
   "cell_type": "code",
   "execution_count": null,
   "metadata": {},
   "outputs": [],
   "source": [
    "# Q2: Even number within range 0-100\n",
    "n = int(input(\"Enter an integer: \"))\n",
    "is_even_in_range = 0 <= n <= 100 and n % 2 == 0\n",
    "print(\"Is even and in range?:\", is_even_in_range)\n"
   ]
  },
  {
   "cell_type": "code",
   "execution_count": null,
   "metadata": {},
   "outputs": [],
   "source": [
    "# Conditional Statements (UNIT 06)\n",
    "# Q1: Game score classification\n",
    "game_score = int(input(\"Enter game score: \"))\n",
    "if game_score > 1000:\n",
    "    print(\"You are a master.\")\n",
    "else:\n",
    "    print(\"Keep trying!\")\n"
   ]
  },
  {
   "cell_type": "code",
   "execution_count": null,
   "metadata": {},
   "outputs": [],
   "source": [
    "# Q2: Age-based category\n",
    "age = int(input(\"Enter age: \"))\n",
    "if age >= 20:\n",
    "    print(\"Adult\")\n",
    "elif 10 <= age < 20:\n",
    "    print(\"Youth\")\n",
    "else:\n",
    "    print(\"Kid\")\n"
   ]
  },
  {
   "cell_type": "code",
   "execution_count": null,
   "metadata": {},
   "outputs": [],
   "source": [
    "# Loops (UNIT 08)\n",
    "# Q1: Print BTS members\n",
    "bts = ['V', 'J-Hope', 'RM', 'Jungkook', 'Jin', 'Jimin', 'Suga']\n",
    "for member in bts:\n",
    "    print(member)\n"
   ]
  },
  {
   "cell_type": "code",
   "execution_count": null,
   "metadata": {},
   "outputs": [],
   "source": [
    "# Q2: Sum of integers from 1 to 100\n",
    "print(\"Sum of integers from 1 to 100:\", sum(range(1, 101)))\n"
   ]
  },
  {
   "cell_type": "code",
   "execution_count": 3,
   "metadata": {},
   "outputs": [
    {
     "name": "stdout",
     "output_type": "stream",
     "text": [
      "Sum of even numbers from 1 to 100: 2550\n"
     ]
    }
   ],
   "source": [
    "# Q3: Sum of even numbers from 1 to 100\n",
    "print(\"Sum of even numbers from 1 to 100:\", sum(range(2, 101, 2)))\n",
    "\n"
   ]
  },
  {
   "cell_type": "code",
   "execution_count": 4,
   "metadata": {},
   "outputs": [
    {
     "name": "stdout",
     "output_type": "stream",
     "text": [
      "Sum of odd numbers from 1 to 100: 2500\n"
     ]
    }
   ],
   "source": [
    "# Q4: Sum of odd numbers from 1 to 100\n",
    "print(\"Sum of odd numbers from 1 to 100:\", sum(range(1, 101, 2)))\n"
   ]
  },
  {
   "cell_type": "code",
   "execution_count": 5,
   "metadata": {},
   "outputs": [
    {
     "name": "stdout",
     "output_type": "stream",
     "text": [
      "2 x 1 = 2\n",
      "2 x 2 = 4\n",
      "2 x 3 = 6\n",
      "2 x 4 = 8\n",
      "2 x 5 = 10\n",
      "2 x 6 = 12\n",
      "2 x 7 = 14\n",
      "2 x 8 = 16\n",
      "2 x 9 = 18\n"
     ]
    }
   ],
   "source": [
    "# Loops (UNIT 09)\n",
    "# Q1: Multiplication table of 2\n",
    "for i in range(1, 10):\n",
    "    print(f\"2 x {i} = {2*i}\")\n"
   ]
  },
  {
   "cell_type": "code",
   "execution_count": 6,
   "metadata": {},
   "outputs": [
    {
     "name": "stdout",
     "output_type": "stream",
     "text": [
      "515 is a palindrome?: True\n"
     ]
    }
   ],
   "source": [
    "# Q2: Check palindrome number\n",
    "num = input(\"Enter an integer: \")\n",
    "is_palindrome = num == num[::-1]\n",
    "print(f\"{num} is a palindrome?: {is_palindrome}\")\n"
   ]
  },
  {
   "cell_type": "code",
   "execution_count": 7,
   "metadata": {},
   "outputs": [
    {
     "name": "stdout",
     "output_type": "stream",
     "text": [
      "Lower!\n",
      "Lower!\n",
      "Lower!\n",
      "Lower!\n",
      "Lower!\n",
      "Congratulations! You guessed it in 6 tries.\n"
     ]
    }
   ],
   "source": [
    "# Q3: Guess the number game\n",
    "import random\n",
    "correct_number = random.randint(1, 100)\n",
    "tries = 0\n",
    "while True:\n",
    "    guess = int(input(\"Guess the number (1-100): \"))\n",
    "    tries += 1\n",
    "    if guess < correct_number:\n",
    "        print(\"Higher!\")\n",
    "    elif guess > correct_number:\n",
    "        print(\"Lower!\")\n",
    "    else:\n",
    "        print(f\"Congratulations! You guessed it in {tries} tries.\")\n",
    "        break\n"
   ]
  },
  {
   "cell_type": "code",
   "execution_count": null,
   "metadata": {},
   "outputs": [],
   "source": []
  }
 ],
 "metadata": {
  "kernelspec": {
   "display_name": "base",
   "language": "python",
   "name": "python3"
  },
  "language_info": {
   "codemirror_mode": {
    "name": "ipython",
    "version": 3
   },
   "file_extension": ".py",
   "mimetype": "text/x-python",
   "name": "python",
   "nbconvert_exporter": "python",
   "pygments_lexer": "ipython3",
   "version": "3.11.7"
  }
 },
 "nbformat": 4,
 "nbformat_minor": 2
}
