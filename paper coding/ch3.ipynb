{
 "cells": [
  {
   "cell_type": "markdown",
   "metadata": {},
   "source": [
    "### Unit 17"
   ]
  },
  {
   "cell_type": "code",
   "execution_count": 1,
   "metadata": {},
   "outputs": [
    {
     "name": "stdout",
     "output_type": "stream",
     "text": [
      "Welcome.\n",
      "Welcome.\n"
     ]
    }
   ],
   "source": [
    "def my_greet():\n",
    "    print(\"Welcome.\")\n",
    "\n",
    "my_greet()\n",
    "my_greet()\n"
   ]
  },
  {
   "cell_type": "code",
   "execution_count": 2,
   "metadata": {},
   "outputs": [
    {
     "name": "stdout",
     "output_type": "stream",
     "text": [
      "The greater of 100 or 200 is: 200\n",
      "The smaller of 100 or 200 is: 100\n"
     ]
    }
   ],
   "source": [
    "def max2(m, n):\n",
    "    return max(m, n)\n",
    "\n",
    "def min2(m, n):\n",
    "    return min(m, n)\n",
    "\n",
    "m, n = 100, 200\n",
    "print(f\"The greater of {m} or {n} is: {max2(m, n)}\")\n",
    "print(f\"The smaller of {m} or {n} is: {min2(m, n)}\")\n"
   ]
  },
  {
   "cell_type": "code",
   "execution_count": 2,
   "metadata": {},
   "outputs": [
    {
     "name": "stdout",
     "output_type": "stream",
     "text": [
      "1 mile(s) = 1.61 kilometers\n",
      "2 mile(s) = 3.22 kilometers\n",
      "3 mile(s) = 4.83 kilometers\n",
      "4 mile(s) = 6.44 kilometers\n",
      "5 mile(s) = 8.05 kilometers\n"
     ]
    }
   ],
   "source": [
    "def mile2km(mi):\n",
    "    return mi * 1.61\n",
    "\n",
    "for i in range(1, 6):\n",
    "    print(f\"{i} mile(s) = {round(mile2km(i), 2)} kilometers\")\n"
   ]
  },
  {
   "cell_type": "code",
   "execution_count": 5,
   "metadata": {},
   "outputs": [
    {
     "name": "stdout",
     "output_type": "stream",
     "text": [
      "10 degrees Celsius = 50.0 degrees Fahrenheit\n",
      "20 degrees Celsius = 68.0 degrees Fahrenheit\n",
      "30 degrees Celsius = 86.0 degrees Fahrenheit\n",
      "40 degrees Celsius = 104.0 degrees Fahrenheit\n",
      "50 degrees Celsius = 122.0 degrees Fahrenheit\n"
     ]
    }
   ],
   "source": [
    "def cel2fah(cel):\n",
    "    return cel * 9 / 5 + 32\n",
    "\n",
    "for c in range(10, 51, 10):\n",
    "    print(f\"{c} degrees Celsius = {cel2fah(c):.1f} degrees Fahrenheit\")\n"
   ]
  },
  {
   "cell_type": "markdown",
   "metadata": {},
   "source": [
    "### Unit 18"
   ]
  },
  {
   "cell_type": "code",
   "execution_count": 8,
   "metadata": {},
   "outputs": [
    {
     "name": "stdout",
     "output_type": "stream",
     "text": [
      "The sum from 1 to 10 is: 55\n"
     ]
    }
   ],
   "source": [
    "def sum_recursive(n):\n",
    "    if n == 1:\n",
    "        return 1\n",
    "    return n + sum_recursive(n - 1)\n",
    "\n",
    "n = int(input(\"Enter a number: \"))\n",
    "print(f\"The sum from 1 to {n} is: {sum_recursive(n)}\")\n"
   ]
  },
  {
   "cell_type": "code",
   "execution_count": 12,
   "metadata": {},
   "outputs": [
    {
     "name": "stdout",
     "output_type": "stream",
     "text": [
      "2 to the power of 10 is: 1024\n"
     ]
    }
   ],
   "source": [
    "def power(x, n):\n",
    "    if n == 0:\n",
    "        return 1\n",
    "    return x * power(x, n - 1)\n",
    "\n",
    "x = int(input(\"Enter the base (x): \"))\n",
    "n = int(input(\"Enter the exponent (n): \"))\n",
    "print(f\"{x} to the power of {n} is: {power(x, n)}\")\n"
   ]
  },
  {
   "cell_type": "markdown",
   "metadata": {},
   "source": [
    "### Unit 19"
   ]
  },
  {
   "cell_type": "code",
   "execution_count": 4,
   "metadata": {},
   "outputs": [
    {
     "name": "stdout",
     "output_type": "stream",
     "text": [
      "Even list: [2, 4, 6, 8, 10]\n"
     ]
    }
   ],
   "source": [
    "n_list=[1,2,3,4,5,6,7,8,9,10]\n",
    "even_list=[]\n",
    "for x in filter(lambda x: x%2==0 ,n_list):\n",
    "\teven_list.append(x)\n",
    "print(f\"Even list: {even_list}\")\n"
   ]
  },
  {
   "cell_type": "code",
   "execution_count": 2,
   "metadata": {},
   "outputs": [
    {
     "name": "stdout",
     "output_type": "stream",
     "text": [
      "Even list: [2, 4, 6, 8, 10]\n"
     ]
    }
   ],
   "source": [
    "n_list=[1,2,3,4,5,6,7,8,9,10]\n",
    "even = filter(lambda x: x%2==0 ,n_list)\n",
    "print(f\"Even list: {list(even)}\")\n"
   ]
  },
  {
   "cell_type": "code",
   "execution_count": 14,
   "metadata": {},
   "outputs": [
    {
     "name": "stdout",
     "output_type": "stream",
     "text": [
      "Uppercase list: ['A', 'B', 'C', 'D']\n"
     ]
    }
   ],
   "source": [
    "def to_upper(char):\n",
    "    return char.upper()\n",
    "\n",
    "a_list = ['a', 'b', 'c', 'd']\n",
    "upper_a_list = list(map(to_upper, a_list))\n",
    "print(f\"Uppercase list: {upper_a_list}\")\n"
   ]
  },
  {
   "cell_type": "code",
   "execution_count": 15,
   "metadata": {},
   "outputs": [
    {
     "name": "stdout",
     "output_type": "stream",
     "text": [
      "Sum of integers from 1 to 100: 5050\n"
     ]
    }
   ],
   "source": [
    "from functools import reduce\n",
    "\n",
    "result = reduce(lambda x, y: x + y, range(1, 101))\n",
    "print(f\"Sum of integers from 1 to 100: {result}\")\n"
   ]
  },
  {
   "cell_type": "markdown",
   "metadata": {},
   "source": [
    "### Unit 20"
   ]
  },
  {
   "cell_type": "code",
   "execution_count": 1,
   "metadata": {},
   "outputs": [
    {
     "name": "stdout",
     "output_type": "stream",
     "text": [
      "hello\n"
     ]
    }
   ],
   "source": [
    "def greetings():\n",
    "    def say_hi():\n",
    "        print(\"hello\")\n",
    "    \n",
    "    say_hi()\n",
    "\n",
    "greetings()\n"
   ]
  },
  {
   "cell_type": "code",
   "execution_count": 3,
   "metadata": {},
   "outputs": [
    {
     "data": {
      "text/plain": [
       "14"
      ]
     },
     "execution_count": 3,
     "metadata": {},
     "output_type": "execute_result"
    }
   ],
   "source": [
    "def calc():\n",
    "    a = 3\n",
    "    b = 5 \n",
    "    def mul_add(x):\n",
    "        return a*x+b \n",
    "    return mul_add\n",
    "\n",
    "num= calc()\n",
    "num(3)\n"
   ]
  },
  {
   "cell_type": "code",
   "execution_count": 4,
   "metadata": {},
   "outputs": [
    {
     "data": {
      "text/plain": [
       "14"
      ]
     },
     "execution_count": 4,
     "metadata": {},
     "output_type": "execute_result"
    }
   ],
   "source": [
    "def calc():\n",
    "\ta=3\n",
    "\tb=5\n",
    "\treturn (lambda x: a*x +b)\n",
    "num=calc()\n",
    "num(3)\n"
   ]
  },
  {
   "cell_type": "code",
   "execution_count": 5,
   "metadata": {},
   "outputs": [
    {
     "name": "stdout",
     "output_type": "stream",
     "text": [
      "woof woof\n"
     ]
    }
   ],
   "source": [
    "class Dog:\n",
    "    def bark(self):\n",
    "        print(\"woof woof\")\n",
    "\n",
    "# Create an instance and call the bark method\n",
    "my_dog = Dog()\n",
    "my_dog.bark()\n"
   ]
  },
  {
   "cell_type": "code",
   "execution_count": 6,
   "metadata": {},
   "outputs": [
    {
     "name": "stdout",
     "output_type": "stream",
     "text": [
      "Bingo: woof woof\n"
     ]
    }
   ],
   "source": [
    "class Dog:\n",
    "    def __init__(self, name):\n",
    "        self.name = name\n",
    "\n",
    "    def bark(self):\n",
    "        print(f\"{self.name}: woof woof\")\n",
    "\n",
    "my_dog = Dog(\"Bingo\")\n",
    "my_dog.bark()\n"
   ]
  }
 ],
 "metadata": {
  "kernelspec": {
   "display_name": "base",
   "language": "python",
   "name": "python3"
  },
  "language_info": {
   "codemirror_mode": {
    "name": "ipython",
    "version": 3
   },
   "file_extension": ".py",
   "mimetype": "text/x-python",
   "name": "python",
   "nbconvert_exporter": "python",
   "pygments_lexer": "ipython3",
   "version": "3.11.7"
  }
 },
 "nbformat": 4,
 "nbformat_minor": 4
}
