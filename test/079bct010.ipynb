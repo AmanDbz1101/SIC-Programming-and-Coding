{
 "cells": [
  {
   "cell_type": "markdown",
   "id": "3ced8ddc-3f8d-4e33-80d0-3cf4eeef3d98",
   "metadata": {},
   "source": [
    "Name: Aman Dhaubanjar <br>\n",
    "Roll no: 079bct010"
   ]
  },
  {
   "cell_type": "code",
   "execution_count": 1,
   "id": "1c7c9364-999b-4053-9378-ca390c5091f9",
   "metadata": {},
   "outputs": [
    {
     "name": "stdout",
     "output_type": "stream",
     "text": [
      "The sum of 1 to 5 is: 15\n"
     ]
    }
   ],
   "source": [
    "#Q1\n",
    "print(\"The sum of 1 to 5 is:\", 1+2+3+4+5)\n"
   ]
  },
  {
   "cell_type": "raw",
   "id": "9aa5baa5-00aa-4c4a-9a82-30b91c79f9b8",
   "metadata": {},
   "source": [
    "#Q. 02-02\n",
    "print \"Enter an integer:\" \n",
    "n=input()\n",
    "if (n%2==0):\n",
    "    print\"n is even\"\n",
    "else:\n",
    "    print\"n is odd\""
   ]
  },
  {
   "cell_type": "code",
   "execution_count": 6,
   "id": "6fad536c-1659-4a88-803d-57d49720c8bd",
   "metadata": {},
   "outputs": [
    {
     "name": "stdout",
     "output_type": "stream",
     "text": [
      "********************\n",
      "# # # # # # # # # # \n"
     ]
    }
   ],
   "source": [
    "#Q3\n",
    "print('*'*20)\n",
    "print('# '*10)"
   ]
  },
  {
   "cell_type": "code",
   "execution_count": 7,
   "id": "449aa39b-9c71-4ef4-8808-3f53f6f37cbb",
   "metadata": {},
   "outputs": [
    {
     "name": "stdout",
     "output_type": "stream",
     "text": [
      "Aman Dhaubanjar\n",
      "Bhaktapur, Nepal\n"
     ]
    }
   ],
   "source": [
    "#Q4\n",
    "name = \"Aman Dhaubanjar\"\n",
    "address = \"Bhaktapur, Nepal\"\n",
    "print(name, address, sep='\\n')"
   ]
  },
  {
   "cell_type": "raw",
   "id": "27852634-5996-4620-aa3c-195750c94b70",
   "metadata": {},
   "source": [
    "#Q5\n",
    "x = 1\n",
    "y = 0\n",
    "Output:\n",
    "0\n",
    "1\n",
    "False\n",
    "True"
   ]
  },
  {
   "cell_type": "code",
   "execution_count": 15,
   "id": "dada7eb7-c040-4fed-8b39-54023472a894",
   "metadata": {},
   "outputs": [
    {
     "name": "stdin",
     "output_type": "stream",
     "text": [
      "Enter first integer: 5\n",
      "Enter second integer: 2\n"
     ]
    },
    {
     "name": "stdout",
     "output_type": "stream",
     "text": [
      "2 5\n"
     ]
    }
   ],
   "source": [
    "#Q6\n",
    "a = input(\"Enter first integer:\")\n",
    "b = input(\"Enter second integer:\")\n",
    "if (a ==b ):\n",
    "    print(\"Cannot be same integers\")\n",
    "elif(a>b):\n",
    "    print(b, a)\n",
    "else:\n",
    "    print(a, b)\n"
   ]
  },
  {
   "cell_type": "code",
   "execution_count": 29,
   "id": "123521f7-8fef-4847-8c71-81a55cd67f89",
   "metadata": {},
   "outputs": [
    {
     "name": "stdin",
     "output_type": "stream",
     "text": [
      "Are you an adult? (1 if you are an adult, 0 if you are minor): 1\n",
      "Are you married? (1 if you are married, 0 if you are single): 0\n"
     ]
    },
    {
     "name": "stdout",
     "output_type": "stream",
     "text": [
      "You are an adult who is single\n"
     ]
    }
   ],
   "source": [
    "#Q7\n",
    "adult = int(input(\"Are you an adult? (1 if you are an adult, 0 if you are minor):\"))\n",
    "married = int(input(\"Are you married? (1 if you are married, 0 if you are single):\"))\n",
    "if adult and married:\n",
    "    print(\"You are an adult who is married\")\n",
    "elif not adult and married:\n",
    "    print(\"You are a minor who is married\")\n",
    "elif adult and not married:\n",
    "    print(\"You are an adult who is single\")\n",
    "else:\n",
    "    print(\"You are a minor who is single\")\n",
    "    "
   ]
  },
  {
   "cell_type": "code",
   "execution_count": 36,
   "id": "cc22dde7-d86e-4d68-9474-2fdb0fb73ac2",
   "metadata": {},
   "outputs": [
    {
     "name": "stdout",
     "output_type": "stream",
     "text": [
      "2 : Prime number\n",
      "3 : Prime number\n",
      "4 : Composite number\n",
      "5 : Prime number\n",
      "6 : Composite number\n",
      "7 : Prime number\n",
      "8 : Composite number\n",
      "9 : Composite number\n",
      "10 : Composite number\n",
      "11 : Prime number\n",
      "12 : Composite number\n"
     ]
    }
   ],
   "source": [
    "#Q8\n",
    "for n in range(2, 13):\n",
    "    count=0\n",
    "    for i in range(2, n):\n",
    "        if (n%i==0):\n",
    "            count+=1\n",
    "    if (count>0): \n",
    "        print(f\"{n} : Composite number\")\n",
    "    else:\n",
    "        \n",
    "        print(f\"{n} : Prime number\")\n",
    "        \n",
    "        "
   ]
  },
  {
   "cell_type": "code",
   "execution_count": 46,
   "id": "29a808b0-4e06-4020-9cc0-010d752380da",
   "metadata": {},
   "outputs": [
    {
     "name": "stdout",
     "output_type": "stream",
     "text": [
      "Three-digit Armstrong numbers: 153 370 371 407 "
     ]
    }
   ],
   "source": [
    "#Q9\n",
    "print(\"Three-digit Armstrong numbers:\", end=' ')\n",
    "for i in range (100, 1000):\n",
    "    d=[]\n",
    "    \n",
    "    num = str(i)\n",
    "    d.append(int(num[0]))\n",
    "    d.append(int(num[1]))\n",
    "    d.append(int(num[2]))\n",
    "    if (i == d[0]**3 +d[1]**3 +d[2]**3):\n",
    "        print(i, end=' ')\n",
    "    "
   ]
  }
 ],
 "metadata": {
  "kernelspec": {
   "display_name": "Python 3 (ipykernel)",
   "language": "python",
   "name": "python3"
  },
  "language_info": {
   "codemirror_mode": {
    "name": "ipython",
    "version": 3
   },
   "file_extension": ".py",
   "mimetype": "text/x-python",
   "name": "python",
   "nbconvert_exporter": "python",
   "pygments_lexer": "ipython3",
   "version": "3.11.7"
  }
 },
 "nbformat": 4,
 "nbformat_minor": 5
}
