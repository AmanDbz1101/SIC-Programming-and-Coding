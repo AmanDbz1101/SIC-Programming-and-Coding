{
 "cells": [
  {
   "cell_type": "code",
   "execution_count": 4,
   "metadata": {},
   "outputs": [
    {
     "name": "stdout",
     "output_type": "stream",
     "text": [
      "I like pancake.\n",
      "I like kiwi juice.\n",
      "I like espresso.\n",
      "I love pancake.\n",
      "I love kiwi juice.\n",
      "I love espresso.\n"
     ]
    }
   ],
   "source": [
    "#Q.10-01\n",
    "l1 = ['I like', 'I love']\n",
    "l2 = ['pancake.', 'kiwi juice.', 'espresso.']\n",
    "\n",
    "for i in l1:\n",
    "    for j in l2:\n",
    "        print(i, j)"
   ]
  },
  {
   "cell_type": "code",
   "execution_count": 5,
   "metadata": {},
   "outputs": [
    {
     "name": "stdout",
     "output_type": "stream",
     "text": [
      "{'Name': 'David Doe', 'Age': 26, 'Weight': 82, 'Job': 'Data scientist', 'Father': 'John Doe'}\n"
     ]
    }
   ],
   "source": [
    "#Q.11-01\n",
    "person= {'Name' : 'David Doe', 'Age' :26, 'Weight' : 82, 'Job':'Data scientist'}\n",
    "person.update({'Father':'John Doe'})\n",
    "print(person)"
   ]
  },
  {
   "cell_type": "code",
   "execution_count": 7,
   "metadata": {},
   "outputs": [
    {
     "name": "stdout",
     "output_type": "stream",
     "text": [
      "[5, 6, 3, 9, 2, 7, 3, 8, 12]\n"
     ]
    }
   ],
   "source": [
    "#Q.12-01\n",
    "lst = [5, 6, 3, 9, 2, 12, 3, 8, 7]\n",
    "\n",
    "for i, data in enumerate(lst):\n",
    "    if data == max(lst):\n",
    "        lst[i], lst[-1] = lst[-1], lst[i]\n",
    "        break\n",
    "\n",
    "print(lst)"
   ]
  },
  {
   "cell_type": "code",
   "execution_count": 9,
   "metadata": {},
   "outputs": [
    {
     "name": "stdout",
     "output_type": "stream",
     "text": [
      "[1, 2, 3, 4, 5, 6]\n"
     ]
    }
   ],
   "source": [
    "#Q.13-01\n",
    "a = [[1, 2], [3, 4], [5, 6]]\n",
    "new_a = [i for l in a for i in l]\n",
    "print(new_a)\n"
   ]
  },
  {
   "cell_type": "code",
   "execution_count": 10,
   "metadata": {},
   "outputs": [
    {
     "name": "stdout",
     "output_type": "stream",
     "text": [
      "89.25\n"
     ]
    }
   ],
   "source": [
    "#Q.14-01\n",
    "maria = {'korean': 94, 'english': 91, 'mathematics': 89, 'science': 83}\n",
    "average = sum(maria.values())/len(maria)\n",
    "print(average)"
   ]
  },
  {
   "cell_type": "code",
   "execution_count": 22,
   "metadata": {},
   "outputs": [
    {
     "name": "stdout",
     "output_type": "stream",
     "text": [
      "False\n"
     ]
    }
   ],
   "source": [
    "#Q.15-01\n",
    "from copy import deepcopy\n",
    "school = {'kim': {'age': 16, 'hei': 170, 'grade':3}, \n",
    "          'lee': {'age': 15, 'hei': 168, 'grade':2},\n",
    "          'choi': {'age': 14, 'hei': 173, 'grade':1}}\n",
    "school2 = deepcopy(school)\n",
    "print (school is school2)\n"
   ]
  },
  {
   "cell_type": "code",
   "execution_count": 50,
   "metadata": {},
   "outputs": [
    {
     "name": "stdout",
     "output_type": "stream",
     "text": [
      "91.25\n"
     ]
    }
   ],
   "source": [
    "#Q.16-01\n",
    "scores = (('Hyun', 88, 95, 90), ('Kang', 85, 90, 95), ('Park', 70, 90, 80), ('Hong', 90, 90, 95))\n",
    "\n",
    "names, english, math , science = zip(*scores)\n",
    "\n",
    "math_avg = sum(math)/len(math)\n",
    "print(math_avg)\n"
   ]
  }
 ],
 "metadata": {
  "kernelspec": {
   "display_name": "base",
   "language": "python",
   "name": "python3"
  },
  "language_info": {
   "codemirror_mode": {
    "name": "ipython",
    "version": 3
   },
   "file_extension": ".py",
   "mimetype": "text/x-python",
   "name": "python",
   "nbconvert_exporter": "python",
   "pygments_lexer": "ipython3",
   "version": "3.11.7"
  }
 },
 "nbformat": 4,
 "nbformat_minor": 2
}
