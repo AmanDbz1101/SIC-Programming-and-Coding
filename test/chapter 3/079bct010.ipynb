{
 "cells": [
  {
   "cell_type": "code",
   "execution_count": 1,
   "metadata": {},
   "outputs": [
    {
     "name": "stdout",
     "output_type": "stream",
     "text": [
      "The distance between two points:  5.0\n"
     ]
    }
   ],
   "source": [
    "#Q. 17-01\n",
    "\n",
    "def distance(x1, y1, x2, y2):\n",
    "    return ((y2 - y1) ** 2 + (x2 - x1) ** 2) ** 0.5\n",
    "\n",
    "x1 = int(input(\"Enter the x1 coordinate: \"))\n",
    "y1 = int(input(\"Enter the y1 coordinate: \"))\n",
    "x2 = int(input(\"Enter the x2 coordinate: \"))\n",
    "y2 = int(input(\"Enter the y2 coordinate: \"))\n",
    "\n",
    "print(\"The distance between two points: \", distance(x1, y1, x2, y2))"
   ]
  },
  {
   "cell_type": "code",
   "execution_count": 7,
   "metadata": {},
   "outputs": [
    {
     "name": "stdout",
     "output_type": "stream",
     "text": [
      "The string is a palindrome\n"
     ]
    }
   ],
   "source": [
    "#Q. 18-01 \n",
    "\n",
    "def is_palindrome(s):\n",
    "    if (len(s)==0 or len(s)==1):\n",
    "        return True\n",
    "    if (s[0]==s[-1]):\n",
    "        return is_palindrome(s[1:-1])\n",
    "    else:\n",
    "        return False\n",
    "\n",
    "s = input(\"Enter a string: \")\n",
    "if is_palindrome(s):\n",
    "    print(\"The string is a palindrome\")\n",
    "else:\n",
    "    print(\"The string is not a palindrome\")\n",
    "    "
   ]
  },
  {
   "cell_type": "code",
   "execution_count": 17,
   "metadata": {},
   "outputs": [
    {
     "name": "stdout",
     "output_type": "stream",
     "text": [
      "Twice the input value:  [20, 40, 60]\n",
      "Three times the input value:  [30, 60, 90]\n"
     ]
    }
   ],
   "source": [
    "#Q. 19-01\n",
    "n_list = [10, 20, 30]\n",
    "print(\"Twice the input value: \",list(map(lambda x: 2*x, n_list)))\n",
    "print(\"Three times the input value: \",list(map(lambda x: 3*x, n_list)))\n"
   ]
  },
  {
   "cell_type": "raw",
   "metadata": {
    "vscode": {
     "languageId": "raw"
    }
   },
   "source": [
    "#Q. 20-01\n",
    "\n",
    "1\n",
    "4\n",
    "27\n",
    "256\n",
    "3125"
   ]
  },
  {
   "cell_type": "code",
   "execution_count": 31,
   "metadata": {},
   "outputs": [
    {
     "name": "stdout",
     "output_type": "stream",
     "text": [
      "v1*v2 =  (300, 800)\n",
      "v1/v2 =  (3.0, 2.0)\n"
     ]
    }
   ],
   "source": [
    "#Q. 21-01\n",
    "\n",
    "class Vector2D:\n",
    "    def __init__(self, v1, v2):\n",
    "        self.v1 = v1\n",
    "        self.v2 = v2\n",
    "\n",
    "    def __mul__(self, other):\n",
    "        return (self.v1 * other.v1, self.v2 * other.v2)\n",
    "\n",
    "    def __truediv__(self, other):\n",
    "        return (self.v1 / other.v1, self.v2 / other.v2)\n",
    "   \n",
    "v1 = Vector2D(30, 40)\n",
    "v2 = Vector2D(10, 20)\n",
    "\n",
    "print(\"v1*v2 = \",v1*v2)\n",
    "print(\"v1/v2 = \",v1/v2)"
   ]
  }
 ],
 "metadata": {
  "kernelspec": {
   "display_name": "base",
   "language": "python",
   "name": "python3"
  },
  "language_info": {
   "codemirror_mode": {
    "name": "ipython",
    "version": 3
   },
   "file_extension": ".py",
   "mimetype": "text/x-python",
   "name": "python",
   "nbconvert_exporter": "python",
   "pygments_lexer": "ipython3",
   "version": "3.11.7"
  }
 },
 "nbformat": 4,
 "nbformat_minor": 2
}
