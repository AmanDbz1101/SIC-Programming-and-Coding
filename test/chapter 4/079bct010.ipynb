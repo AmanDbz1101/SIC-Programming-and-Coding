{
 "cells": [
  {
   "cell_type": "raw",
   "metadata": {
    "vscode": {
     "languageId": "raw"
    }
   },
   "source": [
    "Q. 22-01\n",
    "\n",
    "['Banana', 'Apple', 'Strawberry']"
   ]
  },
  {
   "cell_type": "raw",
   "metadata": {
    "vscode": {
     "languageId": "raw"
    }
   },
   "source": [
    "Q. 22-02\n",
    "\n",
    "[10, 30, 50, 70, 90]"
   ]
  },
  {
   "cell_type": "raw",
   "metadata": {
    "vscode": {
     "languageId": "raw"
    }
   },
   "source": [
    "Q. 23-02\n",
    "\n",
    "[60, 70, 80, 90, 100]"
   ]
  },
  {
   "cell_type": "raw",
   "metadata": {
    "vscode": {
     "languageId": "raw"
    }
   },
   "source": [
    "Q. 24-01\n",
    "\n",
    "This algorithm of find_two() function finds the largest and smallest number in a list of numbers and returns index of largest and smallest number respectively.\n",
    "\n",
    "Output:\n",
    "59 11"
   ]
  },
  {
   "cell_type": "raw",
   "metadata": {
    "vscode": {
     "languageId": "raw"
    }
   },
   "source": [
    "Q. 24-02\n",
    "\n",
    "total number of comparisons: 11\n"
   ]
  },
  {
   "cell_type": "raw",
   "metadata": {
    "vscode": {
     "languageId": "raw"
    }
   },
   "source": [
    "Q. 25-01\n",
    "\n",
    "max = 100\n",
    "number = 51 \n",
    "\n",
    "Total 6 times are searched"
   ]
  },
  {
   "cell_type": "raw",
   "metadata": {
    "vscode": {
     "languageId": "raw"
    }
   },
   "source": [
    "Q. 25-02\n",
    "max = 100\n",
    "number = 25\n",
    "\n",
    "Total 2 times are searched"
   ]
  },
  {
   "cell_type": "raw",
   "metadata": {
    "vscode": {
     "languageId": "raw"
    }
   },
   "source": [
    "Q. 26-01\n",
    "\n",
    "1763 3"
   ]
  },
  {
   "cell_type": "raw",
   "metadata": {
    "vscode": {
     "languageId": "raw"
    }
   },
   "source": [
    "Q. 26-02\n",
    "\n",
    "3 - The Last Leaf, Alice in WonderLand\n",
    "4 - The Little Prince\n",
    "7 - Beauty and The Beast\n",
    "8 - The Little Mermaid\n",
    "9 - The Old Man and the Sea"
   ]
  },
  {
   "cell_type": "raw",
   "metadata": {},
   "source": []
  }
 ],
 "metadata": {
  "kernelspec": {
   "display_name": "base",
   "language": "python",
   "name": "python3"
  },
  "language_info": {
   "codemirror_mode": {
    "name": "ipython",
    "version": 3
   },
   "file_extension": ".py",
   "mimetype": "text/x-python",
   "name": "python",
   "nbconvert_exporter": "python",
   "pygments_lexer": "ipython3",
   "version": "3.11.7"
  }
 },
 "nbformat": 4,
 "nbformat_minor": 2
}
