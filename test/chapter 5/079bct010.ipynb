{
 "cells": [
  {
   "cell_type": "raw",
   "metadata": {
    "vscode": {
     "languageId": "raw"
    }
   },
   "source": [
    "Q. 27-01 \n",
    "\n",
    "4\n",
    "2\n",
    "2\n",
    "\n",
    "Total swaps = 8"
   ]
  },
  {
   "cell_type": "raw",
   "metadata": {
    "vscode": {
     "languageId": "raw"
    }
   },
   "source": [
    "Q. 27-02\n",
    "\n",
    "1\n",
    "2\n",
    "3\n",
    "4\n",
    "\n",
    "Total comparisons = 10\n"
   ]
  },
  {
   "cell_type": "raw",
   "metadata": {
    "vscode": {
     "languageId": "raw"
    }
   },
   "source": [
    "Q. 28-01\n",
    "\n",
    "5\n",
    "3\n",
    "1\n",
    "\n",
    "Total merge() execution = 9"
   ]
  },
  {
   "cell_type": "raw",
   "metadata": {
    "vscode": {
     "languageId": "raw"
    }
   },
   "source": [
    "Q. 29-01\n",
    "\n",
    "[15, 10, 12, 20, 25, 13, 22]\n",
    "\n",
    "After parition1():\n",
    "\n",
    "[13, 10, 12, 15, 25, 20, 22]"
   ]
  }
 ],
 "metadata": {
  "kernelspec": {
   "display_name": "base",
   "language": "python",
   "name": "python3"
  },
  "language_info": {
   "codemirror_mode": {
    "name": "ipython",
    "version": 3
   },
   "file_extension": ".py",
   "mimetype": "text/x-python",
   "name": "python",
   "nbconvert_exporter": "python",
   "pygments_lexer": "ipython3",
   "version": "3.11.7"
  }
 },
 "nbformat": 4,
 "nbformat_minor": 2
}
